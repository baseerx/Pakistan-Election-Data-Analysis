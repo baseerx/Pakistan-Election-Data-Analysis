{
  "nbformat": 4,
  "nbformat_minor": 0,
  "metadata": {
    "colab": {
      "provenance": [],
      "gpuType": "V28",
      "mount_file_id": "1qDLfThrk0FonZgznfn53R1b1DHnEdYtc",
      "authorship_tag": "ABX9TyNYW/Orm6oVid+O97iljMkV",
      "include_colab_link": true
    },
    "kernelspec": {
      "name": "python3",
      "display_name": "Python 3"
    },
    "language_info": {
      "name": "python"
    },
    "accelerator": "TPU"
  },
  "cells": [
    {
      "cell_type": "markdown",
      "metadata": {
        "id": "view-in-github",
        "colab_type": "text"
      },
      "source": [
        "<a href=\"https://colab.research.google.com/github/baseerx/Pakistan-Election-Data-Analysis/blob/main/election_analytics_pyspark.ipynb\" target=\"_parent\"><img src=\"https://colab.research.google.com/assets/colab-badge.svg\" alt=\"Open In Colab\"/></a>"
      ]
    },
    {
      "cell_type": "code",
      "execution_count": 78,
      "metadata": {
        "id": "PT3Jm1BhbIY2"
      },
      "outputs": [],
      "source": [
        "import pandas as pd\n",
        "import numpy as np\n",
        "import matplotlib.pyplot as plt\n",
        "import seaborn as sns\n",
        "import pyspark\n",
        "from pyspark.sql import SparkSession\n",
        "from google.colab import drive\n",
        "from pyspark.sql.functions import col, max, when,regexp_replace, col,count,sum as spark_sum,countDistinct,lit\n",
        "from pyspark.sql.types import FloatType\n",
        "import plotly.graph_objects as go\n",
        "import plotly.express as px\n",
        "from pyspark.sql.functions import collect_list\n",
        "\n"
      ]
    },
    {
      "cell_type": "markdown",
      "source": [
        "**Mount google drive and create spark session**\n"
      ],
      "metadata": {
        "id": "bhJ1OQFNjB4V"
      }
    },
    {
      "cell_type": "code",
      "source": [
        "drive.mount('/content/gdrive')\n",
        "\n",
        "\n",
        "spark = SparkSession.builder \\\n",
        "    .appName(\"ElectionData\") \\\n",
        "    .getOrCreate()"
      ],
      "metadata": {
        "colab": {
          "base_uri": "https://localhost:8080/"
        },
        "id": "EUB_OaTfgZW3",
        "outputId": "7f8aed8e-8c92-4fe6-dbbd-3b718d0a0070"
      },
      "execution_count": 56,
      "outputs": [
        {
          "output_type": "stream",
          "name": "stdout",
          "text": [
            "Mounted at /content/gdrive\n"
          ]
        }
      ]
    },
    {
      "cell_type": "markdown",
      "source": [
        "**Defining file paths**"
      ],
      "metadata": {
        "id": "YfY0oYXTjTTA"
      }
    },
    {
      "cell_type": "code",
      "source": [
        "# Define the file paths\n",
        "file_path_2002 = '/content/gdrive/MyDrive/Colab Notebooks/Data/National Assembly Result 2002.csv'\n",
        "file_path_2008 = '/content/gdrive/MyDrive/Colab Notebooks/Data/National Assembly Result 2008.csv'\n",
        "file_path_2013 = '/content/gdrive/MyDrive/Colab Notebooks/Data/National Assembly Result 2013.csv'\n",
        "file_path_2018 = '/content/gdrive/MyDrive/Colab Notebooks/Data/National Assembly Results 2018.csv'\n",
        "\n",
        "\n"
      ],
      "metadata": {
        "id": "HVn3jm_VgfEO"
      },
      "execution_count": 57,
      "outputs": []
    },
    {
      "cell_type": "markdown",
      "source": [
        "**Read the CSV - Loading Data**"
      ],
      "metadata": {
        "id": "T0ySXHFFjcez"
      }
    },
    {
      "cell_type": "code",
      "source": [
        "df02 = spark.read.csv(file_path_2002, header=True, inferSchema=True)\n",
        "df08 = spark.read.csv(file_path_2008, header=True, inferSchema=True)\n",
        "df13 = spark.read.csv(file_path_2013, header=True, inferSchema=True)\n",
        "df18 = spark.read.csv(file_path_2018, header=True, inferSchema=True)\n",
        "\n"
      ],
      "metadata": {
        "id": "dwqbD5vUiv08"
      },
      "execution_count": 58,
      "outputs": []
    },
    {
      "cell_type": "code",
      "source": [
        "df02.columns"
      ],
      "metadata": {
        "id": "cPZbJF4kjNXW",
        "colab": {
          "base_uri": "https://localhost:8080/"
        },
        "outputId": "07b0c5a3-5903-4dc2-c152-a1ad52ec3a1a"
      },
      "execution_count": 59,
      "outputs": [
        {
          "output_type": "execute_result",
          "data": {
            "text/plain": [
              "['District',\n",
              " 'Seat',\n",
              " 'Constituency_title',\n",
              " 'Candidate_Name',\n",
              " 'Party',\n",
              " 'Votes',\n",
              " 'Total_Valid_Votes',\n",
              " 'Total_Rejected_Votes',\n",
              " 'Total_Votes',\n",
              " 'Total_Registered_Voters',\n",
              " 'Turnout']"
            ]
          },
          "metadata": {},
          "execution_count": 59
        }
      ]
    },
    {
      "cell_type": "code",
      "source": [
        "# Assuming df02 is your PySpark DataFrame\n",
        "# Select the desired columns\n",
        "df02_selected = df02.select('Votes', 'Total_Valid_Votes', 'Total_Rejected_Votes')\n",
        "\n",
        "# Convert PySpark DataFrame to pandas DataFrame\n",
        "df02_pandas = df02_selected.toPandas()\n",
        "\n",
        "# Create the bar chart\n",
        "df02_pandas.plot(kind='bar')\n",
        "\n",
        "# Add title and labels\n",
        "plt.title('Votes, Total Valid Votes, and Total Rejected Votes (2002)')\n",
        "plt.xlabel('Category')\n",
        "plt.ylabel('Number of Votes')\n",
        "\n",
        "# Rotate x-axis labels for better readability\n",
        "plt.xticks(rotation=45)\n",
        "\n",
        "# Display the plot\n",
        "plt.show()\n"
      ],
      "metadata": {
        "id": "Jqnznps3kSdl",
        "colab": {
          "base_uri": "https://localhost:8080/",
          "height": 493
        },
        "outputId": "4c5b5667-3f48-4c30-a047-099bbe0e60a4"
      },
      "execution_count": 60,
      "outputs": [
        {
          "output_type": "display_data",
          "data": {
            "text/plain": [
              "<Figure size 640x480 with 1 Axes>"
            ],
            "image/png": "[encoded data removed]"
          },
          "metadata": {}
        }
      ]
    },
    {
      "cell_type": "markdown",
      "source": [
        "**Displaying shapes of all dataframes**\n"
      ],
      "metadata": {
        "id": "R4cQKiblmE3G"
      }
    },
    {
      "cell_type": "code",
      "source": [
        "# prompt: display shapes of all dfs\n",
        "\n",
        "print(f\"df02 shape: {df02.count()}, {len(df02.columns)}\")\n",
        "print(f\"df08 shape: {df08.count()}, {len(df08.columns)}\")\n",
        "print(f\"df13 shape: {df13.count()}, {len(df13.columns)}\")\n",
        "print(f\"df18 shape: {df18.count()}, {len(df18.columns)}\")\n"
      ],
      "metadata": {
        "colab": {
          "base_uri": "https://localhost:8080/"
        },
        "id": "ScPwj-WQmAWx",
        "outputId": "4b5d0db2-795e-49ba-e58d-89551fc0dc0e"
      },
      "execution_count": 61,
      "outputs": [
        {
          "output_type": "stream",
          "name": "stdout",
          "text": [
            "df02 shape: 1793, 11\n",
            "df08 shape: 2316, 11\n",
            "df13 shape: 4542, 12\n",
            "df18 shape: 3428, 12\n"
          ]
        }
      ]
    },
    {
      "cell_type": "markdown",
      "source": [
        "**Columns Transformation**"
      ],
      "metadata": {
        "id": "5O-vZxhyn2P-"
      }
    },
    {
      "cell_type": "code",
      "source": [
        "# prompt: remove _ from df02 and df18 column names and concat\n",
        "\n",
        "# Remove underscores from column names in df02 and df18\n",
        "df02 = df02.toDF(*[c.replace(\"_\", \"\") for c in df02.columns])\n",
        "df18 = df18.toDF(*[c.replace(\"_\", \"\") for c in df18.columns])\n",
        "\n",
        "\n"
      ],
      "metadata": {
        "id": "-Z6mW-SZmt0N"
      },
      "execution_count": 62,
      "outputs": []
    },
    {
      "cell_type": "code",
      "source": [
        "# prompt: displaying info of all dataframes\n",
        "\n",
        "df02.printSchema()\n",
        "df08.printSchema()\n",
        "df13.printSchema()\n",
        "df18.printSchema()\n"
      ],
      "metadata": {
        "colab": {
          "base_uri": "https://localhost:8080/"
        },
        "id": "YFqr-wxOmhnt",
        "outputId": "b4cccb3a-9518-464c-bf62-29980f4072fc"
      },
      "execution_count": 63,
      "outputs": [
        {
          "output_type": "stream",
          "name": "stdout",
          "text": [
            "root\n",
            " |-- District: string (nullable = true)\n",
            " |-- Seat: string (nullable = true)\n",
            " |-- Constituencytitle: string (nullable = true)\n",
            " |-- CandidateName: string (nullable = true)\n",
            " |-- Party: string (nullable = true)\n",
            " |-- Votes: integer (nullable = true)\n",
            " |-- TotalValidVotes: integer (nullable = true)\n",
            " |-- TotalRejectedVotes: integer (nullable = true)\n",
            " |-- TotalVotes: integer (nullable = true)\n",
            " |-- TotalRegisteredVoters: integer (nullable = true)\n",
            " |-- Turnout: double (nullable = true)\n",
            "\n",
            "root\n",
            " |-- _c0: integer (nullable = true)\n",
            " |-- Seat: string (nullable = true)\n",
            " |-- ConstituencyTitle: string (nullable = true)\n",
            " |-- CandidateName: string (nullable = true)\n",
            " |-- Party: string (nullable = true)\n",
            " |-- Votes: integer (nullable = true)\n",
            " |-- TotalValidVotes: integer (nullable = true)\n",
            " |-- TotalRejectedVotes: integer (nullable = true)\n",
            " |-- TotalVotes: integer (nullable = true)\n",
            " |-- TotalRegisteredVoters: integer (nullable = true)\n",
            " |-- Turnout: string (nullable = true)\n",
            "\n",
            "root\n",
            " |-- _c0: integer (nullable = true)\n",
            " |-- Seat: string (nullable = true)\n",
            " |-- ConstituencyTitle: string (nullable = true)\n",
            " |-- CandidateName: string (nullable = true)\n",
            " |-- Party: string (nullable = true)\n",
            " |-- Votes: string (nullable = true)\n",
            " |-- TotalValidVotes: integer (nullable = true)\n",
            " |-- TotalRejectedVotes: integer (nullable = true)\n",
            " |-- TotalVotes: integer (nullable = true)\n",
            " |-- TotalRegisteredVoters: integer (nullable = true)\n",
            " |-- Turnout: string (nullable = true)\n",
            " |-- _c11: string (nullable = true)\n",
            "\n",
            "root\n",
            " |-- c0: integer (nullable = true)\n",
            " |-- district: string (nullable = true)\n",
            " |-- Seat: string (nullable = true)\n",
            " |-- ConstituencyTitle: string (nullable = true)\n",
            " |-- CandidateName: string (nullable = true)\n",
            " |-- Part: string (nullable = true)\n",
            " |-- Votes: integer (nullable = true)\n",
            " |-- TotalValidVotes: integer (nullable = true)\n",
            " |-- TotalRejectedVotes: integer (nullable = true)\n",
            " |-- TotalVotes: integer (nullable = true)\n",
            " |-- TotalRegisteredVoters: integer (nullable = true)\n",
            " |-- Turnout: string (nullable = true)\n",
            "\n"
          ]
        }
      ]
    },
    {
      "cell_type": "code",
      "source": [
        "# prompt: show only the following columns from DFs\n",
        "\n",
        "# Select the desired columns from each dataframe\n",
        "df02_selected = df02.select('TotalRegisteredVoters','TotalVotes','Votes', 'TotalValidVotes', 'TotalRejectedVotes','Turnout')\n",
        "df08_selected = df08.select('TotalRegisteredVoters','TotalVotes','Votes', 'TotalValidVotes', 'TotalRejectedVotes','Turnout')\n",
        "df13_selected = df13.select('TotalRegisteredVoters','TotalVotes','Votes', 'TotalValidVotes', 'TotalRejectedVotes','Turnout')\n",
        "df18_selected = df18.select('TotalRegisteredVoters','TotalVotes','Votes', 'TotalValidVotes', 'TotalRejectedVotes','Turnout')\n",
        "\n",
        "# Display the selected columns\n",
        "print(\"df02_selected:\")\n",
        "df02_selected.show()\n",
        "\n",
        "print(\"df08_selected:\")\n",
        "df08_selected.show()\n",
        "\n",
        "print(\"df13_selected:\")\n",
        "df13_selected.show()\n",
        "\n",
        "print(\"df18_selected:\")\n",
        "df18_selected.show()"
      ],
      "metadata": {
        "colab": {
          "base_uri": "https://localhost:8080/"
        },
        "outputId": "79151a68-ca2a-45ab-d04b-742ed9c74869",
        "collapsed": true,
        "id": "nSSz5jwJonwg"
      },
      "execution_count": 64,
      "outputs": [
        {
          "output_type": "stream",
          "name": "stdout",
          "text": [
            "df02_selected:\n",
            "+---------------------+----------+-----+---------------+------------------+-------+\n",
            "|TotalRegisteredVoters|TotalVotes|Votes|TotalValidVotes|TotalRejectedVotes|Turnout|\n",
            "+---------------------+----------+-----+---------------+------------------+-------+\n",
            "|               233907|     67194| 2029|          65642|              1552|  28.73|\n",
            "|               233907|     67194|37179|          65642|              1552|  28.73|\n",
            "|               233907|     67194|23002|          65642|              1552|  28.73|\n",
            "|               233907|     67194| 1537|          65642|              1552|  28.73|\n",
            "|               233907|     67194| 1417|          65642|              1552|  28.73|\n",
            "|               216587|     57367|15771|          56000|              1367|  26.49|\n",
            "|               216587|     57367|  926|          56000|              1367|  26.49|\n",
            "|               216587|     57367|37728|          56000|              1367|  26.49|\n",
            "|               226299|     69312| 8838|          67357|              1955|  30.63|\n",
            "|               226299|     69312| 5956|          67357|              1955|  30.63|\n",
            "|               226299|     69312|  748|          67357|              1955|  30.63|\n",
            "|               226299|     69312|33567|          67357|              1955|  30.63|\n",
            "|               226299|     69312|14662|          67357|              1955|  30.63|\n",
            "|               226299|     69312| 3403|          67357|              1955|  30.63|\n",
            "|               222276|     65823|16660|          63597|              2226|  29.61|\n",
            "|               222276|     65823| 6266|          63597|              2226|  29.61|\n",
            "|               222276|     65823| 4887|          63597|              2226|  29.61|\n",
            "|               222276|     65823| 4500|          63597|              2226|  29.61|\n",
            "|               222276|     65823| 2556|          63597|              2226|  29.61|\n",
            "|               206271|     77165|11944|          75012|              2153|  37.41|\n",
            "+---------------------+----------+-----+---------------+------------------+-------+\n",
            "only showing top 20 rows\n",
            "\n",
            "df08_selected:\n",
            "+---------------------+----------+-----+---------------+------------------+-------+\n",
            "|TotalRegisteredVoters|TotalVotes|Votes|TotalValidVotes|TotalRejectedVotes|Turnout|\n",
            "+---------------------+----------+-----+---------------+------------------+-------+\n",
            "|               387083|     88913|  313|          88325|               629|22.97 %|\n",
            "|               387083|     88913|  156|          88325|               629|22.97 %|\n",
            "|               387083|     88913|  261|          88325|               629|22.97 %|\n",
            "|               387083|     88913|37682|          88325|               629|22.97 %|\n",
            "|               387083|     88913|  184|          88325|               629|22.97 %|\n",
            "|               387083|     88913| 4103|          88325|               629|22.97 %|\n",
            "|               387083|     88913|44210|          88325|               629|22.97 %|\n",
            "|               387083|     88913|  247|          88325|               629|22.97 %|\n",
            "|               387083|     88913|  232|          88325|               629|22.97 %|\n",
            "|               387083|     88913|   54|          88325|               629|22.97 %|\n",
            "|               387083|     88913|   71|          88325|               629|22.97 %|\n",
            "|               387083|     88913|  151|          88325|               629|22.97 %|\n",
            "|               387083|     88913|  661|          88325|               629|22.97 %|\n",
            "|               314904|     77892|23992|          76293|              2003|24.73 %|\n",
            "|               314904|     77892| 5326|          76293|              2003|24.73 %|\n",
            "|               314904|     77892|34443|          76293|              2003|24.73 %|\n",
            "|               314904|     77892|  210|          76293|              2003|24.73 %|\n",
            "|               314904|     77892|  139|          76293|              2003|24.73 %|\n",
            "|               314904|     77892| 1560|          76293|              2003|24.73 %|\n",
            "|               314904|     77892| 7346|          76293|              2003|24.73 %|\n",
            "+---------------------+----------+-----+---------------+------------------+-------+\n",
            "only showing top 20 rows\n",
            "\n",
            "df13_selected:\n",
            "+---------------------+----------+-----+---------------+------------------+-------+\n",
            "|TotalRegisteredVoters|TotalVotes|Votes|TotalValidVotes|TotalRejectedVotes|Turnout|\n",
            "+---------------------+----------+-----+---------------+------------------+-------+\n",
            "|               320578|    146044|   77|         145924|              2103| 46.18%|\n",
            "|               320578|    146044|  182|         145924|              2103|46.18 %|\n",
            "|               320578|    146044|24468|         145924|              2103|46.18 %|\n",
            "|               320578|    146044|  454|         145924|              2103|46.18 %|\n",
            "|               320578|    146044|  117|         145924|              2103|46.18 %|\n",
            "|               320578|    146044| 4738|         145924|              2103|46.18 %|\n",
            "|               320578|    146044| 4827|         145924|              2103| 46.18%|\n",
            "|               320578|    146044|   61|         145924|              2103|46.18 %|\n",
            "|               320578|    146044|90500|         145924|              2103|46.18 %|\n",
            "|               320578|    146044| 1694|         145924|              2103|46.18 %|\n",
            "|               320578|    146044|   70|         145924|              2103|46.18 %|\n",
            "|               320578|    146044|   42|         145924|              2103|46.18 %|\n",
            "|               320578|    146044| 4232|         145924|              2103|46.18 %|\n",
            "|               320578|    146044| 7121|         145924|              2103|46.18 %|\n",
            "|               320578|    146044|  265|         145924|              2103|46.18 %|\n",
            "|               320578|    146044| 7051|         145924|              2103|46.18 %|\n",
            "|               320578|    146044|  100|         145924|              2103|46.18 %|\n",
            "|               320578|    146044|   45|         145924|              2103|46.18 %|\n",
            "|               336122|    142031|   61|         141790|              2408|43.45 %|\n",
            "|               336122|    142031| 5159|         141790|              2408|43.45 %|\n",
            "+---------------------+----------+-----+---------------+------------------+-------+\n",
            "only showing top 20 rows\n",
            "\n",
            "df18_selected:\n",
            "+---------------------+----------+-----+---------------+------------------+-------+\n",
            "|TotalRegisteredVoters|TotalVotes|Votes|TotalValidVotes|TotalRejectedVotes|Turnout|\n",
            "+---------------------+----------+-----+---------------+------------------+-------+\n",
            "|               269579|    164355|48616|         158925|              5430|60.97 %|\n",
            "|                    0|         0| 3223|              0|                 0|60.97 %|\n",
            "|                    0|         0|  698|              0|                 0|60.97 %|\n",
            "|                    0|         0| 2414|              0|                 0|60.97 %|\n",
            "|                    0|         0| 3613|              0|                 0|60.97 %|\n",
            "|                    0|         0| 6755|              0|                 0|60.97 %|\n",
            "|                    0|         0|  681|              0|                 0|60.97 %|\n",
            "|                    0|         0|38481|              0|                 0|60.97 %|\n",
            "|                    0|         0|21016|              0|                 0|60.97 %|\n",
            "|                    0|         0|  793|              0|                 0|60.97 %|\n",
            "|                    0|         0|32635|              0|                 0|60.97 %|\n",
            "|               382974|    165781|61687|         157060|              8721|43.29 %|\n",
            "|                    0|         0| 3381|              0|                 0|43.29 %|\n",
            "|                    0|         0|  165|              0|                 0|43.29 %|\n",
            "|                    0|         0|  148|              0|                 0|43.29 %|\n",
            "|                    0|         0|  453|              0|                 0|43.29 %|\n",
            "|                    0|         0|14618|              0|                 0|43.29 %|\n",
            "|                    0|         0|41125|              0|                 0|43.29 %|\n",
            "|                    0|         0| 1410|              0|                 0|43.29 %|\n",
            "|                    0|         0|18055|              0|                 0|43.29 %|\n",
            "+---------------------+----------+-----+---------------+------------------+-------+\n",
            "only showing top 20 rows\n",
            "\n"
          ]
        }
      ]
    },
    {
      "cell_type": "markdown",
      "source": [
        "**Cleaning the Turnout column from special chars**\n",
        "\n",
        "> Add blockquote\n",
        "\n"
      ],
      "metadata": {
        "id": "PKjTbSIIp9wj"
      }
    },
    {
      "cell_type": "code",
      "source": [
        "# List of selected DataFrames\n",
        "dfs = [df02_selected, df08_selected, df13_selected, df18_selected]\n",
        "\n",
        "# Regular expression patterns to remove special characters and percentages\n",
        "pattern = r'[^0-9.]'  # This pattern removes anything that's not a digit or a period\n",
        "\n",
        "# Loop through each DataFrame and clean the Turnout column\n",
        "for i in range(len(dfs)):\n",
        "    # Clean the Turnout column by removing special characters and percentages\n",
        "    dfs[i] = dfs[i].withColumn('Turnout', regexp_replace(col('Turnout'), pattern, ''))\n",
        "\n",
        "    # Convert the cleaned Turnout column to a float\n",
        "    dfs[i] = dfs[i].withColumn('Turnout', col('Turnout').cast('float'))\n",
        "\n",
        "    # Remove values greater than 100 from the Turnout column\n",
        "    dfs[i] = dfs[i].filter(col('Turnout') <= 100)\n",
        "\n"
      ],
      "metadata": {
        "id": "Z9XVFOdUqQyj"
      },
      "execution_count": 65,
      "outputs": []
    },
    {
      "cell_type": "code",
      "source": [
        "# Display the 'Turnout' column values from the first DataFrame\n",
        "dfs[0].select('Turnout').show()\n"
      ],
      "metadata": {
        "colab": {
          "base_uri": "https://localhost:8080/"
        },
        "id": "gdfvbuqRvdD3",
        "outputId": "3246ae74-62c0-46ee-e817-cc0e370cd5f4"
      },
      "execution_count": 66,
      "outputs": [
        {
          "output_type": "stream",
          "name": "stdout",
          "text": [
            "+-------+\n",
            "|Turnout|\n",
            "+-------+\n",
            "|  28.73|\n",
            "|  28.73|\n",
            "|  28.73|\n",
            "|  28.73|\n",
            "|  28.73|\n",
            "|  26.49|\n",
            "|  26.49|\n",
            "|  26.49|\n",
            "|  30.63|\n",
            "|  30.63|\n",
            "|  30.63|\n",
            "|  30.63|\n",
            "|  30.63|\n",
            "|  30.63|\n",
            "|  29.61|\n",
            "|  29.61|\n",
            "|  29.61|\n",
            "|  29.61|\n",
            "|  29.61|\n",
            "|  37.41|\n",
            "+-------+\n",
            "only showing top 20 rows\n",
            "\n"
          ]
        }
      ]
    },
    {
      "cell_type": "code",
      "source": [
        "# Define the number of decimal places for rounding\n",
        "decimal_places = 2  # You can change this value to the desired number of decimal places\n",
        "\n",
        "# Pick the maximum value from the 'Turnout' column and round off the decimal values\n",
        "max_turnout_df0 = round(dfs[0].agg({'Turnout': 'max'}).collect()[0][0], decimal_places)\n",
        "print(\"Maximum Turnout value from the first DataFrame - election 2002:\", max_turnout_df0)\n",
        "\n",
        "max_turnout_df1 = round(dfs[1].agg({'Turnout': 'max'}).collect()[0][0], decimal_places)\n",
        "print(\"Maximum Turnout value from the first DataFrame - election 2008:\", max_turnout_df1)\n",
        "\n",
        "max_turnout_df2 = round(dfs[2].agg({'Turnout': 'max'}).collect()[0][0], decimal_places)\n",
        "print(\"Maximum Turnout value from the first DataFrame - election 2013:\", max_turnout_df2)\n",
        "\n",
        "max_turnout_df3 = round(dfs[3].agg({'Turnout': 'max'}).collect()[0][0], decimal_places)\n",
        "print(\"Maximum Turnout value from the first DataFrame - election 2018:\", max_turnout_df3)\n"
      ],
      "metadata": {
        "colab": {
          "base_uri": "https://localhost:8080/"
        },
        "id": "ikBPih0wv8-1",
        "outputId": "50715cba-63ed-4021-9da9-7eccdc5ccff2"
      },
      "execution_count": 67,
      "outputs": [
        {
          "output_type": "stream",
          "name": "stdout",
          "text": [
            "Maximum Turnout value from the first DataFrame - election 2002: 62.84\n",
            "Maximum Turnout value from the first DataFrame - election 2008: 67.0\n",
            "Maximum Turnout value from the first DataFrame - election 2013: 84.77\n",
            "Maximum Turnout value from the first DataFrame - election 2018: 70.91\n"
          ]
        }
      ]
    },
    {
      "cell_type": "code",
      "source": [
        "\n",
        "\n",
        "# Maximum Turnout values\n",
        "max_turnouts = [max_turnout_df0, max_turnout_df1, max_turnout_df2, max_turnout_df3]\n",
        "election_years = ['2002', '2008', '2013', '2018']\n",
        "\n",
        "# Create a bar chart\n",
        "fig = go.Figure(data=[go.Bar(x=election_years, y=max_turnouts)])\n",
        "\n",
        "# Update layout\n",
        "fig.update_layout(title='Maximum Turnout Values by Election Year',\n",
        "                  xaxis_title='Election Year',\n",
        "                  yaxis_title='Maximum Turnout',\n",
        "                  yaxis_tickformat=\".2f%\",  # Display y-axis as percentage with 2 decimal places\n",
        "                  )\n",
        "\n",
        "# Show the plot\n",
        "fig.show()\n",
        "\n",
        "\n"
      ],
      "metadata": {
        "colab": {
          "base_uri": "https://localhost:8080/",
          "height": 542
        },
        "id": "QQ9tLGS9vbEB",
        "outputId": "da110cf3-a2b1-4a8f-8c2e-921f65c65bdd"
      },
      "execution_count": 68,
      "outputs": [
        {
          "output_type": "display_data",
          "data": {
            "text/html": [
              "<html>\n",
              "<head><meta charset=\"utf-8\" /></head>\n",
              "<body>\n",
              "    <div>            <script src=\"https://cdnjs.cloudflare.com/ajax/libs/mathjax/2.7.5/MathJax.js?config=TeX-AMS-MML_SVG\"></script><script type=\"text/javascript\">if (window.MathJax && window.MathJax.Hub && window.MathJax.Hub.Config) {window.MathJax.Hub.Config({SVG: {font: \"STIX-Web\"}});}</script>                <script type=\"text/javascript\">window.PlotlyConfig = {MathJaxConfig: 'local'};</script>\n",
              "        <script charset=\"utf-8\" src=\"https://cdn.plot.ly/plotly-2.24.1.min.js\"></script>                <div id=\"0c9ab4c5-d9f1-45e1-b6f9-570d5d0eeddf\" class=\"plotly-graph-div\" style=\"height:525px; width:100%;\"></div>            <script type=\"text/javascript\">                                    window.PLOTLYENV=window.PLOTLYENV || {};                                    if (document.getElementById(\"0c9ab4c5-d9f1-45e1-b6f9-570d5d0eeddf\")) {                    Plotly.newPlot(                        \"0c9ab4c5-d9f1-45e1-b6f9-570d5d0eeddf\",                        [{\"x\":[\"2002\",\"2008\",\"2013\",\"2018\"],\"y\":[62.84,67.0,84.77,70.91],\"type\":\"bar\"}],                        {\"template\":{\"data\":{\"histogram2dcontour\":[{\"type\":\"histogram2dcontour\",\"colorbar\":{\"outlinewidth\":0,\"ticks\":\"\"},\"colorscale\":[[0.0,\"#0d0887\"],[0.1111111111111111,\"#46039f\"],[0.2222222222222222,\"#7201a8\"],[0.3333333333333333,\"#9c179e\"],[0.4444444444444444,\"#bd3786\"],[0.5555555555555556,\"#d8576b\"],[0.6666666666666666,\"#ed7953\"],[0.7777777777777778,\"#fb9f3a\"],[0.8888888888888888,\"#fdca26\"],[1.0,\"#f0f921\"]]}],\"choropleth\":[{\"type\":\"choropleth\",\"colorbar\":{\"outlinewidth\":0,\"ticks\":\"\"}}],\"histogram2d\":[{\"type\":\"histogram2d\",\"colorbar\":{\"outlinewidth\":0,\"ticks\":\"\"},\"colorscale\":[[0.0,\"#0d0887\"],[0.1111111111111111,\"#46039f\"],[0.2222222222222222,\"#7201a8\"],[0.3333333333333333,\"#9c179e\"],[0.4444444444444444,\"#bd3786\"],[0.5555555555555556,\"#d8576b\"],[0.6666666666666666,\"#ed7953\"],[0.7777777777777778,\"#fb9f3a\"],[0.8888888888888888,\"#fdca26\"],[1.0,\"#f0f921\"]]}],\"heatmap\":[{\"type\":\"heatmap\",\"colorbar\":{\"outlinewidth\":0,\"ticks\":\"\"},\"colorscale\":[[0.0,\"#0d0887\"],[0.1111111111111111,\"#46039f\"],[0.2222222222222222,\"#7201a8\"],[0.3333333333333333,\"#9c179e\"],[0.4444444444444444,\"#bd3786\"],[0.5555555555555556,\"#d8576b\"],[0.6666666666666666,\"#ed7953\"],[0.7777777777777778,\"#fb9f3a\"],[0.8888888888888888,\"#fdca26\"],[1.0,\"#f0f921\"]]}],\"heatmapgl\":[{\"type\":\"heatmapgl\",\"colorbar\":{\"outlinewidth\":0,\"ticks\":\"\"},\"colorscale\":[[0.0,\"#0d0887\"],[0.1111111111111111,\"#46039f\"],[0.2222222222222222,\"#7201a8\"],[0.3333333333333333,\"#9c179e\"],[0.4444444444444444,\"#bd3786\"],[0.5555555555555556,\"#d8576b\"],[0.6666666666666666,\"#ed7953\"],[0.7777777777777778,\"#fb9f3a\"],[0.8888888888888888,\"#fdca26\"],[1.0,\"#f0f921\"]]}],\"contourcarpet\":[{\"type\":\"contourcarpet\",\"colorbar\":{\"outlinewidth\":0,\"ticks\":\"\"}}],\"contour\":[{\"type\":\"contour\",\"colorbar\":{\"outlinewidth\":0,\"ticks\":\"\"},\"colorscale\":[[0.0,\"#0d0887\"],[0.1111111111111111,\"#46039f\"],[0.2222222222222222,\"#7201a8\"],[0.3333333333333333,\"#9c179e\"],[0.4444444444444444,\"#bd3786\"],[0.5555555555555556,\"#d8576b\"],[0.6666666666666666,\"#ed7953\"],[0.7777777777777778,\"#fb9f3a\"],[0.8888888888888888,\"#fdca26\"],[1.0,\"#f0f921\"]]}],\"surface\":[{\"type\":\"surface\",\"colorbar\":{\"outlinewidth\":0,\"ticks\":\"\"},\"colorscale\":[[0.0,\"#0d0887\"],[0.1111111111111111,\"#46039f\"],[0.2222222222222222,\"#7201a8\"],[0.3333333333333333,\"#9c179e\"],[0.4444444444444444,\"#bd3786\"],[0.5555555555555556,\"#d8576b\"],[0.6666666666666666,\"#ed7953\"],[0.7777777777777778,\"#fb9f3a\"],[0.8888888888888888,\"#fdca26\"],[1.0,\"#f0f921\"]]}],\"mesh3d\":[{\"type\":\"mesh3d\",\"colorbar\":{\"outlinewidth\":0,\"ticks\":\"\"}}],\"scatter\":[{\"fillpattern\":{\"fillmode\":\"overlay\",\"size\":10,\"solidity\":0.2},\"type\":\"scatter\"}],\"parcoords\":[{\"type\":\"parcoords\",\"line\":{\"colorbar\":{\"outlinewidth\":0,\"ticks\":\"\"}}}],\"scatterpolargl\":[{\"type\":\"scatterpolargl\",\"marker\":{\"colorbar\":{\"outlinewidth\":0,\"ticks\":\"\"}}}],\"bar\":[{\"error_x\":{\"color\":\"#2a3f5f\"},\"error_y\":{\"color\":\"#2a3f5f\"},\"marker\":{\"line\":{\"color\":\"#E5ECF6\",\"width\":0.5},\"pattern\":{\"fillmode\":\"overlay\",\"size\":10,\"solidity\":0.2}},\"type\":\"bar\"}],\"scattergeo\":[{\"type\":\"scattergeo\",\"marker\":{\"colorbar\":{\"outlinewidth\":0,\"ticks\":\"\"}}}],\"scatterpolar\":[{\"type\":\"scatterpolar\",\"marker\":{\"colorbar\":{\"outlinewidth\":0,\"ticks\":\"\"}}}],\"histogram\":[{\"marker\":{\"pattern\":{\"fillmode\":\"overlay\",\"size\":10,\"solidity\":0.2}},\"type\":\"histogram\"}],\"scattergl\":[{\"type\":\"scattergl\",\"marker\":{\"colorbar\":{\"outlinewidth\":0,\"ticks\":\"\"}}}],\"scatter3d\":[{\"type\":\"scatter3d\",\"line\":{\"colorbar\":{\"outlinewidth\":0,\"ticks\":\"\"}},\"marker\":{\"colorbar\":{\"outlinewidth\":0,\"ticks\":\"\"}}}],\"scattermapbox\":[{\"type\":\"scattermapbox\",\"marker\":{\"colorbar\":{\"outlinewidth\":0,\"ticks\":\"\"}}}],\"scatterternary\":[{\"type\":\"scatterternary\",\"marker\":{\"colorbar\":{\"outlinewidth\":0,\"ticks\":\"\"}}}],\"scattercarpet\":[{\"type\":\"scattercarpet\",\"marker\":{\"colorbar\":{\"outlinewidth\":0,\"ticks\":\"\"}}}],\"carpet\":[{\"aaxis\":{\"endlinecolor\":\"#2a3f5f\",\"gridcolor\":\"white\",\"linecolor\":\"white\",\"minorgridcolor\":\"white\",\"startlinecolor\":\"#2a3f5f\"},\"baxis\":{\"endlinecolor\":\"#2a3f5f\",\"gridcolor\":\"white\",\"linecolor\":\"white\",\"minorgridcolor\":\"white\",\"startlinecolor\":\"#2a3f5f\"},\"type\":\"carpet\"}],\"table\":[{\"cells\":{\"fill\":{\"color\":\"#EBF0F8\"},\"line\":{\"color\":\"white\"}},\"header\":{\"fill\":{\"color\":\"#C8D4E3\"},\"line\":{\"color\":\"white\"}},\"type\":\"table\"}],\"barpolar\":[{\"marker\":{\"line\":{\"color\":\"#E5ECF6\",\"width\":0.5},\"pattern\":{\"fillmode\":\"overlay\",\"size\":10,\"solidity\":0.2}},\"type\":\"barpolar\"}],\"pie\":[{\"automargin\":true,\"type\":\"pie\"}]},\"layout\":{\"autotypenumbers\":\"strict\",\"colorway\":[\"#636efa\",\"#EF553B\",\"#00cc96\",\"#ab63fa\",\"#FFA15A\",\"#19d3f3\",\"#FF6692\",\"#B6E880\",\"#FF97FF\",\"#FECB52\"],\"font\":{\"color\":\"#2a3f5f\"},\"hovermode\":\"closest\",\"hoverlabel\":{\"align\":\"left\"},\"paper_bgcolor\":\"white\",\"plot_bgcolor\":\"#E5ECF6\",\"polar\":{\"bgcolor\":\"#E5ECF6\",\"angularaxis\":{\"gridcolor\":\"white\",\"linecolor\":\"white\",\"ticks\":\"\"},\"radialaxis\":{\"gridcolor\":\"white\",\"linecolor\":\"white\",\"ticks\":\"\"}},\"ternary\":{\"bgcolor\":\"#E5ECF6\",\"aaxis\":{\"gridcolor\":\"white\",\"linecolor\":\"white\",\"ticks\":\"\"},\"baxis\":{\"gridcolor\":\"white\",\"linecolor\":\"white\",\"ticks\":\"\"},\"caxis\":{\"gridcolor\":\"white\",\"linecolor\":\"white\",\"ticks\":\"\"}},\"coloraxis\":{\"colorbar\":{\"outlinewidth\":0,\"ticks\":\"\"}},\"colorscale\":{\"sequential\":[[0.0,\"#0d0887\"],[0.1111111111111111,\"#46039f\"],[0.2222222222222222,\"#7201a8\"],[0.3333333333333333,\"#9c179e\"],[0.4444444444444444,\"#bd3786\"],[0.5555555555555556,\"#d8576b\"],[0.6666666666666666,\"#ed7953\"],[0.7777777777777778,\"#fb9f3a\"],[0.8888888888888888,\"#fdca26\"],[1.0,\"#f0f921\"]],\"sequentialminus\":[[0.0,\"#0d0887\"],[0.1111111111111111,\"#46039f\"],[0.2222222222222222,\"#7201a8\"],[0.3333333333333333,\"#9c179e\"],[0.4444444444444444,\"#bd3786\"],[0.5555555555555556,\"#d8576b\"],[0.6666666666666666,\"#ed7953\"],[0.7777777777777778,\"#fb9f3a\"],[0.8888888888888888,\"#fdca26\"],[1.0,\"#f0f921\"]],\"diverging\":[[0,\"#8e0152\"],[0.1,\"#c51b7d\"],[0.2,\"#de77ae\"],[0.3,\"#f1b6da\"],[0.4,\"#fde0ef\"],[0.5,\"#f7f7f7\"],[0.6,\"#e6f5d0\"],[0.7,\"#b8e186\"],[0.8,\"#7fbc41\"],[0.9,\"#4d9221\"],[1,\"#276419\"]]},\"xaxis\":{\"gridcolor\":\"white\",\"linecolor\":\"white\",\"ticks\":\"\",\"title\":{\"standoff\":15},\"zerolinecolor\":\"white\",\"automargin\":true,\"zerolinewidth\":2},\"yaxis\":{\"gridcolor\":\"white\",\"linecolor\":\"white\",\"ticks\":\"\",\"title\":{\"standoff\":15},\"zerolinecolor\":\"white\",\"automargin\":true,\"zerolinewidth\":2},\"scene\":{\"xaxis\":{\"backgroundcolor\":\"#E5ECF6\",\"gridcolor\":\"white\",\"linecolor\":\"white\",\"showbackground\":true,\"ticks\":\"\",\"zerolinecolor\":\"white\",\"gridwidth\":2},\"yaxis\":{\"backgroundcolor\":\"#E5ECF6\",\"gridcolor\":\"white\",\"linecolor\":\"white\",\"showbackground\":true,\"ticks\":\"\",\"zerolinecolor\":\"white\",\"gridwidth\":2},\"zaxis\":{\"backgroundcolor\":\"#E5ECF6\",\"gridcolor\":\"white\",\"linecolor\":\"white\",\"showbackground\":true,\"ticks\":\"\",\"zerolinecolor\":\"white\",\"gridwidth\":2}},\"shapedefaults\":{\"line\":{\"color\":\"#2a3f5f\"}},\"annotationdefaults\":{\"arrowcolor\":\"#2a3f5f\",\"arrowhead\":0,\"arrowwidth\":1},\"geo\":{\"bgcolor\":\"white\",\"landcolor\":\"#E5ECF6\",\"subunitcolor\":\"white\",\"showland\":true,\"showlakes\":true,\"lakecolor\":\"white\"},\"title\":{\"x\":0.05},\"mapbox\":{\"style\":\"light\"}}},\"yaxis\":{\"title\":{\"text\":\"Maximum Turnout\"},\"tickformat\":\".2f%\"},\"title\":{\"text\":\"Maximum Turnout Values by Election Year\"},\"xaxis\":{\"title\":{\"text\":\"Election Year\"}}},                        {\"responsive\": true}                    ).then(function(){\n",
              "                            \n",
              "var gd = document.getElementById('0c9ab4c5-d9f1-45e1-b6f9-570d5d0eeddf');\n",
              "var x = new MutationObserver(function (mutations, observer) {{\n",
              "        var display = window.getComputedStyle(gd).display;\n",
              "        if (!display || display === 'none') {{\n",
              "            console.log([gd, 'removed!']);\n",
              "            Plotly.purge(gd);\n",
              "            observer.disconnect();\n",
              "        }}\n",
              "}});\n",
              "\n",
              "// Listen for the removal of the full notebook cells\n",
              "var notebookContainer = gd.closest('#notebook-container');\n",
              "if (notebookContainer) {{\n",
              "    x.observe(notebookContainer, {childList: true});\n",
              "}}\n",
              "\n",
              "// Listen for the clearing of the current output cell\n",
              "var outputEl = gd.closest('.output');\n",
              "if (outputEl) {{\n",
              "    x.observe(outputEl, {childList: true});\n",
              "}}\n",
              "\n",
              "                        })                };                            </script>        </div>\n",
              "</body>\n",
              "</html>"
            ]
          },
          "metadata": {}
        }
      ]
    },
    {
      "cell_type": "code",
      "source": [
        "df13 = df13.withColumn('Turnout', when(df13['Turnout'].isNull() | (df13['Turnout'] == ''), 0).otherwise(df13['Turnout']))\n"
      ],
      "metadata": {
        "id": "z17f4OYnzp7T"
      },
      "execution_count": 69,
      "outputs": []
    },
    {
      "cell_type": "markdown",
      "source": [
        "**Checking if there is any null values**"
      ],
      "metadata": {
        "id": "rjtSclMHzMCD"
      }
    },
    {
      "cell_type": "code",
      "source": [
        "# Display the 'CandidateName' column values from the df18 DataFrame\n",
        "df18.select('CandidateName').show()\n"
      ],
      "metadata": {
        "colab": {
          "base_uri": "https://localhost:8080/"
        },
        "id": "SHPKqH5sxTXv",
        "outputId": "4f1189a6-acd5-45f0-9ea2-4c1b99e278f8"
      },
      "execution_count": 70,
      "outputs": [
        {
          "output_type": "stream",
          "name": "stdout",
          "text": [
            "+--------------------+\n",
            "|       CandidateName|\n",
            "+--------------------+\n",
            "|Moulana Abdul Akb...|\n",
            "|     Saeed ur Rehman|\n",
            "|      Muhammad Yahya|\n",
            "|Shahzada Muhammad...|\n",
            "|      Eid Ul Hussain|\n",
            "|      Muhammad Amjad|\n",
            "|       Taqdira Ajmal|\n",
            "|         Abdul Latif|\n",
            "|     Iftikhar Ud Din|\n",
            "|     Nisar Dastageer|\n",
            "|         Saleem Khan|\n",
            "|     Haider Ali Khan|\n",
            "|    Muhammad Mukhtar|\n",
            "|       Ishtiaq Ahmad|\n",
            "|Malak Muhammad Di...|\n",
            "|      Miraj Muhammad|\n",
            "|        Mumtaz Ahmad|\n",
            "|          Amir Muqam|\n",
            "|          Said Qamar|\n",
            "|        Naveed Iqbal|\n",
            "+--------------------+\n",
            "only showing top 20 rows\n",
            "\n"
          ]
        }
      ]
    },
    {
      "cell_type": "code",
      "source": [
        "# Sample data for df18 (this would be replaced with the actual loading of df18)\n",
        "# df18 = spark.read.csv(file_path_2018, header=True, inferSchema=True)\n",
        "\n",
        "# Aggregate the data to count the number of unique constituencies per district\n",
        "district_constituency_count = df18.groupBy('district').agg(countDistinct('ConstituencyTitle').alias('ConstituencyCount'))\n",
        "\n",
        "# Convert the result to a Pandas DataFrame\n",
        "district_constituency_count_pd = district_constituency_count.toPandas()\n",
        "\n",
        "# Create a bar chart using Plotly Express\n",
        "fig = px.bar(district_constituency_count_pd, x='district', y='ConstituencyCount',\n",
        "             title='Number of Constituencies per District',\n",
        "             labels={'district': 'District', 'ConstituencyCount': 'Number of Constituencies'})\n",
        "\n",
        "# Display the plot\n",
        "fig.show()"
      ],
      "metadata": {
        "colab": {
          "base_uri": "https://localhost:8080/",
          "height": 542
        },
        "id": "YcqwOQhNy1r5",
        "outputId": "3c49ab08-231d-42c7-9c80-47e9cfd3ce91"
      },
      "execution_count": 71,
      "outputs": [
        {
          "output_type": "display_data",
          "data": {
            "text/html": [
              "<html>\n",
              "<head><meta charset=\"utf-8\" /></head>\n",
              "<body>\n",
              "    <div>            <script src=\"https://cdnjs.cloudflare.com/ajax/libs/mathjax/2.7.5/MathJax.js?config=TeX-AMS-MML_SVG\"></script><script type=\"text/javascript\">if (window.MathJax && window.MathJax.Hub && window.MathJax.Hub.Config) {window.MathJax.Hub.Config({SVG: {font: \"STIX-Web\"}});}</script>                <script type=\"text/javascript\">window.PlotlyConfig = {MathJaxConfig: 'local'};</script>\n",
              "        <script charset=\"utf-8\" src=\"https://cdn.plot.ly/plotly-2.24.1.min.js\"></script>                <div id=\"1fd6887e-31e1-4a45-aa94-216599b96e29\" class=\"plotly-graph-div\" style=\"height:525px; width:100%;\"></div>            <script type=\"text/javascript\">                                    window.PLOTLYENV=window.PLOTLYENV || {};                                    if (document.getElementById(\"1fd6887e-31e1-4a45-aa94-216599b96e29\")) {                    Plotly.newPlot(                        \"1fd6887e-31e1-4a45-aa94-216599b96e29\",                        [{\"alignmentgroup\":\"True\",\"hovertemplate\":\"District=%{x}\\u003cbr\\u003eNumber of Constituencies=%{y}\\u003cextra\\u003e\\u003c\\u002fextra\\u003e\",\"legendgroup\":\"\",\"marker\":{\"color\":\"#636efa\",\"pattern\":{\"shape\":\"\"}},\"name\":\"\",\"offsetgroup\":\"\",\"orientation\":\"v\",\"showlegend\":false,\"textposition\":\"auto\",\"x\":[\"Bahawalnagar\",\"Multan\",\"Lasbela\",\"Hafizabad\",\"Jhang\",\"Lower\",\"Bannu\",\"Lakki\",\"Toba\",\"Ghotki\",\"Sukkur\",\"Kohistan\",\"Kashmore\",\"Kohat\",\"Shikarpur\",\"Karachi\",\"Mansehra\",\"Chitral\",\"Mianwali\",\"Chagai\",\"Rajanpur\",\"Nankana\",\"Abbottabad\",\"Layyah\",\"Shangla\",\"Sargodha\",\"Killa\",\"Shaheed\",\"Khuzdar\",\"Peshawar\",\"Sheikhupura\",\"Mardan\",\"Tribal\",\"Kamber\",\"Sujawal\",\"Panjgur\",\"Swat\",\"Mandi\",\"Jamshoro\",\"Pishin\",\"Nasirabad\",\"Tank\",\"Thatta\",\"Buner\",\"Khairpur\",\"Battagram\",\"Korangi\",\"Lahore\",\"Muzaffargarh\",\"Badin\",\"Okara\",\"Kech\",\"Chiniot\",\"Narowal\",\"Upper\",\"Khushab\",\"Sialkot\",\"Khanewal\",\"Kasur\",\"Faisalabad\",\"Naushahro\",\"Nowshera\",\"Jhelum\",\"Rawalpindi\",\"Pakpattan\",\"Dera\",\"Jacobabad\",\"Vehari\",\"Umerkot\",\"Jafarabad\",\"Sahiwal\",\"Tharparkar\",\"Islamabad\",\"Matiari\",\"Karak\",\"Malir\",\"Bahawalpur\",\"Loralai\",\"Chakwal\",\"Bhakkar\",\"Hangu\",\"Hyderabad\",\"Larkana\",\"Attock\",\"Gujrat\",\"Mastung\",\"Charsadda\",\"Gujranwala\",\"Tando\",\"Mirpurkhas\",\"Sanghar\",\"Haripur\",\"Malakand\",\"RahimYar\",\"Dadu\",\"Lodhran\",\"Quetta\",\"Swabi\"],\"xaxis\":\"x\",\"y\":[4,6,1,1,3,2,1,1,3,2,2,1,1,1,2,15,2,1,2,1,3,2,2,2,1,5,2,2,1,5,4,3,12,2,1,1,3,2,1,1,1,1,1,1,3,1,3,14,6,2,4,1,2,2,1,2,5,4,4,9,2,2,2,6,2,7,1,4,1,1,3,2,3,1,1,3,5,1,2,2,1,3,2,2,4,1,2,6,2,2,3,1,1,6,2,2,3,2],\"yaxis\":\"y\",\"type\":\"bar\"}],                        {\"template\":{\"data\":{\"histogram2dcontour\":[{\"type\":\"histogram2dcontour\",\"colorbar\":{\"outlinewidth\":0,\"ticks\":\"\"},\"colorscale\":[[0.0,\"#0d0887\"],[0.1111111111111111,\"#46039f\"],[0.2222222222222222,\"#7201a8\"],[0.3333333333333333,\"#9c179e\"],[0.4444444444444444,\"#bd3786\"],[0.5555555555555556,\"#d8576b\"],[0.6666666666666666,\"#ed7953\"],[0.7777777777777778,\"#fb9f3a\"],[0.8888888888888888,\"#fdca26\"],[1.0,\"#f0f921\"]]}],\"choropleth\":[{\"type\":\"choropleth\",\"colorbar\":{\"outlinewidth\":0,\"ticks\":\"\"}}],\"histogram2d\":[{\"type\":\"histogram2d\",\"colorbar\":{\"outlinewidth\":0,\"ticks\":\"\"},\"colorscale\":[[0.0,\"#0d0887\"],[0.1111111111111111,\"#46039f\"],[0.2222222222222222,\"#7201a8\"],[0.3333333333333333,\"#9c179e\"],[0.4444444444444444,\"#bd3786\"],[0.5555555555555556,\"#d8576b\"],[0.6666666666666666,\"#ed7953\"],[0.7777777777777778,\"#fb9f3a\"],[0.8888888888888888,\"#fdca26\"],[1.0,\"#f0f921\"]]}],\"heatmap\":[{\"type\":\"heatmap\",\"colorbar\":{\"outlinewidth\":0,\"ticks\":\"\"},\"colorscale\":[[0.0,\"#0d0887\"],[0.1111111111111111,\"#46039f\"],[0.2222222222222222,\"#7201a8\"],[0.3333333333333333,\"#9c179e\"],[0.4444444444444444,\"#bd3786\"],[0.5555555555555556,\"#d8576b\"],[0.6666666666666666,\"#ed7953\"],[0.7777777777777778,\"#fb9f3a\"],[0.8888888888888888,\"#fdca26\"],[1.0,\"#f0f921\"]]}],\"heatmapgl\":[{\"type\":\"heatmapgl\",\"colorbar\":{\"outlinewidth\":0,\"ticks\":\"\"},\"colorscale\":[[0.0,\"#0d0887\"],[0.1111111111111111,\"#46039f\"],[0.2222222222222222,\"#7201a8\"],[0.3333333333333333,\"#9c179e\"],[0.4444444444444444,\"#bd3786\"],[0.5555555555555556,\"#d8576b\"],[0.6666666666666666,\"#ed7953\"],[0.7777777777777778,\"#fb9f3a\"],[0.8888888888888888,\"#fdca26\"],[1.0,\"#f0f921\"]]}],\"contourcarpet\":[{\"type\":\"contourcarpet\",\"colorbar\":{\"outlinewidth\":0,\"ticks\":\"\"}}],\"contour\":[{\"type\":\"contour\",\"colorbar\":{\"outlinewidth\":0,\"ticks\":\"\"},\"colorscale\":[[0.0,\"#0d0887\"],[0.1111111111111111,\"#46039f\"],[0.2222222222222222,\"#7201a8\"],[0.3333333333333333,\"#9c179e\"],[0.4444444444444444,\"#bd3786\"],[0.5555555555555556,\"#d8576b\"],[0.6666666666666666,\"#ed7953\"],[0.7777777777777778,\"#fb9f3a\"],[0.8888888888888888,\"#fdca26\"],[1.0,\"#f0f921\"]]}],\"surface\":[{\"type\":\"surface\",\"colorbar\":{\"outlinewidth\":0,\"ticks\":\"\"},\"colorscale\":[[0.0,\"#0d0887\"],[0.1111111111111111,\"#46039f\"],[0.2222222222222222,\"#7201a8\"],[0.3333333333333333,\"#9c179e\"],[0.4444444444444444,\"#bd3786\"],[0.5555555555555556,\"#d8576b\"],[0.6666666666666666,\"#ed7953\"],[0.7777777777777778,\"#fb9f3a\"],[0.8888888888888888,\"#fdca26\"],[1.0,\"#f0f921\"]]}],\"mesh3d\":[{\"type\":\"mesh3d\",\"colorbar\":{\"outlinewidth\":0,\"ticks\":\"\"}}],\"scatter\":[{\"fillpattern\":{\"fillmode\":\"overlay\",\"size\":10,\"solidity\":0.2},\"type\":\"scatter\"}],\"parcoords\":[{\"type\":\"parcoords\",\"line\":{\"colorbar\":{\"outlinewidth\":0,\"ticks\":\"\"}}}],\"scatterpolargl\":[{\"type\":\"scatterpolargl\",\"marker\":{\"colorbar\":{\"outlinewidth\":0,\"ticks\":\"\"}}}],\"bar\":[{\"error_x\":{\"color\":\"#2a3f5f\"},\"error_y\":{\"color\":\"#2a3f5f\"},\"marker\":{\"line\":{\"color\":\"#E5ECF6\",\"width\":0.5},\"pattern\":{\"fillmode\":\"overlay\",\"size\":10,\"solidity\":0.2}},\"type\":\"bar\"}],\"scattergeo\":[{\"type\":\"scattergeo\",\"marker\":{\"colorbar\":{\"outlinewidth\":0,\"ticks\":\"\"}}}],\"scatterpolar\":[{\"type\":\"scatterpolar\",\"marker\":{\"colorbar\":{\"outlinewidth\":0,\"ticks\":\"\"}}}],\"histogram\":[{\"marker\":{\"pattern\":{\"fillmode\":\"overlay\",\"size\":10,\"solidity\":0.2}},\"type\":\"histogram\"}],\"scattergl\":[{\"type\":\"scattergl\",\"marker\":{\"colorbar\":{\"outlinewidth\":0,\"ticks\":\"\"}}}],\"scatter3d\":[{\"type\":\"scatter3d\",\"line\":{\"colorbar\":{\"outlinewidth\":0,\"ticks\":\"\"}},\"marker\":{\"colorbar\":{\"outlinewidth\":0,\"ticks\":\"\"}}}],\"scattermapbox\":[{\"type\":\"scattermapbox\",\"marker\":{\"colorbar\":{\"outlinewidth\":0,\"ticks\":\"\"}}}],\"scatterternary\":[{\"type\":\"scatterternary\",\"marker\":{\"colorbar\":{\"outlinewidth\":0,\"ticks\":\"\"}}}],\"scattercarpet\":[{\"type\":\"scattercarpet\",\"marker\":{\"colorbar\":{\"outlinewidth\":0,\"ticks\":\"\"}}}],\"carpet\":[{\"aaxis\":{\"endlinecolor\":\"#2a3f5f\",\"gridcolor\":\"white\",\"linecolor\":\"white\",\"minorgridcolor\":\"white\",\"startlinecolor\":\"#2a3f5f\"},\"baxis\":{\"endlinecolor\":\"#2a3f5f\",\"gridcolor\":\"white\",\"linecolor\":\"white\",\"minorgridcolor\":\"white\",\"startlinecolor\":\"#2a3f5f\"},\"type\":\"carpet\"}],\"table\":[{\"cells\":{\"fill\":{\"color\":\"#EBF0F8\"},\"line\":{\"color\":\"white\"}},\"header\":{\"fill\":{\"color\":\"#C8D4E3\"},\"line\":{\"color\":\"white\"}},\"type\":\"table\"}],\"barpolar\":[{\"marker\":{\"line\":{\"color\":\"#E5ECF6\",\"width\":0.5},\"pattern\":{\"fillmode\":\"overlay\",\"size\":10,\"solidity\":0.2}},\"type\":\"barpolar\"}],\"pie\":[{\"automargin\":true,\"type\":\"pie\"}]},\"layout\":{\"autotypenumbers\":\"strict\",\"colorway\":[\"#636efa\",\"#EF553B\",\"#00cc96\",\"#ab63fa\",\"#FFA15A\",\"#19d3f3\",\"#FF6692\",\"#B6E880\",\"#FF97FF\",\"#FECB52\"],\"font\":{\"color\":\"#2a3f5f\"},\"hovermode\":\"closest\",\"hoverlabel\":{\"align\":\"left\"},\"paper_bgcolor\":\"white\",\"plot_bgcolor\":\"#E5ECF6\",\"polar\":{\"bgcolor\":\"#E5ECF6\",\"angularaxis\":{\"gridcolor\":\"white\",\"linecolor\":\"white\",\"ticks\":\"\"},\"radialaxis\":{\"gridcolor\":\"white\",\"linecolor\":\"white\",\"ticks\":\"\"}},\"ternary\":{\"bgcolor\":\"#E5ECF6\",\"aaxis\":{\"gridcolor\":\"white\",\"linecolor\":\"white\",\"ticks\":\"\"},\"baxis\":{\"gridcolor\":\"white\",\"linecolor\":\"white\",\"ticks\":\"\"},\"caxis\":{\"gridcolor\":\"white\",\"linecolor\":\"white\",\"ticks\":\"\"}},\"coloraxis\":{\"colorbar\":{\"outlinewidth\":0,\"ticks\":\"\"}},\"colorscale\":{\"sequential\":[[0.0,\"#0d0887\"],[0.1111111111111111,\"#46039f\"],[0.2222222222222222,\"#7201a8\"],[0.3333333333333333,\"#9c179e\"],[0.4444444444444444,\"#bd3786\"],[0.5555555555555556,\"#d8576b\"],[0.6666666666666666,\"#ed7953\"],[0.7777777777777778,\"#fb9f3a\"],[0.8888888888888888,\"#fdca26\"],[1.0,\"#f0f921\"]],\"sequentialminus\":[[0.0,\"#0d0887\"],[0.1111111111111111,\"#46039f\"],[0.2222222222222222,\"#7201a8\"],[0.3333333333333333,\"#9c179e\"],[0.4444444444444444,\"#bd3786\"],[0.5555555555555556,\"#d8576b\"],[0.6666666666666666,\"#ed7953\"],[0.7777777777777778,\"#fb9f3a\"],[0.8888888888888888,\"#fdca26\"],[1.0,\"#f0f921\"]],\"diverging\":[[0,\"#8e0152\"],[0.1,\"#c51b7d\"],[0.2,\"#de77ae\"],[0.3,\"#f1b6da\"],[0.4,\"#fde0ef\"],[0.5,\"#f7f7f7\"],[0.6,\"#e6f5d0\"],[0.7,\"#b8e186\"],[0.8,\"#7fbc41\"],[0.9,\"#4d9221\"],[1,\"#276419\"]]},\"xaxis\":{\"gridcolor\":\"white\",\"linecolor\":\"white\",\"ticks\":\"\",\"title\":{\"standoff\":15},\"zerolinecolor\":\"white\",\"automargin\":true,\"zerolinewidth\":2},\"yaxis\":{\"gridcolor\":\"white\",\"linecolor\":\"white\",\"ticks\":\"\",\"title\":{\"standoff\":15},\"zerolinecolor\":\"white\",\"automargin\":true,\"zerolinewidth\":2},\"scene\":{\"xaxis\":{\"backgroundcolor\":\"#E5ECF6\",\"gridcolor\":\"white\",\"linecolor\":\"white\",\"showbackground\":true,\"ticks\":\"\",\"zerolinecolor\":\"white\",\"gridwidth\":2},\"yaxis\":{\"backgroundcolor\":\"#E5ECF6\",\"gridcolor\":\"white\",\"linecolor\":\"white\",\"showbackground\":true,\"ticks\":\"\",\"zerolinecolor\":\"white\",\"gridwidth\":2},\"zaxis\":{\"backgroundcolor\":\"#E5ECF6\",\"gridcolor\":\"white\",\"linecolor\":\"white\",\"showbackground\":true,\"ticks\":\"\",\"zerolinecolor\":\"white\",\"gridwidth\":2}},\"shapedefaults\":{\"line\":{\"color\":\"#2a3f5f\"}},\"annotationdefaults\":{\"arrowcolor\":\"#2a3f5f\",\"arrowhead\":0,\"arrowwidth\":1},\"geo\":{\"bgcolor\":\"white\",\"landcolor\":\"#E5ECF6\",\"subunitcolor\":\"white\",\"showland\":true,\"showlakes\":true,\"lakecolor\":\"white\"},\"title\":{\"x\":0.05},\"mapbox\":{\"style\":\"light\"}}},\"xaxis\":{\"anchor\":\"y\",\"domain\":[0.0,1.0],\"title\":{\"text\":\"District\"}},\"yaxis\":{\"anchor\":\"x\",\"domain\":[0.0,1.0],\"title\":{\"text\":\"Number of Constituencies\"}},\"legend\":{\"tracegroupgap\":0},\"title\":{\"text\":\"Number of Constituencies per District\"},\"barmode\":\"relative\"},                        {\"responsive\": true}                    ).then(function(){\n",
              "                            \n",
              "var gd = document.getElementById('1fd6887e-31e1-4a45-aa94-216599b96e29');\n",
              "var x = new MutationObserver(function (mutations, observer) {{\n",
              "        var display = window.getComputedStyle(gd).display;\n",
              "        if (!display || display === 'none') {{\n",
              "            console.log([gd, 'removed!']);\n",
              "            Plotly.purge(gd);\n",
              "            observer.disconnect();\n",
              "        }}\n",
              "}});\n",
              "\n",
              "// Listen for the removal of the full notebook cells\n",
              "var notebookContainer = gd.closest('#notebook-container');\n",
              "if (notebookContainer) {{\n",
              "    x.observe(notebookContainer, {childList: true});\n",
              "}}\n",
              "\n",
              "// Listen for the clearing of the current output cell\n",
              "var outputEl = gd.closest('.output');\n",
              "if (outputEl) {{\n",
              "    x.observe(outputEl, {childList: true});\n",
              "}}\n",
              "\n",
              "                        })                };                            </script>        </div>\n",
              "</body>\n",
              "</html>"
            ]
          },
          "metadata": {}
        }
      ]
    },
    {
      "cell_type": "code",
      "source": [
        "# Assuming the correct column name for district information is 'Seat' (replace 'Seat' with the actual column name if different)\n",
        "district_column = 'Seat'  # Replace this with the actual column name for district if it is different\n",
        "\n",
        "# Aggregate the data to count the number of unique constituencies per district\n",
        "district_constituency_count = df13.groupBy(district_column).agg(countDistinct('ConstituencyTitle').alias('ConstituencyCount'))\n",
        "\n",
        "# Convert the result to a Pandas DataFrame\n",
        "district_constituency_count_pd = district_constituency_count.toPandas()\n",
        "\n",
        "# Create a bar chart using Plotly Express\n",
        "fig = px.bar(district_constituency_count_pd, x=district_column, y='ConstituencyCount',\n",
        "             title='Number of Constituencies per District',\n",
        "             labels={district_column: 'District', 'ConstituencyCount': 'Number of Constituencies'})\n",
        "\n",
        "# Display the plot\n",
        "fig.show()"
      ],
      "metadata": {
        "colab": {
          "base_uri": "https://localhost:8080/",
          "height": 542
        },
        "id": "TtQSIi4z4SSN",
        "outputId": "3a448fae-e9c5-4762-c348-beed412d3e0c"
      },
      "execution_count": 72,
      "outputs": [
        {
          "output_type": "display_data",
          "data": {
            "text/html": [
              "<html>\n",
              "<head><meta charset=\"utf-8\" /></head>\n",
              "<body>\n",
              "    <div>            <script src=\"https://cdnjs.cloudflare.com/ajax/libs/mathjax/2.7.5/MathJax.js?config=TeX-AMS-MML_SVG\"></script><script type=\"text/javascript\">if (window.MathJax && window.MathJax.Hub && window.MathJax.Hub.Config) {window.MathJax.Hub.Config({SVG: {font: \"STIX-Web\"}});}</script>                <script type=\"text/javascript\">window.PlotlyConfig = {MathJaxConfig: 'local'};</script>\n",
              "        <script charset=\"utf-8\" src=\"https://cdn.plot.ly/plotly-2.24.1.min.js\"></script>                <div id=\"23cd809d-0846-4c34-b30f-920421175ad7\" class=\"plotly-graph-div\" style=\"height:525px; width:100%;\"></div>            <script type=\"text/javascript\">                                    window.PLOTLYENV=window.PLOTLYENV || {};                                    if (document.getElementById(\"23cd809d-0846-4c34-b30f-920421175ad7\")) {                    Plotly.newPlot(                        \"23cd809d-0846-4c34-b30f-920421175ad7\",                        [{\"alignmentgroup\":\"True\",\"hovertemplate\":\"District=%{x}\\u003cbr\\u003eNumber of Constituencies=%{y}\\u003cextra\\u003e\\u003c\\u002fextra\\u003e\",\"legendgroup\":\"\",\"marker\":{\"color\":\"#636efa\",\"pattern\":{\"shape\":\"\"}},\"name\":\"\",\"offsetgroup\":\"\",\"orientation\":\"v\",\"showlegend\":false,\"textposition\":\"auto\",\"x\":[\"Jhang-III(Old NA-91 Jhang-VI\",\"VEHARI-IV\",\"LAHORE-IV\",\"SHEIKHUPUR-CUM-SUKKUR-CUM-LARKANA(OLD SHIKARPUR-II\",\"SIALKOT-V\",\"GUJRANWALA-V\",\"SUKKUR-CUM-SHIKARPUR(I\",\"LAHORE-XII\",\"Kharan-cum-Washuk-cum-Panjgur\",\"SWABI-II\",\"CHARSADDA-II\",\"RAWALPINDI-V\",\"Larkana (Old Larkana\",\"SARGODHA-II\",\"RAHIM YAR KHAN-V\",\"GUJRANWALA-III\",\"KHANEWAL-I\",\"BAHAWALNAGAR-I\",\"KARACHI-XV\",\"GHOTKI-I\",\"KOHAT\",\"LAYYAH-II\",\"MANDI BAHAUDDIN-II\",\"BAHAWALPUR-IV\",\"HYDERABAD-I (OLD HYDERABAD-II\",\"SHEIKHUPURA-I\",\"TRIBAL AREA-VIII\",\"NAROWAL-I\",\"KARACHI-XIII\",\"ISLAMABAD-I\",\"KHANEWAL-IV\",\"RAHIM YAR KHAN-II\",\"BAHAWALNAGAR-II\",\"BADIN-CUM-TANDO MUHAMMAD KHAN-I (OLD BADIN-I\",\"LAHORE-I\",\"GUJRAT-IV\",\"Sheikhupura-II-cum-Nankana Sahib (Old  Sheikhupura-II\",\"MUZAFFARGARH-I\",\"BUNER\",\"MANSEHRA-I\",\"JACOBABAD (OLD JACOBABAD-I\",\"RAWALPINDI-VII\",\"MARDAN-II\",\"GHOTKI-II\",\"TRIBAL AREA-XII\",\"MULTAN-IV\",\"LAHORE-II\",\"Sheikhupura-IV\",\"Jhang-  Cum-Chiniot (Old NA-87 Jhang-II\",\"DERA GHAZI KHAN-I\",\"OKARA-V\",\"TRIBAL AREA-III\",\"Kachhi-cum-Jhal Magsi\",\"THARPARKAR-I\",\"THATTA-I\",\"MULTAN-I\",\"KARACHI-VII\",\"MALAKAND P AREA\",\"Pishin-cum-Ziarat\",\"KARACHI-V\",\"Nasirabad-cum- Jaffarabad\",\"Karachi\",\"LAHORE-VII\",\"KARACHI-XI\",\"LAKKI MARWAT\",\"PAKPATTAN-II\",\"KASUR-III\",\"SWABI-I\",\"PESHAWAR-IV\",\"SIALKOT-III\",\"GUJRANWALA-VII\",\"HYDERABAD-CUM-MATIARI (OLDHYDERABAD-IV\",\"KARACHI-XIX\",\"MUZAFFARGARH-IV\",\"SIALKOT-II\",\"NOWSHERA-I\",\"NAWABSHAH-II\",\"LODHRAN-II\",\"DERA GHAZI KHAN-II\",\"KHUSHAB-II\",\"ISLAMABAD-II\",\"ABBOTTABAD-I\",\"BHAKKAR-I\",\"ATTOCK-I\",\"SARGODHA-IV\",\"KASUR-II\",\"FAISALABAD-I\",\"NOWSHERA-II\",\"SIALKOT-I\",\"LARKANA-CUM-KAMBER SHAHDADKOT (OLD LARKANA-II\",\"SARGODHA-V\",\"MIANWALI-II\",\"FAISALABAD-II\",\"Nankana Sahib-III (Old Sheikhupra-VII\",\"BAHAWALNAGAR-III\",\"JHELUM-II\",\"SWAT-I\",\"KASUR-IV\",\"Khuzdar\",\"DADU-I (OLD DADU-II\",\"TRIBAL AREA-XI\",\"LODHRAN-I\",\"RAHIM YAR KHAN-III\",\"Killa Abdullah\",\"KARACHI-XIV\",\"RAHIM YAR KHAN-IV\",\"TRIBAL AREA-VII\",\"LOWER DIR\",\"ATTOCK-III\",\"NAROWAL-III\",\"KOHISTAN\",\"KARACHI-IX\",\"KHAIRPUR-I\",\"KARACHI-XX\",\"Jhang-I (Old NA-89 Jhang-IV\",\"PAKPATTAN-III\",\"NAUSHEHRO FEROZ-II\",\"Kech-cum-Gwadar\",\"SARGODHA-I\",\"KARACHI-XVIII\",\"TRIBAL AREA-II\",\"KASHMORE (OLD JACOBABAD-III\",\"Faislabad\",\"SUKKUR-CUM-SHIKARPUR(II\",\"MIRPUR KHAS-CUM-UMERKOT (I\",\"FAISALABAD-IV\",\"TANDO ALLAHYAR-CUM-MATIARI(OLD HYDERABAD-VI\",\"KARACHI-XVII\",\"RAWALPINDI-IV\",\"TRIBAL AREA-IX\",\"MULTAN-III\",\"MULTAN-V\",\"SAHIWAL-II\",\"VEHARI-I\",\"TRIBAL AREA-V\",\"HAFIZABAD-II\",\"UPPER DIR-CUM-LOWER DIN (OLD UPPER DIR\",\"DERA ISMAIL KHAN\",\"KHAIRPUR-III\",\"BAHAWALPUR-III\",\"OKARA-I\",\"KASUR-V\",\"LARKANA-CUM-SHIKHARPUR-CUM-KAMBER SHAHDADKOT (OLD LARKANA-IV\",\"TRIBAL AREA-I\",\"KAMBER SHAHDADKOT (OLD LARKANA-III\",\"CHAKWAL-I\",\"MIANWALI-I\",\"VEHARI-II\",\"BAHAWALNAGAR-IV\",\"CHARSADDA-I\",\"KARACHI-II\",\"D.I.KHAN-CUM-TANK\",\"Chiniot-I (Old  NA-86 Jhang-I\",\"GUJRANWALA-VI\",\"RAJANPUR-I\",\"MULTAN-VI\",\"RAWALPINDI-III\",\"BAHAWALPUR-II\",\"RAHIM YAR KHAN-I\",\"PAKPATTAN-I\",\"SIALKOT-IV\",\"SWAT-II\",\"GUJRANWALA-II\",\"DERA GHAZI KHAN-III\",\"LAHORE-VIII\",\"KARACHI-X\",\"KHANEWAL-II\",\"Nankana Sahib-II Cum-Sheikhupura (Old Sheikhupura-VI\",\"SANGHAR-I\",\"HYDERABAD-II (OLD HYDERABAD-III\",\"TANDO MUHAMMAD KHAN-CUM-HYDERABAD-CUM-BADIN (HYDERABAD-V\",\"MATIARI-CUM-HYDERABAD (OLD HYDERABAD-I\",\"SANGHAR-II(OLD SNAGHAR-III\",\"Nankana Sahib-I-Cum-Sheikhupura (Old Sheikhupura-V\",\"MARDAN-I\",\"BANNU\",\"RAWALPINDI-VI\",\"LAYYAH-I\",\"FAISALABAD-III\",\"KARACHI-VI\",\"PESHAWAR-I\",\"LAHORE-III\",\"PESHAWAR-II\",\"DADU-II(OLD DADU-III\",\"Loralai-cum-Musakhel-cum-Barkhan\",\"JACOBABAD-CUM-KASHMORE(OLD JACOBABAD-II\",\"NAROWAL-II\",\"KARACHI-I\",\"KHAIRPUR-II\",\"QUETTA\",\"NAWABSHAH-I\",\"KARACHI-XII\",\"GUJRANWALA-IV\",\"HANGU\",\"LAHORE-X\",\"LAHORE-V\",\"FAISALABAD-XI\",\"FAISALABAD-VI\",\"TOBA TEK SINGH-II\",\"SARGODHA-III\",\"MUZAFFARGARH-III\",\"HAFIZABAD-I\",\"FAISALABAD-V\",\"FAISALABAD-VII\",\"GUJRAT-III\",\"LAHORE-XI\",\"ABBOTTABAD-II\",\"Chiniot-II Cum-Jhang (Old NA-88 Jhang-III\",\"PESHAWAR-III\",\"RAJANPUR-II\",\"HARIPUR\",\"BAHAWALPUR-I\",\"CHAKWAL-II\",\"NAUSHEHRO FEROZ-I\",\"KARAK\",\"MARDAN-III\",\"UMERKOT(OLD MIRPURKHAS-III\",\"FAISALABAD-X\",\"LAHORE-IX\",\"TRIBAL AREA-X\",\"THARPARKAR-II\",\"ATTOCK-II\",\"LAHORE-XIII\",\"BAHAWALPUR-V\",\"FAISALABAD-VIII\",\"TOBA TEK SINGH-III\",\"MUZAFFARGARH-II\",\"JHELUM-I\",\"VEHARI-III\",\"SHANGLA\",\"THATTA-II\",\"JAMSHORO(OLD DADU-I\",\"Awaran-cum-Lasbela\",\"KARACHI-IV\",\"SAHIWAL-I\",\"MANDI BAHAUDDIN-I\",\"Sheikhupura-III\",\"RAWALPINDI-II\",\"Zhob-cum-Sherani-cum- Killa Saifullah\",\"KARACHI-VIII\",\"BADIN-CUM-TANDO MUHAMMAD KHAN-II(OLD BADIN-II\",\"RAWALPINDI-I\",\"LAHORE-VI\",\"GUJRAT-I\",\"SANGHAR-CUM-MIRPURKHAS-CUM-UMERKOT(OLD SANGHAR-II\",\"TRIBAL AREA-IV\",\"Tor Ghar cum Mansehra-II\",\"RAHIM YAR KHAN-VI\",\"BATTAGRAM\",\"GUJRAT-II\",\"BHAKKAR-II\",\"KARACHI-III\",\"KHANEWAL-III\",\"CHITRAL\",\"Quetta-cum-Chagai-cum-Nushki-cum-Mastung\",\"MULTAN-II\",\"Kasur-I-Cum-Lahore\",\"SAHIWAL-IV\",\"Kalat-cum-Mastung\",\"TOBA TEK SINGH-I\",\"SAHIWAL-III\",\"Jhang-II (Old NA-90 Jhang-V\",\"MIRPURKHAS-CUM-UMERKOT (II\",\"Sibi-cum-Kohlu-cum-Dera Bugti- cum-Harani\",\"MUZAFFARGARH-V\",\"OKARA-IV\",\"TRIBAL AREA-VI\",\"SHIKARPUR (OLD SHIKARPUR-I\",\"GUJRANWALA-I\",\"KHUSHAB-I\",\"OKARA-II\"],\"xaxis\":\"x\",\"y\":[1,1,1,1,1,1,1,1,1,1,1,1,1,1,1,1,1,1,1,1,1,1,1,1,1,1,1,1,1,1,1,1,1,1,1,1,1,1,1,1,1,1,1,1,1,1,1,1,1,1,1,1,1,1,1,1,1,1,1,1,1,1,1,1,1,1,1,1,1,1,1,1,1,1,1,1,1,1,1,1,1,1,1,1,1,1,1,1,1,1,1,1,1,1,1,1,1,1,1,1,1,1,1,1,1,1,1,1,1,1,1,1,1,1,1,1,1,1,1,1,1,1,1,1,1,1,1,1,1,1,1,1,1,1,1,1,1,1,1,1,1,1,1,1,1,1,1,1,1,1,1,1,1,1,1,1,1,1,1,1,1,1,1,1,1,1,1,1,1,1,1,1,1,1,1,1,1,1,1,1,1,1,1,1,1,1,1,1,1,1,1,1,1,1,1,1,1,1,1,1,1,1,1,1,1,1,1,1,1,1,1,1,1,1,1,1,1,1,1,1,1,1,1,1,1,1,1,1,1,1,1,1,1,1,1,1,1,1,1,1,1,1,1,1,1,1,1,1,1,1,1,1,1,1,1,1,1,1,1,1,1,1,1,1,1,1,1,1,1,1,2],\"yaxis\":\"y\",\"type\":\"bar\"}],                        {\"template\":{\"data\":{\"histogram2dcontour\":[{\"type\":\"histogram2dcontour\",\"colorbar\":{\"outlinewidth\":0,\"ticks\":\"\"},\"colorscale\":[[0.0,\"#0d0887\"],[0.1111111111111111,\"#46039f\"],[0.2222222222222222,\"#7201a8\"],[0.3333333333333333,\"#9c179e\"],[0.4444444444444444,\"#bd3786\"],[0.5555555555555556,\"#d8576b\"],[0.6666666666666666,\"#ed7953\"],[0.7777777777777778,\"#fb9f3a\"],[0.8888888888888888,\"#fdca26\"],[1.0,\"#f0f921\"]]}],\"choropleth\":[{\"type\":\"choropleth\",\"colorbar\":{\"outlinewidth\":0,\"ticks\":\"\"}}],\"histogram2d\":[{\"type\":\"histogram2d\",\"colorbar\":{\"outlinewidth\":0,\"ticks\":\"\"},\"colorscale\":[[0.0,\"#0d0887\"],[0.1111111111111111,\"#46039f\"],[0.2222222222222222,\"#7201a8\"],[0.3333333333333333,\"#9c179e\"],[0.4444444444444444,\"#bd3786\"],[0.5555555555555556,\"#d8576b\"],[0.6666666666666666,\"#ed7953\"],[0.7777777777777778,\"#fb9f3a\"],[0.8888888888888888,\"#fdca26\"],[1.0,\"#f0f921\"]]}],\"heatmap\":[{\"type\":\"heatmap\",\"colorbar\":{\"outlinewidth\":0,\"ticks\":\"\"},\"colorscale\":[[0.0,\"#0d0887\"],[0.1111111111111111,\"#46039f\"],[0.2222222222222222,\"#7201a8\"],[0.3333333333333333,\"#9c179e\"],[0.4444444444444444,\"#bd3786\"],[0.5555555555555556,\"#d8576b\"],[0.6666666666666666,\"#ed7953\"],[0.7777777777777778,\"#fb9f3a\"],[0.8888888888888888,\"#fdca26\"],[1.0,\"#f0f921\"]]}],\"heatmapgl\":[{\"type\":\"heatmapgl\",\"colorbar\":{\"outlinewidth\":0,\"ticks\":\"\"},\"colorscale\":[[0.0,\"#0d0887\"],[0.1111111111111111,\"#46039f\"],[0.2222222222222222,\"#7201a8\"],[0.3333333333333333,\"#9c179e\"],[0.4444444444444444,\"#bd3786\"],[0.5555555555555556,\"#d8576b\"],[0.6666666666666666,\"#ed7953\"],[0.7777777777777778,\"#fb9f3a\"],[0.8888888888888888,\"#fdca26\"],[1.0,\"#f0f921\"]]}],\"contourcarpet\":[{\"type\":\"contourcarpet\",\"colorbar\":{\"outlinewidth\":0,\"ticks\":\"\"}}],\"contour\":[{\"type\":\"contour\",\"colorbar\":{\"outlinewidth\":0,\"ticks\":\"\"},\"colorscale\":[[0.0,\"#0d0887\"],[0.1111111111111111,\"#46039f\"],[0.2222222222222222,\"#7201a8\"],[0.3333333333333333,\"#9c179e\"],[0.4444444444444444,\"#bd3786\"],[0.5555555555555556,\"#d8576b\"],[0.6666666666666666,\"#ed7953\"],[0.7777777777777778,\"#fb9f3a\"],[0.8888888888888888,\"#fdca26\"],[1.0,\"#f0f921\"]]}],\"surface\":[{\"type\":\"surface\",\"colorbar\":{\"outlinewidth\":0,\"ticks\":\"\"},\"colorscale\":[[0.0,\"#0d0887\"],[0.1111111111111111,\"#46039f\"],[0.2222222222222222,\"#7201a8\"],[0.3333333333333333,\"#9c179e\"],[0.4444444444444444,\"#bd3786\"],[0.5555555555555556,\"#d8576b\"],[0.6666666666666666,\"#ed7953\"],[0.7777777777777778,\"#fb9f3a\"],[0.8888888888888888,\"#fdca26\"],[1.0,\"#f0f921\"]]}],\"mesh3d\":[{\"type\":\"mesh3d\",\"colorbar\":{\"outlinewidth\":0,\"ticks\":\"\"}}],\"scatter\":[{\"fillpattern\":{\"fillmode\":\"overlay\",\"size\":10,\"solidity\":0.2},\"type\":\"scatter\"}],\"parcoords\":[{\"type\":\"parcoords\",\"line\":{\"colorbar\":{\"outlinewidth\":0,\"ticks\":\"\"}}}],\"scatterpolargl\":[{\"type\":\"scatterpolargl\",\"marker\":{\"colorbar\":{\"outlinewidth\":0,\"ticks\":\"\"}}}],\"bar\":[{\"error_x\":{\"color\":\"#2a3f5f\"},\"error_y\":{\"color\":\"#2a3f5f\"},\"marker\":{\"line\":{\"color\":\"#E5ECF6\",\"width\":0.5},\"pattern\":{\"fillmode\":\"overlay\",\"size\":10,\"solidity\":0.2}},\"type\":\"bar\"}],\"scattergeo\":[{\"type\":\"scattergeo\",\"marker\":{\"colorbar\":{\"outlinewidth\":0,\"ticks\":\"\"}}}],\"scatterpolar\":[{\"type\":\"scatterpolar\",\"marker\":{\"colorbar\":{\"outlinewidth\":0,\"ticks\":\"\"}}}],\"histogram\":[{\"marker\":{\"pattern\":{\"fillmode\":\"overlay\",\"size\":10,\"solidity\":0.2}},\"type\":\"histogram\"}],\"scattergl\":[{\"type\":\"scattergl\",\"marker\":{\"colorbar\":{\"outlinewidth\":0,\"ticks\":\"\"}}}],\"scatter3d\":[{\"type\":\"scatter3d\",\"line\":{\"colorbar\":{\"outlinewidth\":0,\"ticks\":\"\"}},\"marker\":{\"colorbar\":{\"outlinewidth\":0,\"ticks\":\"\"}}}],\"scattermapbox\":[{\"type\":\"scattermapbox\",\"marker\":{\"colorbar\":{\"outlinewidth\":0,\"ticks\":\"\"}}}],\"scatterternary\":[{\"type\":\"scatterternary\",\"marker\":{\"colorbar\":{\"outlinewidth\":0,\"ticks\":\"\"}}}],\"scattercarpet\":[{\"type\":\"scattercarpet\",\"marker\":{\"colorbar\":{\"outlinewidth\":0,\"ticks\":\"\"}}}],\"carpet\":[{\"aaxis\":{\"endlinecolor\":\"#2a3f5f\",\"gridcolor\":\"white\",\"linecolor\":\"white\",\"minorgridcolor\":\"white\",\"startlinecolor\":\"#2a3f5f\"},\"baxis\":{\"endlinecolor\":\"#2a3f5f\",\"gridcolor\":\"white\",\"linecolor\":\"white\",\"minorgridcolor\":\"white\",\"startlinecolor\":\"#2a3f5f\"},\"type\":\"carpet\"}],\"table\":[{\"cells\":{\"fill\":{\"color\":\"#EBF0F8\"},\"line\":{\"color\":\"white\"}},\"header\":{\"fill\":{\"color\":\"#C8D4E3\"},\"line\":{\"color\":\"white\"}},\"type\":\"table\"}],\"barpolar\":[{\"marker\":{\"line\":{\"color\":\"#E5ECF6\",\"width\":0.5},\"pattern\":{\"fillmode\":\"overlay\",\"size\":10,\"solidity\":0.2}},\"type\":\"barpolar\"}],\"pie\":[{\"automargin\":true,\"type\":\"pie\"}]},\"layout\":{\"autotypenumbers\":\"strict\",\"colorway\":[\"#636efa\",\"#EF553B\",\"#00cc96\",\"#ab63fa\",\"#FFA15A\",\"#19d3f3\",\"#FF6692\",\"#B6E880\",\"#FF97FF\",\"#FECB52\"],\"font\":{\"color\":\"#2a3f5f\"},\"hovermode\":\"closest\",\"hoverlabel\":{\"align\":\"left\"},\"paper_bgcolor\":\"white\",\"plot_bgcolor\":\"#E5ECF6\",\"polar\":{\"bgcolor\":\"#E5ECF6\",\"angularaxis\":{\"gridcolor\":\"white\",\"linecolor\":\"white\",\"ticks\":\"\"},\"radialaxis\":{\"gridcolor\":\"white\",\"linecolor\":\"white\",\"ticks\":\"\"}},\"ternary\":{\"bgcolor\":\"#E5ECF6\",\"aaxis\":{\"gridcolor\":\"white\",\"linecolor\":\"white\",\"ticks\":\"\"},\"baxis\":{\"gridcolor\":\"white\",\"linecolor\":\"white\",\"ticks\":\"\"},\"caxis\":{\"gridcolor\":\"white\",\"linecolor\":\"white\",\"ticks\":\"\"}},\"coloraxis\":{\"colorbar\":{\"outlinewidth\":0,\"ticks\":\"\"}},\"colorscale\":{\"sequential\":[[0.0,\"#0d0887\"],[0.1111111111111111,\"#46039f\"],[0.2222222222222222,\"#7201a8\"],[0.3333333333333333,\"#9c179e\"],[0.4444444444444444,\"#bd3786\"],[0.5555555555555556,\"#d8576b\"],[0.6666666666666666,\"#ed7953\"],[0.7777777777777778,\"#fb9f3a\"],[0.8888888888888888,\"#fdca26\"],[1.0,\"#f0f921\"]],\"sequentialminus\":[[0.0,\"#0d0887\"],[0.1111111111111111,\"#46039f\"],[0.2222222222222222,\"#7201a8\"],[0.3333333333333333,\"#9c179e\"],[0.4444444444444444,\"#bd3786\"],[0.5555555555555556,\"#d8576b\"],[0.6666666666666666,\"#ed7953\"],[0.7777777777777778,\"#fb9f3a\"],[0.8888888888888888,\"#fdca26\"],[1.0,\"#f0f921\"]],\"diverging\":[[0,\"#8e0152\"],[0.1,\"#c51b7d\"],[0.2,\"#de77ae\"],[0.3,\"#f1b6da\"],[0.4,\"#fde0ef\"],[0.5,\"#f7f7f7\"],[0.6,\"#e6f5d0\"],[0.7,\"#b8e186\"],[0.8,\"#7fbc41\"],[0.9,\"#4d9221\"],[1,\"#276419\"]]},\"xaxis\":{\"gridcolor\":\"white\",\"linecolor\":\"white\",\"ticks\":\"\",\"title\":{\"standoff\":15},\"zerolinecolor\":\"white\",\"automargin\":true,\"zerolinewidth\":2},\"yaxis\":{\"gridcolor\":\"white\",\"linecolor\":\"white\",\"ticks\":\"\",\"title\":{\"standoff\":15},\"zerolinecolor\":\"white\",\"automargin\":true,\"zerolinewidth\":2},\"scene\":{\"xaxis\":{\"backgroundcolor\":\"#E5ECF6\",\"gridcolor\":\"white\",\"linecolor\":\"white\",\"showbackground\":true,\"ticks\":\"\",\"zerolinecolor\":\"white\",\"gridwidth\":2},\"yaxis\":{\"backgroundcolor\":\"#E5ECF6\",\"gridcolor\":\"white\",\"linecolor\":\"white\",\"showbackground\":true,\"ticks\":\"\",\"zerolinecolor\":\"white\",\"gridwidth\":2},\"zaxis\":{\"backgroundcolor\":\"#E5ECF6\",\"gridcolor\":\"white\",\"linecolor\":\"white\",\"showbackground\":true,\"ticks\":\"\",\"zerolinecolor\":\"white\",\"gridwidth\":2}},\"shapedefaults\":{\"line\":{\"color\":\"#2a3f5f\"}},\"annotationdefaults\":{\"arrowcolor\":\"#2a3f5f\",\"arrowhead\":0,\"arrowwidth\":1},\"geo\":{\"bgcolor\":\"white\",\"landcolor\":\"#E5ECF6\",\"subunitcolor\":\"white\",\"showland\":true,\"showlakes\":true,\"lakecolor\":\"white\"},\"title\":{\"x\":0.05},\"mapbox\":{\"style\":\"light\"}}},\"xaxis\":{\"anchor\":\"y\",\"domain\":[0.0,1.0],\"title\":{\"text\":\"District\"}},\"yaxis\":{\"anchor\":\"x\",\"domain\":[0.0,1.0],\"title\":{\"text\":\"Number of Constituencies\"}},\"legend\":{\"tracegroupgap\":0},\"title\":{\"text\":\"Number of Constituencies per District\"},\"barmode\":\"relative\"},                        {\"responsive\": true}                    ).then(function(){\n",
              "                            \n",
              "var gd = document.getElementById('23cd809d-0846-4c34-b30f-920421175ad7');\n",
              "var x = new MutationObserver(function (mutations, observer) {{\n",
              "        var display = window.getComputedStyle(gd).display;\n",
              "        if (!display || display === 'none') {{\n",
              "            console.log([gd, 'removed!']);\n",
              "            Plotly.purge(gd);\n",
              "            observer.disconnect();\n",
              "        }}\n",
              "}});\n",
              "\n",
              "// Listen for the removal of the full notebook cells\n",
              "var notebookContainer = gd.closest('#notebook-container');\n",
              "if (notebookContainer) {{\n",
              "    x.observe(notebookContainer, {childList: true});\n",
              "}}\n",
              "\n",
              "// Listen for the clearing of the current output cell\n",
              "var outputEl = gd.closest('.output');\n",
              "if (outputEl) {{\n",
              "    x.observe(outputEl, {childList: true});\n",
              "}}\n",
              "\n",
              "                        })                };                            </script>        </div>\n",
              "</body>\n",
              "</html>"
            ]
          },
          "metadata": {}
        }
      ]
    },
    {
      "cell_type": "code",
      "source": [
        "print(\"Schema for df02:\")\n",
        "df02.printSchema()\n",
        "\n",
        "print(\"\\nSchema for df08:\")\n",
        "df08.printSchema()\n",
        "\n",
        "print(\"\\nSchema for df13:\")\n",
        "df13.printSchema()\n",
        "\n",
        "print(\"\\nSchema for df18:\")\n",
        "df18.printSchema()\n"
      ],
      "metadata": {
        "colab": {
          "base_uri": "https://localhost:8080/"
        },
        "id": "bEc-AZWu9X6v",
        "outputId": "3d306eab-a292-4984-80a9-9e170310d34b"
      },
      "execution_count": 73,
      "outputs": [
        {
          "output_type": "stream",
          "name": "stdout",
          "text": [
            "Schema for df02:\n",
            "root\n",
            " |-- District: string (nullable = true)\n",
            " |-- Seat: string (nullable = true)\n",
            " |-- Constituencytitle: string (nullable = true)\n",
            " |-- CandidateName: string (nullable = true)\n",
            " |-- Party: string (nullable = true)\n",
            " |-- Votes: integer (nullable = true)\n",
            " |-- TotalValidVotes: integer (nullable = true)\n",
            " |-- TotalRejectedVotes: integer (nullable = true)\n",
            " |-- TotalVotes: integer (nullable = true)\n",
            " |-- TotalRegisteredVoters: integer (nullable = true)\n",
            " |-- Turnout: double (nullable = true)\n",
            "\n",
            "\n",
            "Schema for df08:\n",
            "root\n",
            " |-- _c0: integer (nullable = true)\n",
            " |-- Seat: string (nullable = true)\n",
            " |-- ConstituencyTitle: string (nullable = true)\n",
            " |-- CandidateName: string (nullable = true)\n",
            " |-- Party: string (nullable = true)\n",
            " |-- Votes: integer (nullable = true)\n",
            " |-- TotalValidVotes: integer (nullable = true)\n",
            " |-- TotalRejectedVotes: integer (nullable = true)\n",
            " |-- TotalVotes: integer (nullable = true)\n",
            " |-- TotalRegisteredVoters: integer (nullable = true)\n",
            " |-- Turnout: string (nullable = true)\n",
            "\n",
            "\n",
            "Schema for df13:\n",
            "root\n",
            " |-- _c0: integer (nullable = true)\n",
            " |-- Seat: string (nullable = true)\n",
            " |-- ConstituencyTitle: string (nullable = true)\n",
            " |-- CandidateName: string (nullable = true)\n",
            " |-- Party: string (nullable = true)\n",
            " |-- Votes: string (nullable = true)\n",
            " |-- TotalValidVotes: integer (nullable = true)\n",
            " |-- TotalRejectedVotes: integer (nullable = true)\n",
            " |-- TotalVotes: integer (nullable = true)\n",
            " |-- TotalRegisteredVoters: integer (nullable = true)\n",
            " |-- Turnout: string (nullable = true)\n",
            " |-- _c11: string (nullable = true)\n",
            "\n",
            "\n",
            "Schema for df18:\n",
            "root\n",
            " |-- c0: integer (nullable = true)\n",
            " |-- district: string (nullable = true)\n",
            " |-- Seat: string (nullable = true)\n",
            " |-- ConstituencyTitle: string (nullable = true)\n",
            " |-- CandidateName: string (nullable = true)\n",
            " |-- Part: string (nullable = true)\n",
            " |-- Votes: integer (nullable = true)\n",
            " |-- TotalValidVotes: integer (nullable = true)\n",
            " |-- TotalRejectedVotes: integer (nullable = true)\n",
            " |-- TotalVotes: integer (nullable = true)\n",
            " |-- TotalRegisteredVoters: integer (nullable = true)\n",
            " |-- Turnout: string (nullable = true)\n",
            "\n"
          ]
        }
      ]
    },
    {
      "cell_type": "code",
      "source": [
        "# prompt: replace Part column name with Party\n",
        "# in df18\n",
        "\n",
        "df18 = df18.withColumnRenamed('Part', 'Party')\n"
      ],
      "metadata": {
        "id": "jidniykt-eEx"
      },
      "execution_count": 74,
      "outputs": []
    },
    {
      "cell_type": "code",
      "source": [
        "# Aggregate the data to count the number of seats won by each party\n",
        "party_seat_counts = df18.groupBy(\"Party\").agg(count(\"Seat\").alias(\"SeatsWon\"))\n",
        "\n",
        "# Show the result\n",
        "party_seat_counts.show()"
      ],
      "metadata": {
        "colab": {
          "base_uri": "https://localhost:8080/"
        },
        "id": "QFq9bSwk-nHp",
        "outputId": "dd416a82-2dc8-4f26-e747-0761fbfad8dc"
      },
      "execution_count": 75,
      "outputs": [
        {
          "output_type": "stream",
          "name": "stdout",
          "text": [
            "+--------------------+--------+\n",
            "|               Party|SeatsWon|\n",
            "+--------------------+--------+\n",
            "|Tehreek-e-Labbaik...|     175|\n",
            "|Tehreek-e-Suba Ha...|       1|\n",
            "|Pakistan Awami Le...|       3|\n",
            "|Jamote Qaumi Move...|       1|\n",
            "|Jannat Pakistan P...|       3|\n",
            "|Tehreek Jawanan P...|       7|\n",
            "|Grand Democratic ...|      29|\n",
            "|Jamiat Ulma-e-Isl...|      10|\n",
            "|Aam Admi Tehreek ...|       1|\n",
            "|  Amun Taraqqi Party|      13|\n",
            "|Pakistan Awami In...|       2|\n",
            "|Pakistan Peoples ...|       1|\n",
            "|Tehreek-e-Labbaik...|      22|\n",
            "|Balochistan Natio...|      13|\n",
            "|Awami National Party|      61|\n",
            "|Pakistan Muslim L...|       1|\n",
            "|  Sindh United Party|       9|\n",
            "|All Pakistan Musl...|       3|\n",
            "|Pakistan Muslim L...|      15|\n",
            "|Front National (P...|       1|\n",
            "+--------------------+--------+\n",
            "only showing top 20 rows\n",
            "\n"
          ]
        }
      ]
    },
    {
      "cell_type": "code",
      "source": [
        "# Assuming you have already aggregated the data in party_seat_counts DataFrame\n",
        "\n",
        "# Create a bar chart using Plotly Express\n",
        "fig = px.bar(party_seat_counts.toPandas(), x='Party', y='SeatsWon',\n",
        "             title='Number of Seats Won by Each Party',\n",
        "             labels={'Party': 'Party', 'SeatsWon': 'Number of Seats'})\n",
        "\n",
        "# Display the plot\n",
        "fig.show()"
      ],
      "metadata": {
        "colab": {
          "base_uri": "https://localhost:8080/",
          "height": 542
        },
        "id": "gwk4yLYi_MmX",
        "outputId": "91a5e87e-1677-4699-fd9d-ebfc7d4e6093"
      },
      "execution_count": 77,
      "outputs": [
        {
          "output_type": "display_data",
          "data": {
            "text/html": [
              "<html>\n",
              "<head><meta charset=\"utf-8\" /></head>\n",
              "<body>\n",
              "    <div>            <script src=\"https://cdnjs.cloudflare.com/ajax/libs/mathjax/2.7.5/MathJax.js?config=TeX-AMS-MML_SVG\"></script><script type=\"text/javascript\">if (window.MathJax && window.MathJax.Hub && window.MathJax.Hub.Config) {window.MathJax.Hub.Config({SVG: {font: \"STIX-Web\"}});}</script>                <script type=\"text/javascript\">window.PlotlyConfig = {MathJaxConfig: 'local'};</script>\n",
              "        <script charset=\"utf-8\" src=\"https://cdn.plot.ly/plotly-2.24.1.min.js\"></script>                <div id=\"fc3241f1-cf19-49d0-9830-a2f80090d4a1\" class=\"plotly-graph-div\" style=\"height:525px; width:100%;\"></div>            <script type=\"text/javascript\">                                    window.PLOTLYENV=window.PLOTLYENV || {};                                    if (document.getElementById(\"fc3241f1-cf19-49d0-9830-a2f80090d4a1\")) {                    Plotly.newPlot(                        \"fc3241f1-cf19-49d0-9830-a2f80090d4a1\",                        [{\"alignmentgroup\":\"True\",\"hovertemplate\":\"Party=%{x}\\u003cbr\\u003eNumber of Seats=%{y}\\u003cextra\\u003e\\u003c\\u002fextra\\u003e\",\"legendgroup\":\"\",\"marker\":{\"color\":\"#636efa\",\"pattern\":{\"shape\":\"\"}},\"name\":\"\",\"offsetgroup\":\"\",\"orientation\":\"v\",\"showlegend\":false,\"textposition\":\"auto\",\"x\":[\"Tehreek-e-Labbaik Pakistan\",\"Tehreek-e-Suba Hazara Pakistan\",\"Pakistan Awami League\",\"Jamote Qaumi Movement\",\"Jannat Pakistan Party\",\"Tehreek Jawanan Pakistan\",\"Grand Democratic Alliance\",\"Jamiat Ulma-e-Islam Nazryati Pakistan\",\"Aam Admi Tehreek Pakistan\",\"Amun Taraqqi Party\",\"Pakistan Awami Inqelabi League\",\"Pakistan Peoples Party\",\"Tehreek-e-Labbaik Islam\",\"Balochistan National Party\",\"Awami National Party\",\"Pakistan Muslim League (F)\",\"Sindh United Party\",\"All Pakistan Muslim League (jinnah)\",\"Pakistan Muslim League\",\"Front National (Pakistan)\",\"All Pakistan Tehreek\",\"Pakistan Sunni Tehreek\",\"Awam League\",\"Pakistan Muslim League(Z)\",\"Majlis-e-Wahdat-e-Muslimeen Pakistan\",\"Pashtoonkhwa Milli Awami Party\",\"Pakistan National Muslim League\",\"Balochistan Awami Party\",\"Pakistan Tehreek-e-Insaf Nazriati\",\"Mustaqbil Pakistan\",\"National Peace Council Party\",\"Allah-o-Akbar Tehreek\",\"Pakistan Muslim League Council\",\"Jamiat Ulama-e-Islam Pakistan (S)\",\"Pakistan Siraiki Party (T)\",\"Pasban Pakistan.\",\"Jamhoori Wattan Party\",\"Pakistan Kissan Ittehad(Ch. Anwar)\",\"Awami Muslim League Pakistan\",\"Pakistan Falah Party\",\"Pakistan Muslim Alliance\",\"Balochistan National Party (Awami)\",\"Tabdeeli Pasand Party Pakistan\",\"Mutahidda Qabail Party\",\"Muttahida Majlis-e-Amal Pakistan\",\"Balochistan National Movement\",\"Move on Pakistan\",\"Pakistan Peoples Party Parliamentarians\",\"Sunni Ittehad Council\",\"Qaumi Watan Party\",\"Pakistan Human Rights Party\",\"Tehreek Tabdili Nizam Pakistan\",\"Aam Awam Party\",\"Pakistan Aman Party\",\"Muttahida Qaumi Movement Pakistan\",\"Pakistan Welfare Party\",\"Pakistan Muslim League Orginization\",\"Awami Justice Party Pakistan\",\"Aam Log Party Pakistan\",\"Peoples Movement of Pakistan (PMP)\",\"Pakistan Muslim League (Sher-e-Bangal)\",\"Pakistan Human Party\",\"Mohajir Qaumi Movement Pakistan\",\"Jamiat Ulama-e-Pakistan  (Noorani)\",\"All Pakistan Muslim League\",\"Pak Sarzameen Party\",\"Pakistan Tehreek-e-Insaf-Gulalai\",\"Pakistan Supreme Democratic\",\"Pakistan Aman Tehreek.\",\"Hazara Democratic Party\",\"Pakistan Peoples Party (Shaheed Bhutto)\",\"Roshan Pakistan League\",\"Saraiskistan Democratic Party\",\"Pakistan Awami Raj\",\"Pakistan Tehreek-e-Insaniat\",\"Pakistan Freedom Movement\",\"Barabri Party Pakistan\",\"Humdardan-e-Watan Pakistan\",\"Pakistan Quami Yakjehti Party\",\"Pakistan Justice & Democratic Party\",\"Pakistan Tehreek-e-Insaf\",\"Pakistan Muslim League (N)\",\"Awami Workers Party\",\"National Party\",\"Independent\",\"Pakistan Rah-e-Haq Party\"],\"xaxis\":\"x\",\"y\":[175,1,3,1,3,7,29,10,1,13,2,1,22,13,61,1,9,3,15,1,1,12,1,3,7,20,3,15,10,4,1,69,1,11,2,6,4,11,1,5,8,9,3,3,188,4,2,246,2,17,1,2,2,1,34,2,1,2,4,1,2,3,12,5,46,57,8,1,1,2,11,2,1,13,1,4,8,3,5,20,243,214,8,18,1627,23],\"yaxis\":\"y\",\"type\":\"bar\"}],                        {\"template\":{\"data\":{\"histogram2dcontour\":[{\"type\":\"histogram2dcontour\",\"colorbar\":{\"outlinewidth\":0,\"ticks\":\"\"},\"colorscale\":[[0.0,\"#0d0887\"],[0.1111111111111111,\"#46039f\"],[0.2222222222222222,\"#7201a8\"],[0.3333333333333333,\"#9c179e\"],[0.4444444444444444,\"#bd3786\"],[0.5555555555555556,\"#d8576b\"],[0.6666666666666666,\"#ed7953\"],[0.7777777777777778,\"#fb9f3a\"],[0.8888888888888888,\"#fdca26\"],[1.0,\"#f0f921\"]]}],\"choropleth\":[{\"type\":\"choropleth\",\"colorbar\":{\"outlinewidth\":0,\"ticks\":\"\"}}],\"histogram2d\":[{\"type\":\"histogram2d\",\"colorbar\":{\"outlinewidth\":0,\"ticks\":\"\"},\"colorscale\":[[0.0,\"#0d0887\"],[0.1111111111111111,\"#46039f\"],[0.2222222222222222,\"#7201a8\"],[0.3333333333333333,\"#9c179e\"],[0.4444444444444444,\"#bd3786\"],[0.5555555555555556,\"#d8576b\"],[0.6666666666666666,\"#ed7953\"],[0.7777777777777778,\"#fb9f3a\"],[0.8888888888888888,\"#fdca26\"],[1.0,\"#f0f921\"]]}],\"heatmap\":[{\"type\":\"heatmap\",\"colorbar\":{\"outlinewidth\":0,\"ticks\":\"\"},\"colorscale\":[[0.0,\"#0d0887\"],[0.1111111111111111,\"#46039f\"],[0.2222222222222222,\"#7201a8\"],[0.3333333333333333,\"#9c179e\"],[0.4444444444444444,\"#bd3786\"],[0.5555555555555556,\"#d8576b\"],[0.6666666666666666,\"#ed7953\"],[0.7777777777777778,\"#fb9f3a\"],[0.8888888888888888,\"#fdca26\"],[1.0,\"#f0f921\"]]}],\"heatmapgl\":[{\"type\":\"heatmapgl\",\"colorbar\":{\"outlinewidth\":0,\"ticks\":\"\"},\"colorscale\":[[0.0,\"#0d0887\"],[0.1111111111111111,\"#46039f\"],[0.2222222222222222,\"#7201a8\"],[0.3333333333333333,\"#9c179e\"],[0.4444444444444444,\"#bd3786\"],[0.5555555555555556,\"#d8576b\"],[0.6666666666666666,\"#ed7953\"],[0.7777777777777778,\"#fb9f3a\"],[0.8888888888888888,\"#fdca26\"],[1.0,\"#f0f921\"]]}],\"contourcarpet\":[{\"type\":\"contourcarpet\",\"colorbar\":{\"outlinewidth\":0,\"ticks\":\"\"}}],\"contour\":[{\"type\":\"contour\",\"colorbar\":{\"outlinewidth\":0,\"ticks\":\"\"},\"colorscale\":[[0.0,\"#0d0887\"],[0.1111111111111111,\"#46039f\"],[0.2222222222222222,\"#7201a8\"],[0.3333333333333333,\"#9c179e\"],[0.4444444444444444,\"#bd3786\"],[0.5555555555555556,\"#d8576b\"],[0.6666666666666666,\"#ed7953\"],[0.7777777777777778,\"#fb9f3a\"],[0.8888888888888888,\"#fdca26\"],[1.0,\"#f0f921\"]]}],\"surface\":[{\"type\":\"surface\",\"colorbar\":{\"outlinewidth\":0,\"ticks\":\"\"},\"colorscale\":[[0.0,\"#0d0887\"],[0.1111111111111111,\"#46039f\"],[0.2222222222222222,\"#7201a8\"],[0.3333333333333333,\"#9c179e\"],[0.4444444444444444,\"#bd3786\"],[0.5555555555555556,\"#d8576b\"],[0.6666666666666666,\"#ed7953\"],[0.7777777777777778,\"#fb9f3a\"],[0.8888888888888888,\"#fdca26\"],[1.0,\"#f0f921\"]]}],\"mesh3d\":[{\"type\":\"mesh3d\",\"colorbar\":{\"outlinewidth\":0,\"ticks\":\"\"}}],\"scatter\":[{\"fillpattern\":{\"fillmode\":\"overlay\",\"size\":10,\"solidity\":0.2},\"type\":\"scatter\"}],\"parcoords\":[{\"type\":\"parcoords\",\"line\":{\"colorbar\":{\"outlinewidth\":0,\"ticks\":\"\"}}}],\"scatterpolargl\":[{\"type\":\"scatterpolargl\",\"marker\":{\"colorbar\":{\"outlinewidth\":0,\"ticks\":\"\"}}}],\"bar\":[{\"error_x\":{\"color\":\"#2a3f5f\"},\"error_y\":{\"color\":\"#2a3f5f\"},\"marker\":{\"line\":{\"color\":\"#E5ECF6\",\"width\":0.5},\"pattern\":{\"fillmode\":\"overlay\",\"size\":10,\"solidity\":0.2}},\"type\":\"bar\"}],\"scattergeo\":[{\"type\":\"scattergeo\",\"marker\":{\"colorbar\":{\"outlinewidth\":0,\"ticks\":\"\"}}}],\"scatterpolar\":[{\"type\":\"scatterpolar\",\"marker\":{\"colorbar\":{\"outlinewidth\":0,\"ticks\":\"\"}}}],\"histogram\":[{\"marker\":{\"pattern\":{\"fillmode\":\"overlay\",\"size\":10,\"solidity\":0.2}},\"type\":\"histogram\"}],\"scattergl\":[{\"type\":\"scattergl\",\"marker\":{\"colorbar\":{\"outlinewidth\":0,\"ticks\":\"\"}}}],\"scatter3d\":[{\"type\":\"scatter3d\",\"line\":{\"colorbar\":{\"outlinewidth\":0,\"ticks\":\"\"}},\"marker\":{\"colorbar\":{\"outlinewidth\":0,\"ticks\":\"\"}}}],\"scattermapbox\":[{\"type\":\"scattermapbox\",\"marker\":{\"colorbar\":{\"outlinewidth\":0,\"ticks\":\"\"}}}],\"scatterternary\":[{\"type\":\"scatterternary\",\"marker\":{\"colorbar\":{\"outlinewidth\":0,\"ticks\":\"\"}}}],\"scattercarpet\":[{\"type\":\"scattercarpet\",\"marker\":{\"colorbar\":{\"outlinewidth\":0,\"ticks\":\"\"}}}],\"carpet\":[{\"aaxis\":{\"endlinecolor\":\"#2a3f5f\",\"gridcolor\":\"white\",\"linecolor\":\"white\",\"minorgridcolor\":\"white\",\"startlinecolor\":\"#2a3f5f\"},\"baxis\":{\"endlinecolor\":\"#2a3f5f\",\"gridcolor\":\"white\",\"linecolor\":\"white\",\"minorgridcolor\":\"white\",\"startlinecolor\":\"#2a3f5f\"},\"type\":\"carpet\"}],\"table\":[{\"cells\":{\"fill\":{\"color\":\"#EBF0F8\"},\"line\":{\"color\":\"white\"}},\"header\":{\"fill\":{\"color\":\"#C8D4E3\"},\"line\":{\"color\":\"white\"}},\"type\":\"table\"}],\"barpolar\":[{\"marker\":{\"line\":{\"color\":\"#E5ECF6\",\"width\":0.5},\"pattern\":{\"fillmode\":\"overlay\",\"size\":10,\"solidity\":0.2}},\"type\":\"barpolar\"}],\"pie\":[{\"automargin\":true,\"type\":\"pie\"}]},\"layout\":{\"autotypenumbers\":\"strict\",\"colorway\":[\"#636efa\",\"#EF553B\",\"#00cc96\",\"#ab63fa\",\"#FFA15A\",\"#19d3f3\",\"#FF6692\",\"#B6E880\",\"#FF97FF\",\"#FECB52\"],\"font\":{\"color\":\"#2a3f5f\"},\"hovermode\":\"closest\",\"hoverlabel\":{\"align\":\"left\"},\"paper_bgcolor\":\"white\",\"plot_bgcolor\":\"#E5ECF6\",\"polar\":{\"bgcolor\":\"#E5ECF6\",\"angularaxis\":{\"gridcolor\":\"white\",\"linecolor\":\"white\",\"ticks\":\"\"},\"radialaxis\":{\"gridcolor\":\"white\",\"linecolor\":\"white\",\"ticks\":\"\"}},\"ternary\":{\"bgcolor\":\"#E5ECF6\",\"aaxis\":{\"gridcolor\":\"white\",\"linecolor\":\"white\",\"ticks\":\"\"},\"baxis\":{\"gridcolor\":\"white\",\"linecolor\":\"white\",\"ticks\":\"\"},\"caxis\":{\"gridcolor\":\"white\",\"linecolor\":\"white\",\"ticks\":\"\"}},\"coloraxis\":{\"colorbar\":{\"outlinewidth\":0,\"ticks\":\"\"}},\"colorscale\":{\"sequential\":[[0.0,\"#0d0887\"],[0.1111111111111111,\"#46039f\"],[0.2222222222222222,\"#7201a8\"],[0.3333333333333333,\"#9c179e\"],[0.4444444444444444,\"#bd3786\"],[0.5555555555555556,\"#d8576b\"],[0.6666666666666666,\"#ed7953\"],[0.7777777777777778,\"#fb9f3a\"],[0.8888888888888888,\"#fdca26\"],[1.0,\"#f0f921\"]],\"sequentialminus\":[[0.0,\"#0d0887\"],[0.1111111111111111,\"#46039f\"],[0.2222222222222222,\"#7201a8\"],[0.3333333333333333,\"#9c179e\"],[0.4444444444444444,\"#bd3786\"],[0.5555555555555556,\"#d8576b\"],[0.6666666666666666,\"#ed7953\"],[0.7777777777777778,\"#fb9f3a\"],[0.8888888888888888,\"#fdca26\"],[1.0,\"#f0f921\"]],\"diverging\":[[0,\"#8e0152\"],[0.1,\"#c51b7d\"],[0.2,\"#de77ae\"],[0.3,\"#f1b6da\"],[0.4,\"#fde0ef\"],[0.5,\"#f7f7f7\"],[0.6,\"#e6f5d0\"],[0.7,\"#b8e186\"],[0.8,\"#7fbc41\"],[0.9,\"#4d9221\"],[1,\"#276419\"]]},\"xaxis\":{\"gridcolor\":\"white\",\"linecolor\":\"white\",\"ticks\":\"\",\"title\":{\"standoff\":15},\"zerolinecolor\":\"white\",\"automargin\":true,\"zerolinewidth\":2},\"yaxis\":{\"gridcolor\":\"white\",\"linecolor\":\"white\",\"ticks\":\"\",\"title\":{\"standoff\":15},\"zerolinecolor\":\"white\",\"automargin\":true,\"zerolinewidth\":2},\"scene\":{\"xaxis\":{\"backgroundcolor\":\"#E5ECF6\",\"gridcolor\":\"white\",\"linecolor\":\"white\",\"showbackground\":true,\"ticks\":\"\",\"zerolinecolor\":\"white\",\"gridwidth\":2},\"yaxis\":{\"backgroundcolor\":\"#E5ECF6\",\"gridcolor\":\"white\",\"linecolor\":\"white\",\"showbackground\":true,\"ticks\":\"\",\"zerolinecolor\":\"white\",\"gridwidth\":2},\"zaxis\":{\"backgroundcolor\":\"#E5ECF6\",\"gridcolor\":\"white\",\"linecolor\":\"white\",\"showbackground\":true,\"ticks\":\"\",\"zerolinecolor\":\"white\",\"gridwidth\":2}},\"shapedefaults\":{\"line\":{\"color\":\"#2a3f5f\"}},\"annotationdefaults\":{\"arrowcolor\":\"#2a3f5f\",\"arrowhead\":0,\"arrowwidth\":1},\"geo\":{\"bgcolor\":\"white\",\"landcolor\":\"#E5ECF6\",\"subunitcolor\":\"white\",\"showland\":true,\"showlakes\":true,\"lakecolor\":\"white\"},\"title\":{\"x\":0.05},\"mapbox\":{\"style\":\"light\"}}},\"xaxis\":{\"anchor\":\"y\",\"domain\":[0.0,1.0],\"title\":{\"text\":\"Party\"}},\"yaxis\":{\"anchor\":\"x\",\"domain\":[0.0,1.0],\"title\":{\"text\":\"Number of Seats\"}},\"legend\":{\"tracegroupgap\":0},\"title\":{\"text\":\"Number of Seats Won by Each Party\"},\"barmode\":\"relative\"},                        {\"responsive\": true}                    ).then(function(){\n",
              "                            \n",
              "var gd = document.getElementById('fc3241f1-cf19-49d0-9830-a2f80090d4a1');\n",
              "var x = new MutationObserver(function (mutations, observer) {{\n",
              "        var display = window.getComputedStyle(gd).display;\n",
              "        if (!display || display === 'none') {{\n",
              "            console.log([gd, 'removed!']);\n",
              "            Plotly.purge(gd);\n",
              "            observer.disconnect();\n",
              "        }}\n",
              "}});\n",
              "\n",
              "// Listen for the removal of the full notebook cells\n",
              "var notebookContainer = gd.closest('#notebook-container');\n",
              "if (notebookContainer) {{\n",
              "    x.observe(notebookContainer, {childList: true});\n",
              "}}\n",
              "\n",
              "// Listen for the clearing of the current output cell\n",
              "var outputEl = gd.closest('.output');\n",
              "if (outputEl) {{\n",
              "    x.observe(outputEl, {childList: true});\n",
              "}}\n",
              "\n",
              "                        })                };                            </script>        </div>\n",
              "</body>\n",
              "</html>"
            ]
          },
          "metadata": {}
        }
      ]
    },
    {
      "cell_type": "code",
      "source": [
        "# Group the DataFrame by ConstituencyTitle and collect the list of candidates for each constituency\n",
        "candidates_per_constituency = df18.groupBy(\"ConstituencyTitle\").agg(collect_list(\"CandidateName\").alias(\"Candidates\"))\n",
        "\n",
        "# Show the result\n",
        "candidates_per_constituency.show(truncate=False)"
      ],
      "metadata": {
        "colab": {
          "base_uri": "https://localhost:8080/"
        },
        "id": "MY4ANTl3FKTF",
        "outputId": "3b676c07-d411-4d14-fc1c-fe155ae512b0"
      },
      "execution_count": 79,
      "outputs": [
        {
          "output_type": "stream",
          "name": "stdout",
          "text": [
            "+-----------------+--------------------------------------------------------------------------------------------------------------------------------------------------------------------------------------------------------------------------------------------------------------------------------------------------------------------------------------------------+\n",
            "|ConstituencyTitle|Candidates                                                                                                                                                                                                                                                                                                                                        |\n",
            "+-----------------+--------------------------------------------------------------------------------------------------------------------------------------------------------------------------------------------------------------------------------------------------------------------------------------------------------------------------------------------------+\n",
            "|NA-1             |[Moulana Abdul Akbar Chitrali, Saeed ur Rehman, Muhammad Yahya, Shahzada Muhammad Taimur Khisrao, Eid Ul Hussain, Muhammad Amjad, Taqdira Ajmal, Abdul Latif, Iftikhar Ud Din, Nisar Dastageer, Saleem Khan]                                                                                                                                      |\n",
            "|NA-10            |[Ibadullah Khan, Amir Sultan, Bakht Nasib Khan, Hamid Iqbal Khan, Praviz Ahmad, Sadeed ur Rahman, Safeer Khan, Said Fareen, Waqar Ahmad Khan]                                                                                                                                                                                                     |\n",
            "|NA-100           |[QAISER AHMED SHEIKH, ARSHAD AHMAD, SHAHBAZ ALI HUSSAINI, SYED INAYAT ALI SHAH, MUHAMMAD ALI SHAH, UMAR DRAZ, MUHAMMAD NAWAZ, ZULFIQAR ALI SHAH, MUHAMMAD IMRAN, MUHAMMAD USMAN, SHEIKH KAISER MEHMOOD, NOREEN BASIT, ARSHAD ABBAS SHAH]                                                                                                          |\n",
            "|NA-101           |[Muhammad Asim Nazir, Shabbir Ahmad, Afifa Saddiqui, Ishfaq Ahmad, Imdad Ali, Muhammad Azeem Aslam, Sajjad Ahmad, Zafar Zulqarnain Sahi, Muhammad Zahir, Iftikhar Ali, Rizwan Liaqat, Fawad Ahmad Cheema, TARIQ MEHMOOD, Farman Ali Khan]                                                                                                         |\n",
            "|NA-102           |[NAWAB SHER, CHAUDHARY MUHAMMAD TAYYAB ARIF, IRFAN SHAHID WASSIR, KASHIF ALTAF, MUHAMMAD AKRAM CHAUHDARY, MUHAMMAD ASHRAF CHAUDHARY, MUHAMMAD BILAL BADAR, MUHAMMAD KAMRAN, MUHAMMAD SHAHJAHAN KHAN, MUHAMMAD TALLAL BADAR, RASHEED AHMAD KHAN RANA, RIAZ AHMAD, SADIA AKHTAR, SANAULLAH QAMAR BAJWA, SYED TAYYAB RAZA SHAH, UMAIR WASI CHOUDHARY]|\n",
            "|NA-104           |[Ch Muhammad Shahbaz Babar, Abdul Khaliq, ch mazhar ali gill, Fahd Ghaffar, Khalid Mehmood Gill, Muhammad Bilal Farooq Khan, Muhammad Faheem Akhtar, Muhammad Shoukat Iqbal, Muhammad Younas, Raheel Abid, Rana Muhammad Farooq Saeed Khan, Sardar Dildar Ahmad Cheema, Sardar Sarfraz Ahmad Cheema, Shafqat Rasul]                               |\n",
            "|NA-105           |[Raza Nasrullah, Nadeem Hayat Khan, Ibrar Hussain, Asif Touseef, Tariq Ali, Ahsan Raza, Mian Muhammad Farooq, mian moazzam farooq, Muhammad Qasim Farooq, Umar Farooq, Muhammad Masood Nazir, Mohammad Ejaz Choudhry, Nawaz Ahmad Cheema]                                                                                                         |\n",
            "|NA-106           |[Rana Sana Ullah Khan, Ahmad Shehryar, Basharat Ali, Muhammad Abbas Haider, Muhammad Haroon, Mumtaz Hussain, Nisar Ahmad, Saeed Iqbal]                                                                                                                                                                                                            |\n",
            "|NA-107           |[Khurram Shahzad, Muhammad Hanif, Haji Muhammad Akram Ansari, Sardar Muhammad, Rabia Mukhtar, Muhammad Zeeshan, Muhammad Asif]                                                                                                                                                                                                                    |\n",
            "|NA-108           |[FARRUKH HABIB, ABID SHER ALI, ASGHAR ALI QAISER, AZHAR ABBAS, MUHAMMAD ASLAM, MUHAMMAD ZAKARIA SYED, RANA ABU KHABIB REHMAN KHAN, RIZWAN MAHMOOD, SHAHBAZ ALI GULZAR]                                                                                                                                                                            |\n",
            "|NA-109           |[FAIZ ULLAH, MUHAMMAD KAMRAN ASGHAR, MUHAMMAD MANSOOR AHMAD AWAN, ZAFAR HUSSAIN KHAN, MIAN ABDUL MANNAN, MUHAMMAD ASIF, MUHAMMAD AFZAL, KALEEM ULLAH KAMOKA, FAYYAZ AHMED, MUHAMMAD ASAD IQBAL]                                                                                                                                                   |\n",
            "|NA-11            |[Afreen Khan, Mehboobullah Jan, Syed Gul Badshah, Haji Misar Khan, Muhammad Naseer, Malak Nor Wali Shah, Muhammad Yaseen, Dost Muhammad Shakir, Juma Din, Abdul Qayum, Said Jan, Haji Mir Dad, Shehzad Latif, Aurang Zeb, Sher Baz, Noor Ul Amin, Bakht Jahan]                                                                                    |\n",
            "|NA-110           |[Raja Riaz Ahmad, Ayaz Mahmood, Hafiz Umer Farooq, Malik Muhammad Nawaz, Muhammad Afzal Khan, MUHAMMAD KAMRAN, Muhammad Nadeem Pasha, Munawar Fayyaz Sunny, Sahibzada Muhammad Hamid Raza, Shabbir Asghar, Younas Suleman]                                                                                                                        |\n",
            "|NA-111           |[CHAUDHARY KHALID JAVED, AMJAD ALI, ATTA ULLAH HAMEED, FARKHANDA AMJAD, HAJI MUHAMMAD ISHAQ, MUHAMAMD NOUMAN KHALID, MUHAMMAD ASLAM KHAN, MUHAMMAD ISHTIAQ, SAFDAR ALI WAHLA, TAJ MEHMOOD, USAMA HAMZA]                                                                                                                                           |\n",
            "|NA-112           |[MUHAMMAD JUNAID ANWAR CHAUDHRY, ANWAR UL HAQ, FURQAN SAEED, Irfan Asad, khawar ahmed khan, MIAN UMAR ASHFAQ, MUHAMMAD AJMAL SIDDIQUE, MUHAMMAD AMIR MUNIR, MUHAMMAD AMJAD, MUHAMMAD ASHFAQ, MUHAMMAD TAREEJ, NEELAM JABBAR CHAUDHRY, SALAH UD DIN, SOBIA JUNAID, TARIQ ANWAR]                                                                    |\n",
            "|NA-113           |[MUHAMMAD RIAZ KHAN, AHMAD SHAHZAD SHAH, AMIR USMAN, ASAD UR REHMAN, AZIZ UR REHMAN MAHMOOD, BABAR KHAN, CHAUDHARY ASAD UR REHMAN, GHULAM ABBAS, MUHAMMAD AIN ULLAH, MUHAMMAD ZAFAR YAB KHAN, MUSTAFA RAMDAY, NADEEM SHAHZAD, NASIM IQBAL, SARWAR CHAUDHARY, SYED ASAD ABBAS SHAH]                                                                |\n",
            "|NA-114           |[SAHIBZADA MUHAMMAD MEHBOOB SULTAN, ALEESHA IFTIKHAR, MAKHDOOM SYED FAISAL SALEH HAYAT, ALLAH DAD KHAN, MUHAMMAD ISRAR UL HAQ CHEEMA, MUHAMMAD ASIF MUAVIA, NADEEM MUMTAZ QURESHI, HAJI DAUD KHAN, Naveed Mukhtar Ahmed Khan]                                                                                                                     |\n",
            "|NA-115           |[GHULAM BIBI, Abdul Jabbar Khan, HAKIM ALI, LUBAINA SIDDIQUA, MUHAMMAD AHMAD, MUHAMMAD ILYAS, MUHAMMAD SALEEM TAHIR, SHEIKH MUHAMMAD AKRAM, SYEDA SUGHRA IMAM, WAQAS AKRAM, ZAWAR HUSSAIN]                                                                                                                                                        |\n",
            "|NA-116           |[Muhammad Ameer Sultan, Ameer Abbas Sial, Fawad Akram, MUHAMMAD ASIF MUAVIA, MUHAMMAD KHURSHEED AHMAD, Muhammad Nasir, Muhammad Ramzan, Muhammad Younas Raza, Nazar Abbas, Saima Akhtar, SHEIKH MUHAMMAD AKRAM, Umer Daraz, Zahoor Ahmad Sajid]                                                                                                   |\n",
            "|NA-117           |[CH MUHAMMAD BARJEES TAHIR, AKRAM HAYAT CHEEMA, ch bilal ahmed virk, ch shafqat rasul ghuman, ch waqas ahmed virk, DR HAROON ISHFAQ CHAUDHARY, MUHAMMAD AZAM, MUHAMMAD RIZWAN WAHGA, MUHAMMAD WAQAS, NAEEM IQBAL, TARIQ MEHMOOD BAJWA]                                                                                                            |\n",
            "+-----------------+--------------------------------------------------------------------------------------------------------------------------------------------------------------------------------------------------------------------------------------------------------------------------------------------------------------------------------------------------+\n",
            "only showing top 20 rows\n",
            "\n"
          ]
        }
      ]
    },
    {
      "cell_type": "code",
      "source": [
        "\n",
        "# Convert the candidates_per_constituency DataFrame to Pandas\n",
        "candidates_per_constituency_pd = candidates_per_constituency.toPandas()\n",
        "\n",
        "# Create a bar chart using Plotly Express\n",
        "fig = px.bar(candidates_per_constituency_pd, y='ConstituencyTitle',\n",
        "             x='Candidates',\n",
        "             orientation='h',\n",
        "             title='Number of Candidates per Constituency',\n",
        "             labels={'ConstituencyTitle': 'Constituency', 'Candidates': 'Number of Candidates'})\n",
        "\n",
        "# Display the plot\n",
        "fig.show()"
      ],
      "metadata": {
        "colab": {
          "base_uri": "https://localhost:8080/",
          "height": 542
        },
        "id": "_F_OA_AZFits",
        "outputId": "c8384210-a157-467e-df49-984b5bab09c9"
      },
      "execution_count": 85,
      "outputs": [
        {
          "output_type": "display_data",
          "data": {
            "text/html": [
              "<html>\n",
              "<head><meta charset=\"utf-8\" /></head>\n",
              "<body>\n",
              "    <div>            <script src=\"https://cdnjs.cloudflare.com/ajax/libs/mathjax/2.7.5/MathJax.js?config=TeX-AMS-MML_SVG\"></script><script type=\"text/javascript\">if (window.MathJax && window.MathJax.Hub && window.MathJax.Hub.Config) {window.MathJax.Hub.Config({SVG: {font: \"STIX-Web\"}});}</script>                <script type=\"text/javascript\">window.PlotlyConfig = {MathJaxConfig: 'local'};</script>\n",
              "        <script charset=\"utf-8\" src=\"https://cdn.plot.ly/plotly-2.24.1.min.js\"></script>                <div id=\"22b129f3-06e1-4ed5-8c56-39d14aee7025\" class=\"plotly-graph-div\" style=\"height:525px; width:100%;\"></div>            <script type=\"text/javascript\">                                    window.PLOTLYENV=window.PLOTLYENV || {};                                    if (document.getElementById(\"22b129f3-06e1-4ed5-8c56-39d14aee7025\")) {                    Plotly.newPlot(                        \"22b129f3-06e1-4ed5-8c56-39d14aee7025\",                        [{\"alignmentgroup\":\"True\",\"hovertemplate\":\"Number of Candidates=%{x}\\u003cbr\\u003eConstituency=%{y}\\u003cextra\\u003e\\u003c\\u002fextra\\u003e\",\"legendgroup\":\"\",\"marker\":{\"color\":\"#636efa\",\"pattern\":{\"shape\":\"\"}},\"name\":\"\",\"offsetgroup\":\"\",\"orientation\":\"h\",\"showlegend\":false,\"textposition\":\"auto\",\"x\":[[\"Moulana Abdul Akbar Chitrali\",\"Saeed ur Rehman\",\"Muhammad Yahya\",\"Shahzada Muhammad Taimur Khisrao\",\"Eid Ul Hussain\",\"Muhammad Amjad\",\"Taqdira Ajmal\",\"Abdul Latif\",\"Iftikhar Ud Din\",\"Nisar Dastageer\",\"Saleem Khan\"],[\"Ibadullah Khan\",\"Amir Sultan\",\"Bakht Nasib Khan\",\"Hamid Iqbal Khan\",\"Praviz Ahmad\",\"Sadeed ur Rahman\",\"Safeer Khan\",\"Said Fareen\",\"Waqar Ahmad Khan\"],[\"QAISER AHMED SHEIKH\",\"ARSHAD AHMAD\",\"SHAHBAZ ALI HUSSAINI\",\"SYED INAYAT ALI SHAH\",\"MUHAMMAD ALI SHAH\",\"UMAR DRAZ\",\"MUHAMMAD NAWAZ\",\"ZULFIQAR ALI SHAH\",\"MUHAMMAD IMRAN\",\"MUHAMMAD USMAN\",\"SHEIKH KAISER MEHMOOD\",\"NOREEN BASIT\",\"ARSHAD ABBAS SHAH\"],[\"Muhammad Asim Nazir\",\"Shabbir Ahmad\",\"Afifa Saddiqui\",\"Ishfaq Ahmad\",\"Imdad Ali\",\"Muhammad Azeem Aslam\",\"Sajjad Ahmad\",\"Zafar Zulqarnain Sahi\",\"Muhammad Zahir\",\"Iftikhar Ali\",\"Rizwan Liaqat\",\"Fawad Ahmad Cheema\",\"TARIQ MEHMOOD\",\"Farman Ali Khan\"],[\"NAWAB SHER\",\"CHAUDHARY MUHAMMAD TAYYAB ARIF\",\"IRFAN SHAHID WASSIR\",\"KASHIF ALTAF\",\"MUHAMMAD AKRAM CHAUHDARY\",\"MUHAMMAD ASHRAF CHAUDHARY\",\"MUHAMMAD BILAL BADAR\",\"MUHAMMAD KAMRAN\",\"MUHAMMAD SHAHJAHAN KHAN\",\"MUHAMMAD TALLAL BADAR\",\"RASHEED AHMAD KHAN RANA\",\"RIAZ AHMAD\",\"SADIA AKHTAR\",\"SANAULLAH QAMAR BAJWA\",\"SYED TAYYAB RAZA SHAH\",\"UMAIR WASI CHOUDHARY\"],[\"Ch Muhammad Shahbaz Babar\",\"Abdul Khaliq\",\"ch mazhar ali gill\",\"Fahd Ghaffar\",\"Khalid Mehmood Gill\",\"Muhammad Bilal Farooq Khan\",\"Muhammad Faheem Akhtar\",\"Muhammad Shoukat Iqbal\",\"Muhammad Younas\",\"Raheel Abid\",\"Rana Muhammad Farooq Saeed Khan\",\"Sardar Dildar Ahmad Cheema\",\"Sardar Sarfraz Ahmad Cheema\",\"Shafqat Rasul\"],[\"Raza Nasrullah\",\"Nadeem Hayat Khan\",\"Ibrar Hussain\",\"Asif Touseef\",\"Tariq Ali\",\"Ahsan Raza\",\"Mian Muhammad Farooq\",\"mian moazzam farooq\",\"Muhammad Qasim Farooq\",\"Umar Farooq\",\"Muhammad Masood Nazir\",\"Mohammad Ejaz Choudhry\",\"Nawaz Ahmad Cheema\"],[\"Rana Sana Ullah Khan\",\"Ahmad Shehryar\",\"Basharat Ali\",\"Muhammad Abbas Haider\",\"Muhammad Haroon\",\"Mumtaz Hussain\",\"Nisar Ahmad\",\"Saeed Iqbal\"],[\"Khurram Shahzad\",\"Muhammad Hanif\",\"Haji Muhammad Akram Ansari\",\"Sardar Muhammad\",\"Rabia Mukhtar\",\"Muhammad Zeeshan\",\"Muhammad Asif\"],[\"FARRUKH HABIB\",\"ABID SHER ALI\",\"ASGHAR ALI QAISER\",\"AZHAR ABBAS\",\"MUHAMMAD ASLAM\",\"MUHAMMAD ZAKARIA SYED\",\"RANA ABU KHABIB REHMAN KHAN\",\"RIZWAN MAHMOOD\",\"SHAHBAZ ALI GULZAR\"],[\"FAIZ ULLAH\",\"MUHAMMAD KAMRAN ASGHAR\",\"MUHAMMAD MANSOOR AHMAD AWAN\",\"ZAFAR HUSSAIN KHAN\",\"MIAN ABDUL MANNAN\",\"MUHAMMAD ASIF\",\"MUHAMMAD AFZAL\",\"KALEEM ULLAH KAMOKA\",\"FAYYAZ AHMED\",\"MUHAMMAD ASAD IQBAL\"],[\"Afreen Khan\",\"Mehboobullah Jan\",\"Syed Gul Badshah\",\"Haji Misar Khan\",\"Muhammad Naseer\",\"Malak Nor Wali Shah\",\"Muhammad Yaseen\",\"Dost Muhammad Shakir\",\"Juma Din\",\"Abdul Qayum\",\"Said Jan\",\"Haji Mir Dad\",\"Shehzad Latif\",\"Aurang Zeb\",\"Sher Baz\",\"Noor Ul Amin\",\"Bakht Jahan\"],[\"Raja Riaz Ahmad\",\"Ayaz Mahmood\",\"Hafiz Umer Farooq\",\"Malik Muhammad Nawaz\",\"Muhammad Afzal Khan\",\"MUHAMMAD KAMRAN\",\"Muhammad Nadeem Pasha\",\"Munawar Fayyaz Sunny\",\"Sahibzada Muhammad Hamid Raza\",\"Shabbir Asghar\",\"Younas Suleman\"],[\"CHAUDHARY KHALID JAVED\",\"AMJAD ALI\",\"ATTA ULLAH HAMEED\",\"FARKHANDA AMJAD\",\"HAJI MUHAMMAD ISHAQ\",\"MUHAMAMD NOUMAN KHALID\",\"MUHAMMAD ASLAM KHAN\",\"MUHAMMAD ISHTIAQ\",\"SAFDAR ALI WAHLA\",\"TAJ MEHMOOD\",\"USAMA HAMZA\"],[\"MUHAMMAD JUNAID ANWAR CHAUDHRY\",\"ANWAR UL HAQ\",\"FURQAN SAEED\",\"Irfan Asad\",\"khawar ahmed khan\",\"MIAN UMAR ASHFAQ\",\"MUHAMMAD AJMAL SIDDIQUE\",\"MUHAMMAD AMIR MUNIR\",\"MUHAMMAD AMJAD\",\"MUHAMMAD ASHFAQ\",\"MUHAMMAD TAREEJ\",\"NEELAM JABBAR CHAUDHRY\",\"SALAH UD DIN\",\"SOBIA JUNAID\",\"TARIQ ANWAR\"],[\"MUHAMMAD RIAZ KHAN\",\"AHMAD SHAHZAD SHAH\",\"AMIR USMAN\",\"ASAD UR REHMAN\",\"AZIZ UR REHMAN MAHMOOD\",\"BABAR KHAN\",\"CHAUDHARY ASAD UR REHMAN\",\"GHULAM ABBAS\",\"MUHAMMAD AIN ULLAH\",\"MUHAMMAD ZAFAR YAB KHAN\",\"MUSTAFA RAMDAY\",\"NADEEM SHAHZAD\",\"NASIM IQBAL\",\"SARWAR CHAUDHARY\",\"SYED ASAD ABBAS SHAH\"],[\"SAHIBZADA MUHAMMAD MEHBOOB SULTAN\",\"ALEESHA IFTIKHAR\",\"MAKHDOOM SYED FAISAL SALEH HAYAT\",\"ALLAH DAD KHAN\",\"MUHAMMAD ISRAR UL HAQ CHEEMA\",\"MUHAMMAD ASIF MUAVIA\",\"NADEEM MUMTAZ QURESHI\",\"HAJI DAUD KHAN\",\"Naveed Mukhtar Ahmed Khan\"],[\"GHULAM BIBI\",\"Abdul Jabbar Khan\",\"HAKIM ALI\",\"LUBAINA SIDDIQUA\",\"MUHAMMAD AHMAD\",\"MUHAMMAD ILYAS\",\"MUHAMMAD SALEEM TAHIR\",\"SHEIKH MUHAMMAD AKRAM\",\"SYEDA SUGHRA IMAM\",\"WAQAS AKRAM\",\"ZAWAR HUSSAIN\"],[\"Muhammad Ameer Sultan\",\"Ameer Abbas Sial\",\"Fawad Akram\",\"MUHAMMAD ASIF MUAVIA\",\"MUHAMMAD KHURSHEED AHMAD\",\"Muhammad Nasir\",\"Muhammad Ramzan\",\"Muhammad Younas Raza\",\"Nazar Abbas\",\"Saima Akhtar\",\"SHEIKH MUHAMMAD AKRAM\",\"Umer Daraz\",\"Zahoor Ahmad Sajid\"],[\"CH MUHAMMAD BARJEES TAHIR\",\"AKRAM HAYAT CHEEMA\",\"ch bilal ahmed virk\",\"ch shafqat rasul ghuman\",\"ch waqas ahmed virk\",\"DR HAROON ISHFAQ CHAUDHARY\",\"MUHAMMAD AZAM\",\"MUHAMMAD RIZWAN WAHGA\",\"MUHAMMAD WAQAS\",\"NAEEM IQBAL\",\"TARIQ MEHMOOD BAJWA\"],[\"Ijaz Ahmad Shah\",\"Syed Afzaal Hussain Rizvi\",\"Muneer Ahmad Sabir\",\"Shezra Mansab Ali Khan Kharal\",\"Hussain Shahjahan Bhatti\",\"Tauseef Ahmad Rai\",\"Saeed Ahmad Zafar\",\"Sadam Hussain\",\"Muhammad Shafi\",\"Shahjahan Ahmad Bhatti\"],[\"RAHAT AMAN ULLAH BHATTI\",\"RANA AFZAAL HUSSAIN\",\"SYED FAKHAR ABBAS JAFRI\",\"SAFDAR SHARAZ\",\"SABIR HUSSAIN\",\"MUHAMMAD ANWAR RASHEED\"],[\"Muhammad Nawaz Khan\",\"Rasheed Ahmed\",\"Saeed Ahmed\",\"Misbah Ullah Babar\",\"Rustam Khan\",\"Sabir Hussain Shah\",\"Muhammad Yousaf\",\"Sardar Malik Jan\"],[\"Rana Tanveer Hussain\",\"Akhtar Hassan Chaudhary\",\"Ali Asghar Chaudhary\",\"Arshad Mehmood Chaudhary\",\"Chaudhary Muhammad Ashfaq\",\"Malik Muhammad Iqbal Jora\",\"Rajab Sharif\",\"Sarfraz Raza\",\"Syed Afzal Hussain Rizvi\"],[\"Javed Latif\",\"Nadeem Zafar\",\"Mian Muhammad Munawar Latif\",\"Usman Virk\",\"Khurram Munawar Manj\",\"Ghulam Rasool\",\"Munawar Hussain Manj\",\"Anwar Latif\",\"Liaqat Ali\",\"MUHAMMAD NAWAZ\",\"Syed Muhammad Ali Mehdi Bukhari\",\"Malik Javaid Akbar\",\"Shahzad Ali Virk\",\"Muhammad Saeed Virk\",\"Muhammad Usman\"],[\"Sardar Muhammad Arfan Dogar\",\"Ali Salaman\",\"Altaf Hussain\",\"Attiq Ur Rehman\",\"Aurang Zeb Khan\",\"Chaudhry Muhammad Jameel\",\"Chaudhry Safdar Ali\",\"Gulfam Jameel\",\"Ihsan Ullah\",\"Liaqat Abbas\",\"Muhammad Afzaal\",\"Muhammad Imran Hashmi\",\"Muhammad Javed Bhatti\",\"Muhammad Saddique\",\"Rai Azeem Saeed\",\"Rai Ijaz Ahmad Khan\",\"Saif Ullah\",\"Sana Ullah Chaudhry\",\"Sardar Muhammad Bilal Dogar\",\"Sarfraz Ahmad Khan\",\"Syed Muqadas Abbas Bukhari\"],[\"muhammad Riaz\",\"Amjad khan\",\"AsifMehmoood\",\"faraz hashmi\",\"Hafiz abdul wadood\",\"humayun akhtar khan\",\"m latif khan saraa\",\"Mian mehmood ahmad\",\"touseef akmalkhan\",\"Wahid Ahmad\",\"wajid azeem\",\"zahid iqbal malik\",\"Zaman Ali\"],[\"Muhammad Hamza Shehbaz Sharif\",\"Asim Irshad Khan\",\"Babu Zaheer Ahmad Chaudhry\",\"Muhammad Afzal\",\"Muhammad Nauman Qaiser\",\"Saleem Hammad\",\"Sumaira Nureen\"],[\"Waheed Alam Khan\",\"Hafiz Salman Butt\",\"Zubair Kardar\",\"Nawab Amber Shahzada\",\"Mamoona Hamid\",\"Yasmin Raashid\",\"Syed Zaeem Hussain Qadri\",\"Samia Naz\",\"Waseem Ali Khan\",\"Muhammad Yaqoob Sheikh\",\"Muhammad Imtiaz Chaudhry\",\"Rehana Ahmad\",\"Muhammad Ajasam Sharif\"],[\"Muhammad Hammad Azhar\",\"Aurangzeb Shaafi Burki\",\"Ch Muhammad Ashraff\",\"Mehr Ishtiaq Ahmad Anwar\",\"Waqas Ahmed\"],[\"ALI PERVAIZ\",\"MUHAMMAD AHMAD\",\"MUSARRAT JAMSHED\",\"CH MUHAMMAD ILYAS\",\"CHAUDHRY ADNAN SARWAR\",\"JAMSHED IQBAL\",\"MUHAMMAD ZAHEER\",\"RASHID AHMAD KHAN\",\"MIAN AAMIR ABBAS\"],[\"Sh Rohale Asghar\",\"Humayon Shoukat Ali Butt\",\"Ijaz Ahmad\",\"Manzoor Hussain\",\"Muhammad Fareed\",\"Zafar Ali Shah\",\"Muhammad nazim\",\"Muhammad Ashraf Asif\",\"Syed Manzoor Ali Shah Gillani\",\"Ali Adnan\",\"Syed Aqeel Haider Abbas\",\"Asif Mehmood\",\"Raheel Hussain\",\"Sohail shoukat butt\"],[\"Sardar Ayaz Sadiq\",\"Farooq Tahir Chishti\",\"Sohail Shaukat Butt\",\"Farzana Butt\",\"Abdul Aleem Khan\",\"Muhammad Yousuf\",\"Kishwar Bano\",\"Ali Javed Dogar\",\"Muhammad tajammal hussain\",\"Iftikhar Shahid\",\"Humayun Akhtar Khan\"],[\"Saleh Muhammad\",\"Aamir Shahzad\",\"Sardar Shah JehanYousaf\",\"Nargis Ali\",\"Muhammad Gulfam Swati\",\"Afsar Khan\",\"Muhammad Baseer Khan\",\"Ambereen Ahsan\",\"Iffat Kalsoom\",\"Muhammad Banaris\",\"Sardar Muhammad Sultan\",\"Abdul Salam\",\"Samar Islam\",\"Muhammad Javed\"],[\"Amjad Masood\",\"Hafeez Ur Rehman\",\"Haroon Khawaja\",\"Khawaja Ahmad Hasan\",\"Liaqat Baloch\",\"Muhammad Abu Bakar\",\"Muhammad Mumtaz Khalid\",\"Muhammad Yameen Awan\",\"Saad Bin Hassan\",\"Shafqat Mahmood\"],[\"Imran Ahmed Khan Niazi\",\"Muzaffar Ali\",\"Asim Mehmood\",\"Khawaja Saad Rafique\",\"Waqar Nadeem Warraich\",\"Shoaib ullah Cheema\",\"Jawad Ahmad\",\"Muhammad Mudasir\",\"Tahir Aslam\",\"Nadeem Ahmed\",\"Syed Murtaza Hassan\",\"Faheem Ahmed Khan Loadhi\",\"Mian Zahid islam Anjum\",\"Hamiyon Akhter Khan\",\"Muhammad Jahangir Dogar\"],[\"Mian Muhammad Shehbaz Sharif\",\"Amjad Naeem\",\"Ch Muhammad Mansha Sindhu\",\"Chaudhry Shabbir Ahmed\",\"Haider Ali\",\"Jawad ahmad\",\"Mian Rashid Ali\",\"Muhammad Adnan Khalid\",\"Muhammad Nawaz\",\"Muhammad Ramzan\",\"Muhammad Sajjad Hassan\",\"Nasir Javaid Dogar\",\"Samina Khalid Ghurki\",\"Yasir Tufail\"],[\"Mohammad pervaiz malik\",\"Syed zaeem hussain qadri\",\"Irfan khalid\",\"Main abdur razzaq\",\"Muhammad amjad khan\",\"Nawab ali\",\"Waqif tehmasab kiyani\",\"ch Muhammad Aslam Gill\",\"Matloob Ahmad\",\"Nouman hussain qureshi\",\"Ahmad raza\",\"Ejaz ahmad chaudary\",\"Sohail zia butt\",\"Iftikhar ahmed\"],[\"Rana Mubashir Iqbal\",\"Aneel Ashiq Mutu\",\"Aneela Batool\",\"Malik Zaheer Abbas\",\"Muhammad Irfan Shahkey\",\"Muhammad Sohail Afzal Awan\",\"Rana Khalid Mehmood\",\"Shazia Mubashir\",\"Syed Faqir Hussain Shah Bukhari\",\"Syed Zaeem Hussain Qadri\",\"Zulfiqar Ali Hassan\"],[\"MALIK KARAMAT ALI\",\"AMEER UL AZIM\",\"AMJAD ALI\",\"GOHAR ALI KHAN\",\"MALIK SAIF UL MALOOK KHOKHAR\",\"MALIK TOAQEER ABBAS KHOKHAR\",\"MARYAM RAZA\",\"MUHAMMAD AHMAD MAJEED\"],[\"MUHAMMAD AFZAL\",\"CH AHMAD HUSSAIN\",\"IRFAN SHAFI KHOKHAR\",\"JAMIL AHMAD\",\"KHALID MEHMOOD\",\"MALIK ASAD ALI\",\"MUHAMMAD AHMAD MAJEED\",\"MUHAMMAD KHAN BHATTI\",\"MUHAMMAD YOUNAS\",\"MUNIR AHMAD\",\"NIZAM DIN\",\"Sardar Adil Omar\",\"Sardar Kamil Umar\",\"Shabbir Ahmad\",\"ZUBAIR AHMAD\"],[\"Saad Waseem\",\"Masood Anwar\",\"Shabbir Ahmad\",\"Ghulam Muhammad\",\"Attique ur Rahman\",\"Muhammad Farooq Ul Hassan\",\"Chaudhry Manzoor Ahmad\",\"Nasira Meo\",\"Sardar Asif Ali Daula\",\"Abdul Hanan Sabir\",\"Chaudhary Muhammad Arif Sindhu\",\"Salman Hanif\",\"Javed Mehmood\",\"Muhammad Saleem Mahar\",\"Amjad Ali\",\"Muhammad Ilyas Khan\",\"Amaar Waseem\",\"Zafar Jabbar Chishti\"],[\"RASHEED AHMAD KHAN\",\"AMJAD ALI TUFAIL\",\"DAWOOD ANIS QURESHI\",\"IBTISAM ELAHI ZAHEER\",\"IMRAN ALI KHAN MALIK\",\"ISHAQ SHAHID ISLAFNAR\",\"Mazhar Rasheed Khan\",\"Muhammad Saleem Mahar\",\"MUHAMMAD SHARIF SABIR\",\"Nasira Meo\",\"RABIA HASHIR\",\"RASHID TUFAIL\",\"SAIMA DAWOOD\",\"SARDAR LIAQAT ALI DOGAR\"],[\"RANA MUHAMMAD ISHAQ KHAN\",\"SYED MUHAMMAD AMAAR QAZMI\",\"SARDAR IQBAL ATTA SUKHERA\",\"SARDAR MUHAMAD ATIF NAKAI\",\"IJAZ ALI BHATTI\",\"AZEEM UD DIN ZAHID\",\"IRSHAD MUZAMIL\",\"Ghulam Murtaza\",\"Sardar Muhammad Asif Nakai\",\"ABDUL AZEEZ AZEEZ\",\"RANA LIAQAT ALI KHAN\",\"MUHAMMAD MIRZA\",\"ATTA MUHAMMAD\",\"ZAEEM UD DIN ABID\",\"ARSHAD ALI\",\"SYED MAQSOOD ALI SHAH\",\"SYED RAZA ABBAS\"],[\"Muhammad Sajjad\",\"Muhammad Wajid khan\",\"Muhammad Asif\",\"Zar Gul Khan\",\"Kifayatullah\",\"AHMED SHERYAR KHAN\",\"Qazi Tayyab Shehzad\",\"Fakhar uz zaman khan\",\"Muhammad Aqeel Khan Durrani\",\"Roshan Zaman\"],[\"SARDAR TALIB HASSAN NAKAI\",\"DILSHAD ALI\",\"FAISAL HAYAT\",\"MAQSOOD AHMAD KHAN\",\"MOHAMMAD RAMZAN\",\"MUHAMMAD ARSHAD SAQI\",\"NASIR ALI\",\"RANA MUHAMMAD HAYAT KHAN\",\"RANA TANVEER RIAZ KHAN\",\"SARDAR FAIZ ELLAHI\",\"Sardar Muhammad Asif Nakai\",\"SARDAR MUHAMMAD ATIF NAKAI\"],[\"NADEEM ABBAS\",\"SAEED UR REHMAN\",\"KHALIL UR REHMAN\",\"GHULAM MUJTABA\",\"MASOOD SHAFQAT\",\"MUHAMMAD BILAL SAEED\",\"SOHAIL ARSHAD CH\",\"SYED SUMSAM ALI SHAH BUKHARI\",\"NOOR UL AIN RAI\"],[\"Riaz ul Haq\",\"Fayyaz Zafar\",\"Hafiz Muhammad Abid Attari\",\"Mian Abdul Rasheed\",\"Muhammad Abid Ali Khan\",\"Muhammad Akram\",\"Muhammad Arshad Iqbal\",\"Muhammad Arslan\",\"Muhammad Tariq Khan\",\"Rao Hassan Sikandar\",\"Sheraz Zafar\",\"Shumaila Shoukat\"],[\"RAO MUHAMMAD AJMAL KHAN\",\"SYED ABBAS RAZA RIZVI\",\"Mian Khuram Jehangir wattoo\",\"JAVED IQBAL\",\"RAO MUHAMMAD SAFDAR KHAN\",\"TANVEER HUSSAIN\",\"SYED GULZAR SIBTAIN SHAH\",\"ALI NAWAZ SYED KIRMANI\",\"Syed Muhammad Ali Gillani\",\"SYED ALI ABBAS GILANI\",\"RAO FAHAD AJMAL\",\"MIAN MANZOOR AHMAD KHAN WATTOO\",\"SYED SALMAN HASNAIN\",\"SYED RAZA ALI GILLANI\"],[\"Muhammad Mueen Wattoo\",\"Chand Bibi\",\"Mian Khurrum Jehangir Wattoo\",\"MIAN MANZOOR AHMAD KHAN WATTOO\",\"Mian Muhammad Fayyaz\",\"Muhammad Hussain\",\"Muhammad Jamil Ashraf\",\"Noor Ul Amin Wattoo\",\"Rubina Shaheen Wattoo\",\"Sardar Ali Haider Khan\",\"Shahzad Zulfiqar Ali\",\"Syed Muhammad Ali Gillani\",\"SYED RAZA ALI GILLANI\"],[\"Ahmad Raza Maneka\",\"Abdul Ghafoor\",\"Asghar Ali\",\"Muhammad Shah Khagga\",\"Nadeem Iqbal\",\"Naseem Hashim Khan\",\"Rao Azmat Ullah\",\"Sardar Mansab Ali Dogar\",\"Zulifqar Ali Khan\"],[\"rana iradat sharif khan\",\"MIAN MUHAMMAD AMJAD JOIYA\",\"GHULAM MUSTFA\",\"Muhammad kashif sarwar khan\",\"ahmad zeeshan\",\"mian ejaz hussain sabar\",\"shaukat ali bajwa\",\"waseem zafar\",\"Ghulam Hasan\",\"Muhammad Haider Sultan\",\"saima kashifat ul firdous\",\"Rashid Minhas\",\"Muhammad Farooq\",\"Jahangeer\"],[\"SYED IMRAN AHMAD SHAH\",\"ADNAN KHALID HUSSAIN\",\"AFTAB AHMAD KHAN\",\"ALTAF NAWAZ\",\"BASHIR AHMAD\",\"CHAUDHRY NOURAIZ SHAKOOR KHAN\",\"HAFIZ KHALID MEHMOOD\",\"HAROON ZAMAN KHAGGA\",\"IMRAN UL HAQ\",\"KHALID SADDIQUE KAMYANA\",\"MIRAJ HAMEED\",\"MUHAMMAD ALI SHAKOOR\",\"MUHAMMAD NAEEM ASIF\",\"NAZAR FARID NADEEM\",\"RANA AMIR SHAHZAD TAHIR\",\"ZAFAR IQBAL\"],[\"Chaudry Muhammad Ashraf\",\"Muhammad Tanveer Choudry\",\"Ghulam Farid Kathia\",\"Malik Muhammad Yar Dhakoo\",\"Umair Javed\",\"Malik Muhammad Ramzan\",\"Tariq Aziz\",\"Sami Minhas\",\"MUHAMMAD AMJAD\",\"Rai Munsaf Shabeer Ahmad\"],[\"RAI MUHAMMAD MURTAZA IQBAL\",\"MUHAMMAD TUFAIL\",\"MUHAMMAD ASHRAF\",\"MASOOD KHAN\",\"MUHAMMAD ARSHAD\",\"AMNA NAZ\",\"RANA HAMID\",\"MUHAMMAD HAQ NAWAZ KHAN\",\"ASHIQ HUSSAIN\",\"Muhammad Shakeel\",\"MUHAMMAD HAMZA\",\"ALI JAVED\"],[\"Murtaza Javed Abbasi\",\"Nusrat Anjum\",\"Sardar Muhammad Iqbal Khan\",\"Sardar Gohar Zaman Khan\",\"Ayaz Khan Jadoon\",\"Muhammad Asghar Shah\",\"Zulfiqar Javed\",\"Sardar Muhammad Yaqoob\",\"Sameen Riaz Abbasi\",\"Sardar Manzoor Mumtaz Abbasi\",\"Ali Asghar Khan\",\"Makhdoom Arif Hussain Kazmi\",\"Fazal ur Rehman\"],[\"Syed Fakhar Imam\",\"Abdul Khaliq Rehmani\",\"Abdul Majeed Anwar\",\"Ijaz Ahmad Khan\",\"Muhammad Khawar Tasaduq\",\"Muhammad Raza Hayat Hiraj\",\"Rana Muhammad Imran\",\"Saeed Ahmad Sargana\"],[\"Muhammad Khan Daha\",\"Abid Mehmood\",\"Ahmad Yar Hiraj\",\"Badar Muneer Ch\",\"Muhammad Akram\",\"Muhammad Amir Sohail\",\"Muhammad Umer Draz Khalid\"],[\"Zahoor Hussain Qureshi\",\"Ghulam Haider\",\"Haider Zaman Qureshi\",\"Pir M Aslam Bodla Siddiqui\",\"Muhammad Shafiq Ul Rhman\",\"Muhammad Ashraf\"],[\"Chaudhry Iftikhar Nazir\",\"Atta ur Rahman\",\"Aurangzaib Alimgir\",\"Ghulam Abbas\",\"Malik Ghulam Murtaza\",\"Muhammad Anwar\",\"Muhammad Sohail Zaman Shah\"],[\"AHMAD HUSSAIN\",\"ANEELA IFTIKHAR\",\"IRAM GULL\",\"MAKHDOOM SYED MUHAMMAD SHER ALI SHAH\",\"MALIK AZHAR AHMAD SANDILA\",\"MALIK NOOR HUSSAIN DEHAR\",\"MIAN MUHAMMAD SULEMAN ALI QURESHI\",\"MUHAMMAD TALAL ZOHAIB\",\"RANA AMEEQ UR REHMAN\",\"SHOUKAT HAYAT BOSAN\",\"SIKANDAR HAYAT KHAN BOSAN\",\"SYED ABDUL QADIR GILLANI\",\"TAHIR RAZZAQ\"],[\"Malik Muhammad Amir Doger\",\"Abdul Sattar Khan Tareen\",\"Imran Mustafa Khokhar\",\"Karamat Ali\",\"Liaqat Ali\",\"Mazhar Abbas\",\"Muhammad Aleem\",\"Muhammad Arshad Bhatti\",\"Muhammad Atif Imran\",\"Muhammad Ayoub\",\"Muhammad Hashim Rasheed\",\"Muhammad Khalid Khakwani\",\"Muhammad Tariq Rasheed\",\"Noshin Afshan\",\"Rana Nadeem Ahmad\",\"Syed Taqi Haidar Shah\"],[\"Makhdoom Shah Mahmood Hussain Qureshi\",\"Syed Tanwir Ul Hassan Gillani\",\"Muhammad Asghar\",\"Saba Faisal\",\"Sultan Mehmood Malik\",\"Shahzad Mumtaz\",\"Tahir Almas\",\"Amir Saeed Ansari\",\"Chaudhry Muhammad Din\",\"Ch Muhammad Abdullah Khan\",\"NADEEM MUMTAZ QURESHI\",\"Naqeeb Ullah\"],[\"MAKHDOOM ZAIN HUSSAIN QURESHI\",\"AAMIR ILYAS DOGAR\",\"ABDUL GHAFAR\",\"ASGHAR HUSSAIN SHAH\",\"CHUDHARY MUHAMMAD DEEN\",\"MUHAMMAD RAMZAN\",\"MUHAMMAD WAQAS DOGAR\",\"SAYED ALI MOOSA GILANI\"],[\"Muhammad ibrahim khan\",\"M imran Shaukat khan\",\"Allah Nawaz\",\"Syed Yousaf Raza Gilani\",\"Muhammad Talal Zohaib\",\"Syed Javed Ali Shah\",\"Zain Ali Shah\"],[\"Rana Muhammad Qasim Noon\",\"Dewan Syed Muhammad Haider Ali Bukhari\",\"Mehdi Abbas Khan\",\"Muhammad Abbas\",\"Muhammad Akram\",\"Muhammad Ashgar\",\"Muhammad Iqbal\",\"Muhammad Shahzad Hussain\",\"Muhammad Sheharyar Noon\",\"Muhammad Zulqarnain Bukhari\",\"Naghma Mushtaq\",\"Rana Shahzeb Ahmad Noon\",\"Siddique Ahmad\"],[\"Ali Khan Jadoon\",\"Ayaz Khan Jadoon\",\"Bilal Saddique\",\"Jamil Hussain\",\"Javed Khan\",\"Mohabbat Khan\",\"Muhammad Asghar Shah\",\"Muhammad Irshad\",\"Muhammad Rashid\",\"Muhammad Rohail\",\"Muhammad Saeed Khan\",\"Muhammad Waqas\",\"Murad Sher\",\"Rizwan Khan\",\"Sardar Maqsood Ayub\",\"Shouket Ali Tanoli\",\"Syed Faisal Hussain Shah Gallani\",\"Syed Saeed Khalid\"],[\"ABDUL REHMAN KHAN KANJU\",\"LIAQAT ALI KHAN\",\"MUHAMMAD AKHTAR KHAN KANJU\",\"NAWAB AMANULLAH KHAN\",\"RANA MOIN FAREED NOON\"],[\"MIAN MUHAMMAD SHAFIQ\",\"IFFAT TAHIRA\",\"Ayesha Gulalai Wazir\",\"MUHAMMAD AMIR IQBAL SHAH\",\"ZIA UR REHMAN TAMIMI\",\"MUHAMMAD UMAIR BALOOCH\",\"SYED IMRAN RAZA GILANI\",\"SALEEM ABBAS\",\"MIAN SAJID\",\"KHAN MUHAMMAD SIDDIQUE KHAN BALOOCH\",\"WASEEM AHMAD\",\"MUHAMMAD IQBAL SHAH\",\"MUHAMMAD AKRAM QASIR\",\"MUHAMMAD MUSHTAQ MALIK\",\"SYED MUHAMMAD AZHAR SHAH\"],[\"Choudhary Faqir Ahmad\",\"Shagufta Chaudhry\",\"Irshad Ahmed\",\"Shaheen Iqbal\",\"Ayesha Nazir\",\"Khalid Mahmood Chohaan\",\"Kamran Yousaf Ghuman\",\"Malik Zulfiqar Hussain Awan\",\"Dewan Ghulam Fareed Sajid\"],[\"Sajid Mehdi\",\"Arifa Nazir\",\"Ghulam Murtaza\",\"Muhammad Akram\",\"Muhammad Anwar\",\"Muhammad Ishaq Khan Khakwani\",\"Muhammad Javed Khan\",\"Natasha Daultana\",\"Syed Muhammad Ismail Shah\"],[\"Tahir Iqbal\",\"Abdul Waheed\",\"AFTAB AHMAD KHAN KHICHI\",\"Begum Tehmina Doultana\",\"Ghulam Sarwar Khan Khichi\",\"Malik Azmat Ullah Khan\",\"Muhammad Ashraf Khalid\",\"Muhammad Farooq Irshad\",\"Muhammad Ghafir\",\"Muhammad Naeem Akhtar Khan\",\"Rana Fakhar Islam\",\"Sagheer Ahmad\",\"Shoukat Ali\",\"Zafar Ali\"],[\"Aurangzeb Khan Khichi\",\"Abdullah Hayat Khan\",\"Ahmad Nawaz Khan Khichi\",\"Asif Saeed\",\"Ghulam Mustafa\",\"Haq Dad Ali Khan\",\"Mahmood Hayat Khan\",\"Mian Majid Nawaz\",\"Saeed Ahmad Khan Manais\"],[\"Muhammad Abdul Ghafar Wattoo\",\"Muhammad Arshad Khan\",\"Nazia Ayoub\",\"Shah Sawar\",\"Syed Muhammad Asghar\",\"Syed Nazar Mahmood Shah\"],[\"Alam Dad Laleka\",\"Arslan Khan Khakwani\",\"Ishrat Bagum\",\"Mian Mumtaz Ahmad\",\"Mian Mumtaz Ahmed Mutayana\",\"Muhammad Akram Tahir\",\"Muhammad Aslam\",\"Muhammad Azam\",\"Muhammad Ijaz Ul Haq\",\"Muhammad Rauf\",\"Muhammad Shahzad\",\"Shoukat Ali Laleka\",\"Syed Fazal Mehmood Shah\",\"Syed Muzzammil Hussain Shah\"],[\"Ehsan Ul Haq Bajwa\",\"Abdul Majeed\",\"Tariq Aziz\",\"Muhammad Ijaz Ul Haq\",\"Zafar Iqbal Chaudhary\",\"Fatima Tahir Cheema\",\"Zaheer ilyas\",\"Kashif Sana\",\"Khalil Ur Rehman\"],[\"NOOR UL HASSAN TANVIR\",\"ABRAR AZAM\",\"AHMAD KHAN KAMOKA\",\"Ghulam Murtaza\",\"ISHRAT MANZOOR\",\"Khadija Khanam\",\"Muhammad Anwar\",\"Muhammad Ijaz Ul Haq\",\"MUHAMMAD ISMAIL\",\"MUHAMMAD YOUSAF GOURI\",\"SHOUKAT MEHMOOD\"],[\"Omar Ayub Khan\",\"Babar Nawaz Khan\",\"Farooq Shah\",\"Habib Ullah\",\"Irum Fatima\",\"Malik Shakeel Ahmad\",\"Muhamamd Fiaz\",\"Muhammad Zubair\",\"Qazi Atiq Ur Rehman\",\"Raja Qaisar Ali\",\"Rizwan Saeed Mughal\",\"Shaista Naz\",\"Syed Hamid Shah\",\"Wakalat Khan\"],[\"MUHAMMAD FAROOQ AZAM MALIK\",\"ALAMGIR MANSHA\",\"MEHMOOD UL HASSAN\",\"MIAN SHAHID IQBAL\",\"MUHAMMAD ANWAR\",\"MUHAMMAD BALIGH UR REHMAN\",\"MUHAMMAD USMAN FAROOQ\",\"NAHEED MALIK\",\"SHAZIA NOUREEN\",\"SYED IRFAN AHMED GARDEZI\",\"SYED WASEEM AKHTAR\",\"SYED ZEESHAN AKHTER\"],[\"Mian Riaz Hussain Pirzada\",\"Choudhary Tariq Bashir Cheema\",\"Khan Khuda Yar Khan\",\"Hafiz Khair Muhammad\",\"choudhary Naeem ud Din Warraich\",\"Syed Salman Ahmad Gardezi\",\"Aleem Ullah Warraich\"],[\"Chaudhary Tariq Bashir Cheema\",\"Aleem Ullah Warraich\",\"Farzana Rauf\",\"Hamid Sufyan\",\"Saud Majeed\",\"Zulfiqar Ali\"],[\"MIAN NAJEEB UD DIN AWAISI\",\"KHADEEJA AAMIR\",\"MAKHDOOM SYED ALI HASSAN GILLANI\",\"MALIK YASIR YAR WARAN\",\"MUHAMMAD JAMIL\",\"RUKHSANA JABEEN\",\"Sahibzada Shahzain Abbasi\"],[\"Makhdoom Syed Sami ul Hassan Gillani\",\"ARIF AZIZ SHEIKH\",\"Makhdoom Syed Ali Hassan Gillani\",\"MALIK KHALID MEHMOOD BABAR\",\"MUHAMMAD SALEEM MUGHAL\",\"PRINCE BAHAWAL ABBAS ABBASI\",\"RAHEEM BAKHSH\",\"Sajid Hussain\",\"SHEHREEN ARSHAD\"],[\"Syed Mobeen Ahmed\",\"Khawaja Muhammad Asgher Koreja\",\"Muhammad Zubair\",\"Ghulam Mustafa Sabar\",\"Syed Hamid Saeed Kazmi\",\"Mian Faiz Ul Hassan\",\"Khawaja Ghulam Rasool Kureja\",\"Nazia Parveen\",\"Muhammad Ilyas\"],[\"SHEIKH FAYYAZ UD DIN\",\"MIAN ABDUS SATTAR\",\"Hafiz Muhammad Tahir Zeeshan\",\"CHAUDHRY MUHAMMAD AKMAL SIDDIQUE\",\"SYED TANVIR HUSSAIN\",\"MUHAMMAD MAJEED\",\"MUHAMMAD AZHAR\",\"JUNAID RIAZ\",\"AMMAD UD DIN\",\"SYED MUHAMMAD ABID SHAH\",\"CHAUDHRY MUHAMMAD EJAZ SHAFI\",\"MIAN GHOUS MUHAMMAD\"],[\"Makhdoom Khusro Bukhtyar\",\"Nazir Ahmed\",\"Makhdoom Imad ud Din Hashmi\",\"Ghulam Kibria\",\"Rukhsana Kousar\",\"Makhdoom Tahir Rashid ud Din\",\"Makhdoom Moeen ud Din Ali\",\"Sardar Muhammad Nawaz Khan\",\"Muhammad Ahsan Abid\",\"Jamshed Ahmed\",\"Makhdoom Shahab ud Din\",\"Syed Ibrar Hussain Shah\"],[\"SYED MUSTAFA MAHMUD\",\"Muhammad Safder Khan Laghari\",\"MUHAMMAD TARIQ\",\"RAIS MUHAMMAD MAHBOOB AHMED\"],[\"JAVED IQBAL\",\"QAMAR JAVED\",\"NOOR AHMAD SIALL\",\"AZAM SHABBIR\",\"ALI AHMED SHAH\",\"MUHAMMAD AAMIR SHAHBAZ\",\"ABDUL RASHEED AHMAD\",\"MIAN IMTIAZ AHMAD\",\"HAFIZA FARAH NAZ\",\"Shahid Hameed\",\"Javed Iqbal\",\"SAJID IQBAL\"],[\"Asad Qaiser\",\"MUHAMMAD TARIQ\",\"MUHAMMAD RAZAQ\",\"RIZWAN ULLAH\",\"MUHAMMAD ISLAM KHAN\",\"FAZAL AKRAM\",\"KHALIL AHMAD\",\"Shams Ul Qamar\",\"SHAH NAWAZ KHANZADA\",\"FAZAL ALI\",\"MASOOD JABBAR\",\"KHALID MEHMOOD\",\"SAJJAD AHMAD\"],[\"Syed Murtaza Mahmud\",\"Chaudhary Muhammad Shafique Anwar\",\"Hafiz Asif Rasheed\",\"Muhammad Akram\",\"Muhammad Arshad\",\"MUHAMMAD ARSHAD KHAN LEGHARI\",\"MUHAMMAD SAFDAR KHAN LEGHARI\",\"NADEEM ABBAS CHEEMA\",\"Nazim Hussain Saeed\",\"SAGHEER ABBAS\",\"Sardar Rafique Haider khan Laghari\",\"Tahir Ali\"],[\"Muhammad Shabbir Ali\",\"Ahmad Yar\",\"Benazir Fatima\",\"Farooq ur Rehman\",\"Iftikhar Ali\",\"Ihsan ul Haq Ahsan\",\"Khalida Perveen\",\"Malik Ghulam Mustafa Khar\",\"Malik Sulatan Mehmood\",\"Muhammad Ashraf khan Rind\",\"Muhammad Sajjad Shahid\"],[\"Mahar Irshad Ahmad Khan\",\"Amaan Ullah\",\"Hammad Nawaz Khan\",\"Imtiaz Hussain\",\"Jamshed Ahmed\",\"Mehnaz Saeed\",\"Muhammad Hussain\",\"Muhammad Kashif Fareed\",\"Muhammad Naeem Akhtar\",\"Muhammad Yaseen\",\"Muhammad Yousif\",\"Nawab Zada Muhammad Ahmad Khan Babar\",\"Qayoom Nawaz Khan\",\"Rana Mushtaq Ahmed\",\"Syed Chiragh Ali Gilani\",\"Tehmina Dasti\"],[\"Raza Rabani Khar\",\"Imtiaz Hussain\",\"Allah Bachaya\",\"Fiaz Hussain\",\"Amjad Noor Muhammad Khan\",\"Malik Muhammad Rafeeq Khar\",\"Muhammad Arif Khan Baloch\",\"Muhammad Ali Raza Khar\",\"Husnain Raza\",\"Tariq Ahmad Gormani\",\"Muhammad Zeeshan Gurmani\",\"Zulfiqar Ali Dasti\",\"Sadam Hussain\",\"Sajid Mehmood Ashraf\",\"Arshad Iqbal\",\"Muhamamd Saud\"],[\"Nawabzada Iftakhar Ahmed Khan Babar\",\"Amjad Ali\",\"Azeem Qamar\",\"Bilal Ahmed Khan\",\"Ghulam Abbass\",\"Jamshaid Ahmad\",\"Makhdoomzada Syed Basit Ahmed Sultan\",\"Malik Ahmed Kareem Qaswer Langrial\",\"Malik Anayat Ullah Khokhar\",\"Muhammad Aown Hameed\",\"Muhammad Ghayour\",\"Muhammad Shahid\",\"Nawabzada Mansoor Ahmed Khan\",\"Syed Haroon Ahmed Sultan\",\"Syeda Zahra Basit Bukhari\"],[\"Makhdom Zada Sayed Basit Ahmad Sultan\",\"Syeda Zahra Basit Bukhari\",\"Muhammad Zafar Ullah Khan Laghari\",\"Muhammad Mazzam Ali Khan\",\"Azra Perveen\",\"Jamshaid Ahmad\",\"Rao Atif Ali Khan\",\"Muhamamd Masood Saeedi\"],[\"Aamir Talal Khan\",\"Ghous Bakhsh Fareedi\",\"Muhammad Dawood Khan\",\"Muhammad Shafi Khan\",\"Sardar Khizir Hayat\",\"Syed Haroon Ahmed Sultan\"],[\"Abdul Majeed Khan\",\"Abdul Raoof\",\"Altaf Hussain\",\"Hassan Ameer\",\"Mahboob ul Hassan\",\"Qazi Shah Mardan Alvi\",\"Sahibzada Faiz ul Hassan\",\"Sardar Bahadur Ahmed Khan\",\"Syed Zafar Hussain Gilani\",\"Syed Zulqarnain Sabir\"],[\"Niaz Ahmed\",\"Atiq Ur Rahman Mirani\",\"Ghulam Abbas\",\"Ishfaq Ahmed\",\"Kalsoom Khaliq\",\"Muhammad Bilal\",\"Muhammad Farrukh Cheema\",\"Muhammad Ramzan\",\"Sajjad Ahmed\",\"Sobia Ramzan\",\"Syed Muhammad Saqlain Bukhari\"],[\"Khawja Sheraz Mehmood\",\"Hafeez Ur Rehman Baloch\",\"Khawja Mudassar Mehmood\",\"Sardar Confcius Imam Qaisrani\",\"Jamshaid Ahmed\",\"Abdul Rauf\",\"Muhammad Iqbal\",\"Sardar Meer Badshah Khan Qaisrani\",\"Ameer Muhammad Zulqernain\",\"Muhammad Arif Aslam\",\"Mushtaq Ahmed Mundrani\",\"Shamoona Ambreen\",\"Zafar Iqbal\",\"Khawaja Attaullah Khan\",\"Sooba Khan\",\"Rashida Naseem\"],[\"Usman Khan\",\"Atta Ul Haq\",\"Ibadullah Khan\",\"Kashif Ahmad\",\"Muhammad Naeem\",\"Shahid Khan\",\"Shehazad Ali Khan\",\"Syed Khalid\",\"Waris Khan\"],[\"MUHAMMAD AMJAD FAROOQ KHAN KHOSA\",\"Ashfaq Sarwar Dasti\",\"GHULAM MUSTAFA LASHARI\",\"SARDAR MUHAMMAD IRFAN ULLAH KHOSA\",\"SARDAR ZULFIQAR ALI KHAN KHOSA\"],[\"Zartaj Gul\",\"SARDAR DOST MUHAMMAD KHAN KHOSA\",\"Javed Iqbal\",\"Izhar ul haq qureshi siddiqui\",\"Muhammad Naeem\",\"Muhammad ali Faisal\",\"Tanveer Ahmed\",\"Ahmed Bakhsh\",\"Abdul Rehman So Mian Muhammad Akbar Bodla\",\"Abdul Rehman So Haji Muhammad\",\"Parveen Akhtar\",\"Khaleel Ahmad\",\"Sardar Awais Ahmed Khan Leghari\"],[\"Sirdar Muhammad Khan Laghari\",\"AHMAD BAKHSH\",\"MAKHDOOM SYED EJAZ HUSSAIN NAQVI\",\"Mian Muhammad Shehbaz Sharif\",\"SARDAR MUHAMMAD IRFAN ULLAH KHOSA\",\"SYED MUNIR HUSSAIN\"],[\"SARDAR MUHAMMAD JAFFAR KHAN LEGHARI\",\"ADEEL HASSAN KHAN GURCHANI\",\"SARDAR ALI RAZA KHAN DARISHAK\",\"MUHAMMAD MOHSIN LEGHARI\",\"SHAZIA ABID\",\"SHAFQAT ULLAH\",\"SARDAR SHER ALI GURCHANI\",\"SHER ZAMAN\",\"ALI AHMAD KHAN LEGHARI\",\"ATHAR HASSAN KHAN GURCHANI\"],[\"SARDAR NASRULLAH KHAN DRESHAK\",\"ABDUL MOHSIN\",\"AMAN ULLAH QURAISHI\",\"Hafeez Ur Rehman Khan Dreshak\",\"KALEEM UD DEEN ZIA\",\"KHAWAJA GHULAM FAREED KOREJA\",\"RUQYIA BIBI\",\"SARDAR ALI RAZA KHAN DRESHAK\",\"SARDAR HASNAIN BAHADUR\",\"SARDAR MUHAMMAD YOUSAF DRESHAK\",\"SARDAR PERVAIZ IQBAL GOURCHANI\",\"SARDAR ZULFIQAR KHAN DRESHAK\",\"SOHAIL ANWAR\"],[\"Sardar Riaz Mehmood Khan Mazari\",\"Athar Ali Mazari\",\"Ghulam Muhayu Din Alias Shabab\",\"KHAWAJA GHULAM FAREED KOREJA\",\"Khizar Hussain Mazari\",\"Sami Ud Din Mazari\",\"Shamsher Ali Mazari\"],[\"Muhammad Mian Soomro\",\"Abdul Ghani AG Ansari\",\"Abdul Wahid\",\"Aijaz Hussain Jakhrani\",\"Fahad Khan\",\"Khalid Nawaz Jakhrani\",\"Maula Bukhsh Soomro\",\"Nawab Ali\",\"Shafiq Ahmad Khoso\",\"Sharif Khan\",\"Zaheer Ahmed\"],[\"Ehsan ur Rehman Mazari\",\"Rab Nawaz\",\"Abdul Ghani Bijarani\",\"Fatah Din Khan\",\"Muhammad Bux\",\"Faique Ali\",\"Shoaib Khan Khoso\",\"Raj Kumar\",\"Shamsher Ali Mazari\",\"Umed Ali\",\"Mir Irfan Ali Khan Bijarani\",\"Abdul Azziz Samejo\",\"Khadim Hussain\",\"Mir Ghalib Hussain Khan\",\"Zulfiqar Ali Khan\",\"Mir Salman Khan Bijarani\",\"Mohammad Ali\",\"Nareesh Kumar\",\"Nazar Ali Khan\"],[\"Abid Hussain Bhayo\",\"Abdul Bari\",\"Abdullah Pahore\",\"Abid Hussain Jatoi\",\"Aftab Ahmed Soomro\",\"Akbar Khan\",\"Ameer Ali Jatoi\",\"Irfan Ahmed Khan Jatoi\",\"Muhammad Ibrahim Jatoi\",\"Naeem Ahmad Khan Jatoi\",\"Syed Momin Ali Shah\",\"Wahid Bux Bhaya\",\"Zohaib Jatoi\"],[\"Ghous Bux Khan Mahar\",\"Bakhshan Khan Mahar\",\"Muhammad Arif Khan Mahar\",\"Abdullah\",\"Zulfiqar Ali Kamario\",\"Najaf Ali Khan Kamario\"],[\"Haider Ali Khan\",\"Muhammad Mukhtar\",\"Ishtiaq Ahmad\",\"Malak Muhammad Didar Khan\",\"Miraj Muhammad\",\"Mumtaz Ahmad\",\"Amir Muqam\",\"Said Qamar\",\"Naveed Iqbal\",\"Amjad Ali Khan\"],[\"Mujahid Ali\",\"Akhtar Nawaz\",\"Ataur Rahman\",\"Gul Nawaz Khan\",\"Nawabzada Khwaja Muhammad Khan Hoti\"],[\"Bilawal Bhutto Zardari\",\"Inayat Ali Umrani\",\"Ghulam Murtaza Son of Shah Muhammad Soomro\",\"ali nawaz kunbhar\",\"Halima Bhutto\",\"Azizullah Bhutto\",\"Khair Muhammad\",\"Bashir Ahmed\",\"Muhabat Ali\",\"Tarique Hussain Son of Aijaz Ali Soomro\",\"Abid Hussain\",\"Rashid Mehmood Soomro\",\"Mehboob Ali\",\"Tarique Hussain son of Piyaro Khan Dakhan Soomro\",\"Mushtaque Hussain Buriro\",\"Gul Hassan\",\"Ghulam Murtaza son of Muhammad Ismail\",\"Zaheer Khan\"],[\"Khursheed Ahmed Junejo\",\"Allah Bux Unar\",\"Nazir Ahmed Bughio\",\"Qurat ul Ain\",\"Ghulam Murtaza Shah\",\"Shafqat Hussain Unar\",\"Muhammad Ali Bughio\",\"Saifullah Abro\"],[\"Aftab Shahban Mirani\",\"Akhtar Hussain Shaikh\",\"Ayaz Hussain\",\"Liaqat Ali\",\"Mir Imran Ali\",\"Musarrat Shah\",\"Muzafar Ali Brohi\",\"Nasir Mahmood\",\"Nazeer Hussain Magsi\",\"Rabb Nawaz Tunio\",\"Saifullah Abro\",\"Sarfaraz Ahmed\",\"Sultan Ahmed Khan Khuhawar\"],[\"Mir Amer Ali Khan Magsi\",\"Abdul Manan Chandio\",\"Faiz Muhammad\",\"Ghulam Murtaza Shah\",\"Muhammad Hussam\",\"Muhib Ali Phulpoto\",\"Nawabuddin\",\"Nawabzada Rehan Chandio\",\"Saifullah Abro\",\"Sakhawat Ali\",\"Zulifqar Ali\"],[\"Khalid Ahmed Khan Lund\",\"Abdul Haque alias Mian Mitha\",\"ABDUL WAHAB\",\"Hallar Khan Pittafi\",\"Jam Wasim Ahmed\",\"Lutfullah\",\"Mian Rafique Ahmed\",\"Mohammad Yousif\",\"Muhammad Ishaq Laghari\",\"Shahbaz Ahmed Khan Lund\"],[\"Ali Muhammad Khan Mahar\",\"Ghulam Ali Abbas\",\"Mir Iftikhar Ahmed Khan Lund\",\"Abdul Razzaque\",\"Abdul Qayoom\",\"Ikramullah Khan\",\"Jam Asif Razzak Khan\",\"Ali Nawaz Khan Mahar\",\"Ahsanullah\"],[\"Syed Khursheed Ahmed Shah\",\"Abdul Jabbar\",\"Aftab Hussain Soomro\",\"Ali Gohar Khan Indhar\",\"Amanullah\",\"Ghulam Mujtaba\",\"Habib Ullah Siddique\",\"Jamal Abdul Nasir\",\"Manzoor Hussain Shar\",\"Muhammad Hayat\",\"Muhammad Saleh Indhar\",\"Naheed Begum\",\"Nek Muhammad\",\"Nusrat Bano\",\"Syed Farukh Ahmed Shah\",\"Syed Kumail Hyder Shah\",\"Syed Tahir Hussain Shah\"],[\"NAUMAN ISLAM SHAIKH\",\"GHULAM MURTAZA\",\"HAZOOR BUX\",\"WAZIR ALI\",\"ZIAUDDIN BHATTI\",\"RASHEED AHMED SHAH\",\"WAZIR ALI JATOI\",\"Hafiz Muhammad Zaman\",\"AMEER BUX ALIAS MEER\",\"SYED ALI RAZA SHAH\",\"SHAISTA\",\"DIDAR ALI\",\"AMANULLAH KHOSO\",\"MUHAMMAD AMIR SHAIKH\",\"MUHAMMAD TAHIR\",\"KHUDA DINO SANGI\",\"SAOOD AFZAL\",\"MUBEEN AHMED\",\"AKBAR ALI\",\"SOHAIL NIAZ KHOSO\",\"KHURSHID AFGHAN\",\"SYED MOHAMMAD AYOUB\",\"MUHAMMAD MURAD\",\"NAVEED ALI\",\"GOHAR ALI KHOSO\"],[\"Nafisa Shah\",\"Asadullah\",\"Mir Muhammad Hanjrah\",\"Qudratullah\",\"Syed Asad Abbas Zaidi\",\"Syed Ghous Ali Shah\",\"Syed Nawaz Ali Shah Alies Farukh\",\"Syed Pervez Ali Shah Jeelani\",\"Syed Qaim Ali Shah\",\"Veero Mal\"],[\"Pir Syed Fazal Ali Shah Jillani\",\"Abdul Haq\",\"Ghulam Ali\",\"Ghulam Mustafah\",\"Ismail Shah\",\"Munwar Ali Wassan\",\"Pir Sadruddin Shah\",\"Syed Ameer Umar Jeelani\"],[\"Amir Haider Azam Khan\",\"Muhammad Atif\",\"Muhammad Said\",\"Mukhtiar\",\"Shuja Ul Mulk\",\"Syed Abid Ali Shah\"],[\"Syed Javed Ali Shah Jillani\",\"Himat Ali Budh\",\"Inayatullah Shaikh\",\"Javed Sikandar\",\"Lal Bux Sial\",\"Mahreen Razzaq Bhutto\",\"Muhammad Ramzan\",\"Mukhtiar Hussain Narejo\",\"Naimatullah Maitlo\",\"Syed Fahad Ali Shah Jillani\",\"Syed Kazim Ali Shah\",\"Syed Muharram Ali Shah\"],[\"Syed Abrar Ali Shah\",\"Ghazala Hussain\",\"Sayed Hassan Ali Shah\",\"Khalid Masood Channa\",\"Syed Kaleemullah\",\"Allalahando Shah Alias Zafar Ali Shah\",\"Qamar ul Zaman\",\"Ameer Bux Rajper\",\"Maqsood Ali Khushlk\",\"Shahid Ikram\",\"Imdad Ali Channa\",\"Mumtaz Ali Chandio\",\"ABDUL GHAFFAR URF GHULAM MURTAZA\",\"Qudsia Qazi\",\"Mir Muhammad Rajput\",\"Syed Zohaib Ali Shah\",\"Abdul Sattar Rajper\",\"Shoukat Ali Arain\",\"Mehmooda Begum\",\"Muhammad Ramzan\",\"Asghar Ali Shah\",\"Syed Safdar Ali Shah\"],[\"Zulfiqar Ali Behan\",\"Abdul Haq Dost Muhammad\",\"Abdul Rehman\",\"Arif Mustafa Jatoi\",\"Aziz Ahmed Behan\",\"Ghulam Murtaza Khan Jatoi\",\"Gul Muhammad Channa\",\"Haji Khan Mashori\",\"Imdad Ali\",\"Khalid Akhtar Jatoi\",\"Mumtaz Ali\",\"Mumtaz Ali Chandio\",\"Razi Ali Khan Jatoi\",\"Syed Kazim Ali Shah\"],[\"Asif Ali Zardari\",\"Sardar Abdul Hameed Khoso\",\"Qadir Bux Magsi\",\"Muhammad Abdul Rauf Siddiqui\",\"Muhammad Ismail\",\"Farooq Ahmed\",\"Syed Ghulam Muhi uddin Shah\",\"Syed Kazim Ali Shah\",\"Sardar Sher Muhammad Rind Baloch\",\"Zakir Hussain Jamali\",\"Syed Sajjad Hussain Shah Taqvi\",\"Muhammad Mushtaque\",\"Nisar Ali Keerio\",\"Haji Khan Mashori\",\"Abdul Razzaque Rustamani\",\"Ikhtiar Hussain Tunio\",\"Saleem Raza\"],[\"Syed Ghulam Mustafa Shah\",\"Afshan Iqbal\",\"Bahadur Khan Dahri\",\"Falak Sher\",\"Ghulam Irtaza Unar\",\"Ghulam Murtaza\",\"Gul Muhammad Rind\",\"Khan Muhammad Dahri\",\"Liaqat Ali\",\"Manthar Ali\",\"Mukhtiar Naz\",\"Nadeem Keerio\",\"Sardar Sher Muhammad Rind Baloch\",\"Sarfaraz Urf Babu\",\"Syed Ghulam Ali Shah\",\"Syed Zain Ul Abdin\",\"Wilayat ALi\"],[\"Naveed Dero\",\"SAEED KHAN NIZAMANI\",\"MUHAMMAD ISHAQ\",\"HAJI KHUDA BAKSH\",\"MUSHTAQUE\",\"MUMTAZ HUSSAIN\",\"RANA RASHID ALI KHAN\",\"FARAZ\",\"MUHAMMAD QASIM\",\"WASEEM AKHTAR\"],[\"Shazia Jant Marri\",\"Ali Muhammad Marri\",\"Aurangzeb\",\"Jam Muhammad Farooq Ali Khan\",\"Jam Nafees Ali Khan\",\"Khuda Bux\",\"Kishin Chand Parwani\",\"Muhammad Aslam\",\"Muhammad Aslam\",\"Quratulain Marri\",\"Saeed Ahmed\",\"Yasir Ali\"],[\"Roshanuddin Junejo\",\"Niaz Hussain\",\"Muhammad Shakeel\",\"Zafar Ali\",\"Ghulam Mujtaba Soomro\",\"Muhammad Saleem\",\"Muhammad Mubeen\",\"Shakeel Ahmed Urf Karimdad\",\"Paras Dero\",\"Abdul Aziz Thahim\",\"Salahuddin Junejo\",\"Ghayas Uddin\",\"Mehar Ali Alias Mahi Khan\",\"Akbar Hussain Chughtai\"],[\"Ali Nawaz Shah\",\"Roop Chand\",\"Syed Mumtaz Ali Shah\",\"Abdul Majeed\",\"Muhammad Jibran\",\"Lelan\",\"Pir Aftab Hussain Shah Jelani\",\"Ghulam Jaffar Junejo\",\"Pir Hassan Ali Shah\",\"Javed Ali\",\"Rais Ahmed Khan\",\"Sanjay Perwani\",\"Bahadur Ali\",\"Masood Ahmad Wasan\",\"Hafiz Fayaz Ul Hassan\"],[\"Mir Munwar Ali Talpur\",\"Ali Nawaz Shah\",\"Arbab Ghulam Rahim\",\"Chatro\",\"Jawad Ali\",\"Mir Ajijaz Ali Khan\",\"Mir Hassan\",\"Mir Mehboob Ali Talpur\",\"Sajjad Ahmed\"],[\"Ali Muhammad\",\"Shoaib Alam Khan\",\"Malik Aman Khan\",\"Azmat Ali\",\"Jamshid Khan\",\"Muhammad Qasam\",\"Ihsan Ullah\"],[\"Nawab Muhammad Yousuf Talpur\",\"Arbab Ghulam Rahim\",\"Ghulam Akber Dars\",\"Gul Hassan\",\"Ishrat Naz\",\"Makhdoom Shah Mahmood Hussain Qureshi\",\"Neelam Walgi\"],[\"Pir Noor Muhammad Shah Jeelani\",\"Abdul Aziz\",\"Jalaluddin\",\"Dilawar Khan\",\"Makhdoom Shah Mahmood Hussain Qureshi\",\"Mumtaz Ali Rahimoon\"],[\"Mahesh Kumar Malani\",\"Abdul Ghani\",\"Arbab Amir Amanullah\",\"Arbab Anwer Jabbar\",\"Arbab Ghulam Rahim\",\"Arbab Lutfullah\",\"Arbab Togachi Fawad Razzaq\",\"Arbab Zakaullah\",\"Gianchand\",\"Hemoon\",\"Kanwar Kumar\",\"Muhammad Mean\",\"Muhammad Ramzan\",\"Tulchhi Bai\"],[\"Makhdoom Jameel Uz Zaman\",\"Peeral Majeedano\",\"Ramesh Kumar\",\"Muhammad Ali Abro\",\"Nargis Naz\",\"Makhdoom Shahzad Ali\",\"Dost Ali\",\"Syed Farman Ali Shah\",\"Gul Sher Sario\",\"Makhdoom Zahid Ali Siddiui\",\"Farhat Yasmeen\",\"Makhdoom Fazal Hussain Qureshi\"],[\"Zulfiqar Bachani\",\"Abdul Sattar Bachani\",\"Altaf Hussain Shah\",\"Ameer Ali Thebo\",\"Bhooro\",\"Hussain Bux\",\"Khalid Hussain\",\"Mohammad Mohsin\",\"Muhammad Sikandar\",\"Nazir Khan\",\"Pir Ghulam Nabi Shah\",\"Shabi ul Hassan Shah Rashdi\",\"Syed Ali Nawaz Shah Rizvi\",\"Syed Inayat Ali Rizvi\",\"Wali Muhammad Laghari\"],[\"Syed Hussain Tariq\",\"Naheed Khan Barakzai\",\"Ghulamullah Chang\",\"Khawand Bux Ghulam Muhammad\",\"Ameer Ali Thebo\",\"Syed Muzaffar Ali Shah\",\"Abdul Hameed Memon\"],[\"Sabir Hussain\",\"Ali Muhammad Sahito\",\"Faisal Nadeem Shaikh\",\"Ghayoor Muhammad Khan\",\"Jamshed Ali Shaikh\",\"Muhammad Hanif Khan\",\"Muhammad Tahir\",\"Rashid Ali Khan\",\"Shafiq Ahmed\",\"Soulat Naseer Pasha\",\"Syed Abid Ali Shah\",\"Tahir Majeed\",\"Ushair Khan\",\"Zulfiqar Ali Halepoto\"],[\"Salahuddin son of Shaikh Rahimuddin\",\"Salahuddin son of Abdul Latif\",\"Ghulam Mohiuddin\",\"Muhammad Rashid Khan\",\"Abdul Hameed\",\"Muhammad Fareed Qureshi\",\"Abdul Rasheed Arain\",\"Karamat Ali Rajput\",\"Dilshad Pathan\",\"Q Muhammad Hakam\",\"Abul Khair Muhammad Zubair\",\"Ata ul Mustafa Jamil Rathore\"],[\"Syed Naveed Qamar\",\"Abdul Jabbar Memon\",\"Ghulam Murtaza\",\"Kashaf ul Hussain Shah\",\"Lal Bux\",\"Mir Ali Nawaz Talpur\",\"Sumayya Abdul Qadir Nizamani\",\"Syed Miran Muhammad Shah\"],[\"Mir Ghulam Ali Talpur\",\"Muhammad Isa\",\"Mir Raheel Talpur\",\"Muhammad Ibrahim Kamboh\",\"Muhammad Hasam Mirza\",\"Ghulam Ali\",\"Mir Ghulam Shah\"],[\"Anwar Taj\",\"Aftab Ahmad Khan Sherpao\",\"Begum Tahira Bukhari\",\"Gulzar Ahmad Khan\",\"Haji Zafar Ali Khan\",\"Manzoor Ahmad\",\"Sobadar Khan\"],[\"Fehmida Mirza\",\"Muhammad Hassam Mirza\",\"Sajjad Ali\",\"Haji Rasool Bux Chandio\",\"Mirza Ali Mehdi Baig\",\"Mirza Saqlain Abbas Baig\",\"Fateh Muhammad\"],[\"Syed Ayaz Ali Shah Serazi\",\"Abdul Rehman Mallah\",\"Aftab Ali Khan\",\"Ayesha Gulalai Wazir\",\"Molvi Muhammad Saleh Alhadad\",\"Mumtaz Ali Shah\",\"Shafqat Hussain Shah Sheerazi\",\"Syed Naseer Ahmed Shah Sheerazi\"],[\"Shams un Nisa\",\"Syed Pir Ghulam Rehmani Shah\",\"Habib ur Rehman\",\"Arslan Bux Brohi\",\"Ghulam Abbas Attai\",\"Rabia\",\"Mumtaz Ali Memon\"],[\"SIKANDAR ALI RAHOUPOTO\",\"ABDUL NABI SHAH\",\"ABDUL REHMAN MEMON\",\"Ghulam Abbas Pirzada\",\"KESOO MAL KHEEAL DAS\",\"ROSHAN ALI BURIRO\",\"SAEED AHMED JAT\",\"SAYED JALAL MEHMOOD\",\"SHAHMEER GOPANG\",\"SHUJA AHMED\"],[\"Irfan Ali Leghari\",\"Mussarat\",\"Sayed Hyder Bux Shah\",\"Karim Ali Jatoi\",\"Liaquat Ali Jatoi\",\"Hameeda khatoon\"],[\"Rafique Ahmed Jamali\",\"Ahmed Khan Lund\",\"Ahsan Ali Jatoi\",\"Fatima\",\"Junaid Ahmed Khan\",\"Karim Ali Jatoi\",\"Meer Jan Muhammad Khan Panhwar\",\"Saeed Ahmed Jamali\",\"Zubair Ahmed Jamali\"],[\"JAM ABDUL KARIM BIJAR\",\"MUHAMMAD NADEEM\",\"KHADIM HUSSAIN SHAIKH\",\"ASHFAQ AHMED\",\"SYED SALEEM SHAH\",\"MASROOR ALI\",\"SHAHID HUSSAIN\",\"SOOMAR\",\"MUSHTAQ AHMED ISHTIAQ DHOOL\",\"DEWAN CHAND CHAWLA\",\"MUHAMMAD ISLAM\",\"PIR JAN MUHAMMAD\",\"QADIR BUX\",\"AFSHAN\"],[\"Jamil Ahmed Khan\",\"Salman Ahmed\",\"Afaq Jamal\",\"Rehman Dino Mahesar\",\"MUHAMMAD ISLAM\",\"Muhammad Shoaib\",\"Zain ul Abdin Ansari\",\"Dr Nadeem Maqbool\",\"Faheem Ahmed\",\"Muhammad Mureed\",\"Abdul Ghafoor\",\"Baber Hakeem Baloch\",\"Aziz Muhammad\",\"Manzoor Ali\",\"Abdul Hakeem Baloch\",\"Syed Zahid Abbas Naqvi\"],[\"Syed Rafiullah\",\"Aitbar Khan\",\"Ghulam Farooq\",\"Gul Faraz Khan\",\"Hafiz Aurangzaib\",\"Ikramullah\",\"Inayatullah\",\"Khursheed Ali\",\"MUHAMMAD ISLAM\",\"Muhammad Pervez\",\"Muhammad Rafi\",\"Muhammad Wali Shah\",\"Nawaz Ali Jatt\",\"NAZIR AHMED\",\"Rao Muhammad Zubair\",\"Shahi Syed\",\"Syed Imdad Hussain Shah\",\"Syed Shah Muhammad Shah\",\"Zain Ul Abidin\",\"Zunaira Rehman\"],[\"MUHAMMAD AKRAM\",\"MUHAMMAD TARIQ\",\"SHAHZAD KHAN\",\"MUHAMMAD NAIM\",\"SYED IMRAN HAIDER ABDI\",\"SYED MASROOR ALAM\",\"SOHAIL MANSOOR KHAWAJA\",\"MUHAMMAD HALEEM KHAN GHOURI\",\"MUHAMMAD ABDUL ALEEM QADRI\",\"SHAUKAT ALI\",\"SHAHAN UL QURAISH\",\"QAZI SALEEM HAIDER\",\"SAJID AHMED\",\"Syed Zaman Ali\",\"BILAL HUSSAIN\",\"RASHEED SIDDIQUI\",\"SYED NADEEM RAZI\",\"MUHAMMAD EHSAN\",\"IQBAL AHMED\"],[\"Fazal Muhammad Khan\",\"Aftab Alam\",\"Asfandyar Wali Khan\",\"Farooq Shah\",\"Maulana Muhammad Gohar Shah\",\"Mian Alamgir Shah\",\"Muhammad Shafiq\",\"Zahoor Ahmad\"],[\"IQBAL MUHAMMAD ALI KHAN\",\"MEHMOOD QURESHI\",\"SHAH JAHAN\",\"MUHAMMAD ASIF\",\"MUHAMMAD USMAN\",\"NOORI MIAN\",\"MUHAMMAD IQBAL QURESHI\",\"MUHAMMAD GHAZANFAR\",\"MUHAMMAD ZAHID\",\"ABDUL JAMEEL KHAN\",\"FARRUKH MANZOOR\",\"MUHAMMAD IRFAN WAHEED\",\"AFAQ SHAFQAT\",\"ABDUL GHAFOOR\",\"SYED ASIF HASNAIN\",\"MUHAMMAD FEROZE\"],[\"Faheem Khan\",\"Abdul Bari Hashmi\",\"Abdul Hafiz\",\"Farrukh Jabbar\",\"Javed Zaman\",\"Moazzam Ali Qureshi\",\"Muhammad Danish Khan\",\"Muhammad Furqan\",\"Muhammad Moin Aamer Pirzada\",\"Muhammad Shahid\",\"Muhammad Zahid Awan\",\"Nusrat Aqeel\",\"Sabir Hussain Khan\",\"Tahir Iqbal\",\"Taib Zar Khan\"],[\"Saif Ur Rehman\",\"Abdul Ghani\",\"Asadullah Bhutto\",\"Bedal Masroor Badvi\",\"Hassan Sabir\",\"Kiran Zehra Kazmi\",\"Kishwar Zehra\",\"Manzoor Ahmed\",\"Muhammad Asghar Ali\",\"Muhammad Iqbal\",\"Muzamil Iqbal Hashmi\",\"Noor Muhammad\",\"Noorullah\",\"NoorUllah so Abdul Kabeer\",\"Pir Umar Ud Din Zafar\",\"Sharafat Khan\",\"Syed Abdul Bari\",\"Syed Muhammad Waqas Hashmi\",\"Zohaib Umar Laghari\"],[\"Imran Ahmed Khan Niazi\",\"ABDUL WAHAB\",\"Anwaar Ahmed Farouqi\",\"Khawaja Izhar Ul Hassan\",\"Muhammad Ayaz\",\"Muhammad Kamran Khan\",\"Muhammad Muzammil Qureshi\",\"Muhammad Usama Razi Khan\",\"Muzammal Iqbal Hashmi\",\"Shahjahan\",\"Syed Ali Raza\",\"Syed Asif Raza\",\"Syed Kamran Ali Rizvi\",\"Syed Nawaz ul Huda\",\"Syeda Shehla Raza\"],[\"Syed Ali Haider Zaidi\",\"Muhammad Zubair Khan\",\"Saif Uddin\",\"Shazia Razzaq Khan\",\"Muhammad Abdul Rauf Siddiqui\",\"Mudassir Iqbal\",\"Nomi Bashir\",\"Tabish Hussain\",\"S Akhtar Hussain Shah Bukhari\",\"Muhammad Imran Kashif\",\"Zahid Saeed\",\"Shokat\",\"Sabir Hussain\",\"Nasir Khan\",\"Muhammad Ali Atara\",\"Amjad Ali Asif\",\"Muhammad Saeed Shafiq\",\"Muhammad Tariq\",\"Mian Vaqar Akhtar Paganwala\",\"Miftah Ismail Ahmed\",\"Yasha Ullah Khan Afghan\"],[\"Aamir Hussain\",\"Abdul Khursheed Khan\",\"Zulfiqar Ali Kaim Khani\",\"Arshad Ali\",\"Sagheer Ahmed\",\"Saleem Sachwani\",\"Muhammad Ahmed Raza\",\"Muhammad Shaifiq Ahmed\",\"Saiffuddin\",\"Khawaja Tariq Nazir\",\"Muhammad Jamil\",\"Abdul Anis Khan\",\"Muhammad Farooq Sattar\",\"Farrukh Niaz Tanoli\",\"Sameena Huma Meer\"],[\"Abdul Shakoor Shad\",\"Abid\",\"Ahmed Bakhsh\",\"Amjad Khan\",\"Bilawal Bhutto Zardari\",\"Ejaz Ahmed\",\"Ghulam Muhammad Samoo\",\"Hazrat Gul\",\"Jawad Ahmed\",\"Mahfooz Yar Khan\",\"Mollana Noor ul haq\",\"Muhammad Anwar\",\"Muhammad Arshad\",\"Muhammad Irshad\",\"Saleem Zia\",\"Umm e Kalsoom\"],[\"ARIF UR REHMAN ALVI\",\"JAVED IQBAL KHAN\",\"MUHAMMAD HUSAIN MEHANTI\",\"GHAZIA ALI\",\"MATI UR REHMAN\",\"RAJ KUMAR\",\"AFTAB HUSSAIN LAKHO\",\"AFNAN ULLAH KHAN\",\"NADIR KHAN JAMALI\",\"ALI NAWAB\",\"ABDUL JALIL KHAN\",\"NAEEM UDDIN\",\"ABDUL AZIZ MEMON\",\"FAUZIA KASURI\",\"SYED ZAMAN ALI JAFRI\",\"ABDUL WAHAB\",\"ABDUL HABIB\",\"DEEDAR ALI\",\"Muhammad Jibran Nasir\",\"NASREEN JALIL\",\"SAYYID MANSOOB HASAN\",\"FAUZIA AQEEL LARI\",\"Muhammad Farooq Sattar\"],[\"Abdul Qadir Patel\",\"Abdul Majeed\",\"Afshan Qamber Ali\",\"Asghar Mehmood\",\"Bashir Ahmed\",\"Gull Muhammad Afridi\",\"Hafiz Aurangzaib\",\"Muhammad Alauddin\",\"Muhammad Salman Khan\",\"Muhammad Yousaf\",\"Sardar Aziz\",\"Subhan Ali\"],[\"Muhammad Faisal Vawda\",\"Abdul Qayyum Khan Kundi\",\"Abdul Sattar\",\"Abid Hussain\",\"Ali Akber\",\"Aslam Shah\",\"Fouzia Hameed\",\"Hafiz Muhammad Mursalen\",\"Haji Muhammad\",\"Hazrat Umar\",\"Kamran Akhter\",\"Mian Muhammad Shehbaz Sharif\",\"Mohammad Salman Khan Baloch\",\"Qadir Khan Mandokhail\",\"Syed Atta Ullah Shah\"],[\"Pervez Khattak\",\"Muhammad Sher Ali\",\"Ijaz Ul Haq\",\"Ayesha Gulalai Wazir\",\"Siraj Muhammad Khan\",\"Khan Pervez\",\"Ihrar khan\",\"Syed Zulfiqar Ali Shah\",\"Malik Jumma Khan\"],[\"Attaullah\",\"Ali Ahmad\",\"Aslam Shah\",\"Attaullah\",\"Fayyaz Kaim Khani\",\"Mahmood Khan\",\"Muhammad Ashraf\",\"Muhammad Ishaq\",\"Naeem\",\"Shahi Syed\",\"Syed Hafiz Ud Din\",\"Syed Kashif Ali\",\"SYED SHAH NAWAZ\"],[\"SYED AMIN UL HAQUE\",\"SYED SHAHID IQBAL\",\"ASIF SALEM\",\"MOHAMMAD ASLAM\",\"MUHAMMAD NEHAL MALIK\",\"NAEEM ULLAH\",\"MOHAMMAD MUMTAZ HUSSAIN ANSARI\",\"MOHAMMAD LAEEQUE KHAN\",\"MUHAMMAD JAMIL ZIA\",\"FAHAD SHAFIQ\",\"SOHAIL KHAN\",\"ZIARAT KHAN\",\"IQRA MUZZAMMAL\"],[\"Aftab Jehangir\",\"Abdul Khaliq Mirza\",\"Abdul Latif Rind\",\"Abdul Majeed\",\"Abdul Qadir Khanzada\",\"Aftkhar Akbar Randhawa\",\"Akram Khan\",\"Farhat Hussain\",\"Fazal Rabbi\",\"Muhammad Ayub Khan\",\"Muhammad Furqan\",\"Muhammad Qamar Siddique\",\"Muhammad Sajid Hussain\",\"Riaz Khan\",\"Samina Sohail\",\"Sheikh Abdullah\"],[\"Usama Qadri\",\"Abdul Hakim Quaid\",\"Muhammmad Ashraf Jabbar\",\"Munim Zafar Khan\",\"Muhammad Ali\",\"Anmber Naeem\",\"Chaudhary Muhammad Javed ishaq\",\"Zain ul abidin\",\"Muhammad Amjid Ali\",\"Muhammad Anzar Siddiq\",\"Syed Mustafa Kamal\",\"Muhammad Usman\",\"Sarwat Ejaz\",\"Omar Omari\",\"Muhamamad Farooq Khan\",\"Khalid Mumtaz\",\"Abdul Waseem\",\"Muhammad Abid\",\"Khuwaja Izhar Ul Hassan\"],[\"Muhammad Aslam Khan\",\"Liza Mehdi\",\"Muhammad Iftikhar Alam\",\"Syed Rashid Rizvi\",\"Rashid Naseem\",\"Muhammad Ateeq\",\"Qazi Saleem Haider\",\"Danish Turabi\",\"Sheikh Salahud din\",\"Arshad Abdullah Vohra\",\"Afaq Shafqat\",\"Syed Muhammad Ali Abidi\",\"Wali Muhammad\",\"Syed Abdul Mateen\",\"Syed Rehmat Ullah\",\"Nasir Ahmad\",\"Muhammad Faisal\"],[\"KHALID MAQBOOL SIDDIQUI\",\"ABDUL SAMAD SARDAR\",\"ARSALAN KHAN\",\"Ata Ul Mostafah Jameel\",\"FAIZAN AHMED\",\"MEHMOOD BAQI MOULVI\",\"MOHAMMED JAMEEL AHMED KHAN\",\"MOHAMMED MUSTAQEEM QURASHI\",\"Muhammad Adeel\",\"MUHAMMAD MASOOD UDDIN AYUBI\",\"Muhammad Zahid Awan\",\"MUHAMMED JAWED HANIF KHAN\",\"MUHAMMED KAMRAM KHAN\",\"NASIR UDDIN MEHMOOD\",\"ZAFAR AHMED SIDDIQUI\"],[\"Muhammad Najeeb Haroon\",\"Muhammad Adil Siddiqui\",\"Ishtiaq Ahmed Shad\",\"Rehan Mansoor\",\"Muhammad Zaman Khan Lodhi\",\"Meraj Ul Huda Siddiqui\",\"Muhammad Riaz Haider\",\"Syed Sajid Hassan\",\"Shahid Hussain\",\"Amir Wali uddin Chishti\",\"Zain Aquil\",\"Dost Mohammad Faizi\",\"Muhammad Irshad Siddiqui\",\"Sofia Yaqoob\",\"Muhammad Afsar Ali Khan\",\"Muhammad Ali Qadri\"],[\"Abdul Wasay\",\"Amanullah\",\"Sheikh Imran Babar\",\"Sheikh Abdul Sattar\",\"Allah Noor\",\"Abdul Rauf\",\"Atta Muhammad\",\"Ain u Din\",\"Najm u Din\",\"Muhammad Naseem\",\"Muhammad Amin Khan Jogizai\"],[\"Muhammad Israr Tareen\",\"Abdul Raziq\",\"Amir Zaman\",\"Ashraf Khan\",\"Azeem Jan\",\"Habib ur Rehman\",\"Hafiz Nasrullah\",\"Haidar Khan Nasar\",\"Haq Nawaz Buzdar\",\"Khalil ur Rehman\",\"Muhammad Ikhlas\",\"Muhammad Iqbal Tareen\",\"Rehmatullah\",\"Sarbuland Khan Jogezai\",\"Sardar Muhammad Yaqoob Nasar\",\"Sikandar Hayat Khan Jogezai\",\"Syed Alam Shah\",\"Syed Qurban Ali Gharsheen\",\"Wali Dad\"],[\"Nawabzada Shahzain Bugtti\",\"Abdul Ghaffar\",\"Abdul Hayee Baloch\",\"Ahmed Jan\",\"Allah Dad\",\"Attaullah\",\"Babar Marghzani\",\"Faqeer Muhammad\",\"Faqeerullah Jan\",\"Hasnain Iqbal Minhas\",\"Jalamb Khan Bugti\",\"Khan Muhammad\",\"Kohdayar Marri\",\"Mehrab Khan\",\"Mian Khan\",\"Mir Baz Muhammad\",\"Mir Dostain Khan Domki\",\"Mir Hair Bayar Khan Domki\",\"Mir Ibrar Khan Khetran\",\"Mir Liaqat Ali Khan\",\"Mir Muhammad Khan\",\"Mir Shah Nawaz Khan Marri\",\"Mir Tariq Mehmood Kethran\",\"Muhammad Saddique\",\"Nawab Muhammad Mir Ali Bugti\",\"nawabzada Ghazain Khan Marri\",\"Noor Ahmed Shah\",\"Sardar Mir Baz Muhammad Khan Khetran\",\"Shahzadi\",\"Sheraz Ali\",\"Syed Abdul Hayee Shah Rashdi\"],[\"Imran Khattak\",\"Sana Ullah Jan\",\"Asif Luqman Qazi\",\"Jamal Khan Khattak\",\"Haji Nawab Khan\",\"Feroze Jamal Shah Kaka Khel\",\"Muhammad Tanvir\",\"Muhammad Faisal Khattak\",\"Salih Muhammad\"],[\"Khalid Hussain Magsi\",\"Abdul Majid\",\"Abdul Sattar\",\"Ali Hassan\",\"Aurangzeb Alamgir Magsi\",\"Ghulam Haider\",\"Ghulam Rasool\",\"Izhar Hussain\",\"Mir Khan\",\"Mir Muhammad Asim Kurd\",\"Mir Muhammad Hashim Khan\",\"Mir Muhammad Magsi\",\"Mir Sardar Khan Rind\",\"Molvi Muhammad Abdullah\",\"Muhammad Panah\",\"Muhammad Riaz\",\"Nasrullah\",\"Niaz Ahmed\",\"Nisar Ahmed\",\"Rehmatullah\",\"Sain Bakhsh\",\"Sardar Abdul Sattar Khan\",\"Sardar Yar Muhammad Rind\",\"Shahnaz Naseer Baloch\",\"Syed Naseer Ahmed Shah Dopasi\",\"Taj Muhammad Raisani\"],[\"Mir Khan Muhammad Jamali\",\"Pyara Khan\",\"Mir Hussain\",\"Rahat Jamali\",\"Zahoor Hussain Khan\",\"Nazir Ahmed\",\"Mir Changez Khan Jamali\",\"Izhar Hussain\",\"Ghanwar Ali\",\"Sohrab Khan\"],[\"Kamal Uddin\",\"Gohar Eijaz Khan Kakar\",\"Malik Abdul Qayum Kakar\",\"Syed Abdul Zahir\",\"Malik Muhammad Usman\",\"Shams Ul Haq\",\"Doulat Shah\",\"tekadar Hayat Ullah\",\"Ehsam Uddin\",\"Nizam Uddin\",\"Muhammad Hashim Khan Panezai\",\"Muhammad Essa Khan\",\"Nizam Uddin\",\"Aemal Khan\",\"Abdullah Khan\"],[\"Salahuddin\",\"Abdul Hadi\",\"Abdul Samad\",\"Abdul Wali\",\"Ahmed khan\",\"Amanullah\",\"Asghar Khan\",\"Attaullah Khan\",\"Bismillah Khan Kakar\",\"Haji Behram Khan Achakzai\",\"Imdadullah\",\"Mehmood Khan Achakzai\",\"Muhamamd Tahir\",\"Muhammad Kazim Khan\",\"Muhammad Sadiq\",\"Muhammad Umar Khan\",\"nasebullah\",\"Nazuddin\",\"Syed Mussawir Shah\"],[\"Asmatullah\",\"Abdul Qadir Luni\",\"Abdul Qahir\",\"Abdul Rehman\",\"Ajab Khan\",\"Ali Muhamamd Nasar\",\"Amir Afzal Khan Mandokhail\",\"Ghulam Muhammad\",\"Malik Abdul Wali Kakar\",\"Muhammad Raza\",\"Muhammad Tahir Khan\",\"Muhammad Umar\",\"Muhammad Yousuf Khilji\",\"Saifullah Khan\"],[\"Qasim Khan Soori\",\"Abdul Khaliq\",\"Abdul Wadood Jamal\",\"Barat Khan\",\"Ghulam Ali Noshad\",\"Hamd Ullah Saboor\",\"Liaqat Ali Lehri\",\"Malik Imran Ullah Kakar\",\"Masoom Khan\",\"Mehmood Khan Acakzai\",\"Mir Lashkari Raisani\",\"Muhammad Arif Khan Atmanzai\",\"Muhammad Naeem\",\"Muhammad Tahir Khan\",\"Mujeeb Ur Rehman Tareen\",\"Naseeb Ullah Acakzai\",\"Nida Muhammad\",\"Rahila Hameed Khan Durrani\",\"Rozi Khan Kakar\",\"Sher Ali Mirwani\",\"Syed Muhammad Raza\",\"Syed Sanaullah\",\"Umar Farooq\",\"Wali Khan\",\"Yasmeen Bibi Lehri\"],[\"Agha Hassan Baloch\",\"Nawab Muhammad Khan Shahwani\",\"Prince Ahmed Umer Ahmedzai\",\"Muhammad Younus\",\"Malik abdul razzaq satooryani\",\"Jamal Khan Tarakai\",\"Sardar Ahmed Khan Shahwani\",\"Moula Muhammad Ramzan Mengal\",\"Allah ud Din\",\"Hafiz hussain ahmed\",\"Meer Sikandar Shahwni\",\"Malik Mehmood Yar Shahwani\",\"Bibi Nasreen Gul\",\"Muhammad Imran Bangulzai\",\"Sardar Sher Dil Khan Zagar Mengai\",\"Paind Khan\",\"Meer Muhammad Usman Pirkani\",\"Zain ul Abideen Khan Khilji\",\"Meer Riaz Ahmed Shahwani\",\"Qutab Ali\"],[\"Syed Mehmood Shah\",\"Ayatullah Durani\",\"Irfan Kareem\",\"Manzoor Ahmed Baloch\",\"Meer Taj Muhammad\",\"Mir Ahmed\",\"Mir Ali Akbar\",\"Mir Manzoor Hussain\",\"Mir Muhammad Aslam\",\"Mir Munir Ahmed Shahwani\",\"Mubark Khan\",\"Muhammad Iqbal\",\"Nawab Muhammad Khan Shahwani\",\"Nawab Zada Yadgar Raisani\",\"Sajad Ahmed\",\"Sanaullah Brohi\",\"Sardar Muhammad Yaseen Langove\",\"Sardar Noor Ahmed\",\"Sardar Salah Uddin Muhammad Hassani\",\"Sardar Sanaullah Zehri\",\"Taj Muhammad\"],[\"Muhammad Hashim\",\"Abdul Qadir\",\"Abdul Rehman\",\"Abdul Waheed\",\"Ali Ahmed\",\"Ghulam Farooq\",\"Haji Muhammad Usman\",\"Manzoor Ahmed\",\"Mir Noor Ud Din Nosherwani\",\"Mir Rehmat Ullah Khan Notezai\",\"Muhammad Arif\",\"Muhammad Jan\",\"Muhammad Qasim\",\"Muhammad Usman Badini\",\"Nazir Ahmed\",\"Saddam Hussain\",\"Sardar Alhaj Muhammad Umer Gorgage\",\"Sardar Aurangzaib\",\"Sardar Fateh Muhamamd Muhammad Hassani\",\"Sardar Muhammad Hussain\",\"Shah Wali Ullah\",\"Wazir Khan Mengal\"],[\"Muhammad Akhtar Mengal\",\"Shafiq U Rehman\",\"MirShafiq U Rehman Mengal\",\"Muhammad Asif Baloch\",\"Abdul Raheem\",\"Abdul Rehman\",\"Masood Ahmed\",\"Fouzia Sikandar\",\"Hazoor Bakhsh\",\"Abdul Sattar\",\"Wazir Ahmed Norani\",\"Mohammad Khalid Bizenjo\",\"Sardar Sana Ullah Zahri\"],[\"Noor Alam Khan\",\"Sobia Shahid\",\"Haji Ghulam Ali\",\"Asma Alamgir\",\"Sidra Qadeem\",\"Amjad Ali\",\"Shakeel Abid\",\"Tahir Nadeem\",\"Faqir Muhammad\",\"Naveed Ali\"],[\"Ehsanullah Reki\",\"Abdul Kareem Nosherwanil\",\"Abdul Qadir\",\"Abdul Wadood\",\"Attaullah Baloch\",\"Ghulam Jan\",\"Haider Ali\",\"Meer Ahmed Nawaz Mohammad Hassni\",\"Meer Nazeer Ahmed Baloch\",\"Mohammad Hanif\",\"Mohammad Ibrahim\",\"Muhammad Akram\",\"Phullen\",\"Sabir Ali Baloch\",\"Sardar Attaullah Dehani\",\"Shehbaz Khan\"],[\"Zubaida Jalal\",\"Shay Brakat Ali\",\"Hotman\",\"Syed Ahsan Shah\",\"Hafiz Nasir ud Din Zamurani\",\"Abul Hassan\",\"Abdul Rasheed\",\"Khalil Ahmed Bulidai\",\"Mujeeb ur Rehman\",\"Muhammad Ismail Bulidai\",\"Khalid Waleed\",\"Manzoor Ahmed\",\"Barkat Ali\",\"Jan Muhammad Dashti\",\"Atta Ullah\"],[\"Mohammad Aslam Bhootani\",\"Ali Ahmed\",\"Ali Baloch\",\"Allah Bakhsh\",\"Attaullah\",\"Ghulam Mustafa Malik\",\"Ghulam Sarwar\",\"Jam Kamal Khan\",\"Mohammad Akram\",\"Muhammad Akhtar mengal\",\"Nawab Khan Bizenjo\",\"Shakeel Ahmed\",\"Wazeer Ahmed Norani\"],[\"Arbab Amir Ayub\",\"Ikram Ullah\",\"Muhammad Daud Khan Barki\",\"Muhammad Intikhab Khan\",\"Sabir Hussain Awan\",\"Shafi Akbar\"],[\"Nasir Khan\",\"Arbab Kamal Ahmad\",\"Muhammad Shafiq\",\"Naeem Jan\",\"Ameer Muqam\"],[\"Saleem Rehman\",\"Abdul Karim\",\"Hujjat Ullah\",\"Shahryar Amirzeb\",\"Shakeel Ahmad\",\"Aftab Shahid\",\"Mian Muhammad Shahbaz Sharif\",\"Ali Khan\"],[\"Sher Ali Arbab\",\"Arbab Alamgir Khan\",\"Arbab Najeeb Ullah Khan\",\"Malik Haidar Khan\",\"Muhammad Alamgir Khalil\",\"Muhammad Junaid\",\"Muhammad Shoukat Khurshed\",\"Noor Wali Khan\"],[\"Shaukat Ali S o Liaqat Ali\",\"Akhunzada Irfan Ullah Shah\",\"Aurangzeb Khan\",\"Gul Rehman\",\"Haji Ghulam Ahmad Bilour\",\"Ilyas Ahmad Bilour\",\"Muhammad Nadeem\",\"Muhammad Saqqaf Yasir\",\"Muhammad Siddiq Ur Rehman Paracha\",\"Noor Hussain\",\"Rooh Ullah\",\"Shaukat Ali S o Fazal Muhammad Afzal\",\"Yasmeen\"],[\"Shehryar Afridi\",\"Abbas Afridi\",\"Asmat Ullah Khan\",\"Bismillah Khan\",\"Gohar Muhammad Khan Bangash\",\"Madiha Faraz\",\"Mufti Ibrar Sultan\",\"Muhammad Fayyaz\",\"Najeeb Ullah Durani\",\"Yousaf Afridi\"],[\"Khial Zaman\",\"Akhtar Munir Bangash\",\"Arif Hussain\",\"Atiq Ur Rehman\",\"Hussain Jalali\",\"Khaliq ur Rehman\",\"Malak Riaz Bangash\",\"Muhammad Imran\",\"Rangeen Khan\",\"Sultan Akbar\",\"Syed Haider Ali Shah\",\"Taj Muhammad\",\"Ulfat Hussain\"],[\"Shahid Ahmad\",\"Altaf Qadir\",\"Aziz Khan\",\"Gul Sahib Khan\",\"Hameed Ullah Khan\",\"Haseeb Ahmad Afaqi\",\"Ikhtiar Gul\",\"Immad Azam\",\"Mir Zakim Khan\",\"Nawabzada Mohsin Ali Khan\",\"Rehmat Salam Khattak\",\"Saad Ullah Khan Khattak\",\"Shah Abdul Aziz\",\"Shakir Zeeshan Khattak\",\"Shams ur Rehman Khattak\",\"Tauseef Razique\",\"Usman Ghani\",\"Zafar Mehmood\"],[\"Imran Ahmed Khan Niazi\",\"Abdul Samad Khan\",\"Akram Khan Durrani\",\"Amin ullah\",\"Hamid Shah\",\"Inam Ullah\",\"Islam Noor\",\"Liaqat Ali Khan\",\"Muhammad Usman Ali Khan\",\"Safdar Iqbal Shah\",\"Syeda Yasmin Safdar\",\"Wali Dad Khan\"],[\"Muhammad Anwar\",\"Abdul Hayat\",\"Abdullah\",\"Amir Nawaz Khan\",\"Ashraf Ali Khan\",\"Aziz Khan\",\"Gul Razan Shah\",\"Haji Jamil Ur Rehman Nasir\",\"Imran Nawab\",\"Imran Ullah Khan\",\"Inam Ullah Khan\",\"Ishfaq Ahmad Khan\",\"Mansoor Kamal Marwat\",\"Muhammad Ali\",\"Muhammad Idrees Khan\",\"Najib Ullah Khan\",\"Nasim Ullah\",\"Sher Afzal Khan\"],[\"Asad Mehmood\",\"Ahmed Habibullah Khan Kundi\",\"Dawar Khan Kundi\",\"Faisal Karim Kundi\",\"Ghulam Badshah\",\"Habibullah Khan\",\"Muhammad Ayub Khan\",\"Muhammad Ramzan\",\"Nawabzada Sadat Khan\",\"Saeed Ahmed\",\"Sami Ullah Khan Burki\",\"Ubaid Ur Rehman\",\"Waqar Ahmed Khan\"],[\"Ali Amin Khan\",\"Ahmed Kundi\",\"Akhtar Saeed\",\"Chohdry Siraj Ud Din\",\"Dawar Khan Kundi\",\"Faisal Karim Kundi\",\"Fazl ur Rehman\",\"Hafeezullah\",\"Hameedullah Khan Qadri\",\"Makhdum Syed Murid KAzim Shah\",\"Muhammad Ali Raza\",\"Muhammad Naeem Khan\",\"Syed Hasnain Mohy Ud Din Gillani\",\"Ubaid Ur Rehman\",\"Waqar Ahmad Khan\"],[\"Muhammad Yaqoob Sheikh\",\"Alhaj Sardar Umar Farooq Khan\",\"Asmat Ullah\",\"Eithesham Ullah Khan\",\"Faisal Karim Kundi\",\"Fazl ur Rehman\",\"Irfan Ullah Khan\",\"Muhammad Aftab Inayat\",\"Muhammad Akbar Khan\",\"Muhammad Amir\",\"Muhammad Maqbool\",\"Nurang Khan\",\"Obaid Ur Rehman\",\"Qaizar Khan\",\"Waqar Ahmad Khan\"],[\"Murad Saeed\",\"Feroz Shah\",\"Tal Hayat Khan\",\"Ibrahim\",\"Muhammad Raza Khan\",\"Qamar Zaman\",\"Muhammad Mosa Khan\",\"Khurshaid Ali\",\"Muhammad Salim Khan\",\"Shahzad\",\"Qari Mahmood\"],[\"Gul Dad khan\",\"Gul Afzal\",\"Hidayat Ullah\",\"Israr Uddin Khan\",\"Javed Maindad\",\"Muambar Khan\",\"Muhammad Akbar Khan\",\"Muhammad Asghar\",\"Muhammad Israr\",\"Naseer Khan\",\"Said Badshah\",\"Sardar Khan\",\"Shaukat Ullah\",\"Syed Akhum Zada Chatan\"],[\"Gul Zafar Khan\",\"Abdul Majeed\",\"Abdur Rasheed\",\"Gul Zada\",\"Hafeez Ur Rahman\",\"Muhammad Ayaz\",\"Salah Ud Din\",\"Shahab Ud Din Khan\",\"Sher Ahmad\",\"Sultan Zeb Khan\",\"Syed Akhun Zada Chattan\",\"Waheed Zaman\"],[\"Sajid Khan\",\"Abbas Ur Rahman\",\"Abdur Rahman\",\"Bilal Rahman\",\"Ghulam Muhammad Sadiq\",\"Ihsan Ullah\",\"Israil\",\"Khan Dad\",\"Malak Abdur Rahman\",\"Muhammad Iqrar Khan\",\"Muhammad Saeed\",\"Mustafa Khan\",\"Naveed Ali\",\"Nisar Ahmed\",\"Rahman Gul\",\"Shafi Ullah\",\"Shah Khalid\",\"Zar Khan\"],[\"Noor Ul Haq AlQadri\",\"Alhaj Shah Jee Gul Afridi\",\"Zar Noor Afridi\",\"Shermat Khan\",\"Sardar Azam\",\"Abdur Raziq Shinwari\",\"Shah Zeb\",\"Hazrat Wali\",\"Ihsan Ullah\",\"Muhammad Ijaz\",\"Shakeel Afridi\",\"Nawabzada Muhammad Shah\",\"Abdul Nawaz\",\"Saida Jan\",\"Daulat Shah\",\"Mohib Ullah\",\"Saidgha Jan\",\"Attiq Ullah\"],[\"Mohammad Iqbal Khan\",\"Abdul Qayyum Khan\",\"Adnan Nasir\",\"Ajab Khan\",\"Anwer Khan\",\"Arat Khan\",\"Attaullah Khan\",\"Dilshad Ullah\",\"Ghulam Ishaq Khan\",\"Gul Wali Khan\",\"Hameed Ullah Jan Arfidi\",\"Haroon Afridi\",\"Hazrat Wali\",\"Imran Khan\",\"Izzatullah\",\"Jan Wali\",\"Jasam Khan\",\"Jehangir Khan\",\"Khan wali\",\"Malik Waris Khan\",\"Maroof Khan\",\"Masood Jan afridi\",\"Mohammad Shafique\",\"Muhammad hussain Malik\",\"Murad Khan Afridi\",\"Musarat Shah\",\"Nadeem Khan\",\"Naseer Ahmed\",\"Nasir Khan\",\"Nawab Zada Mohammad Shah\",\"Roman Khan\",\"Saeed Ullah\",\"Said Karam Shah Afridi\",\"Said Muhammad\",\"Said Nawab\",\"Shah Faisal Afridi\",\"Shamsuddin\",\"Sohail Ahmed\",\"Sohbat Khan\",\"Zahidullah\"],[\"Munir Khan Orakzai\",\"Said Jamal\",\"Muhammad Tofail Shaheen\",\"Abdul Qadir\",\"Jamal Dar\",\"Akhunzada Abdul Wali Khan\",\"Abdul Karim Abid\",\"Muhammad Shehzad\",\"Muhammad Nasir Khan\",\"Fazal Khaliq\",\"Abdur Rashid Khan\",\"Atta Ullah Jan Bangash\",\"Badi Zaman\",\"Fakhar Zaman\",\"Gul Faraz\",\"Malak Rashid Ahmed Khan\",\"Abdul Wali Khan\",\"Niaz Badshah\",\"Asmat Ullah\",\"Irfan Ullah\",\"Gulab Khan\",\"Noor Akbar\",\"Muhammad Luqman\",\"Habib Malik\",\"Noor Muhammad\",\"Abdul wahid\",\"Adnan Sitar\",\"Farooq Ahmed\",\"Hukam Sayed\",\"Muhammad Kabir\",\"Malak Noor Akbar\",\"Hikmat Khan\",\"Arif Hussain\",\"Khyal Marjan\",\"Aman Ullah Jaan\",\"Akhunzada Muhammad Akram Khan\",\"Hazrat Nabi\",\"Naveed Ahmed Khan\"],[\"Sajid Hussain Turi\",\"Abdul Ghaffar\",\"Ali Begum Khan\",\"Amir Abbas\",\"Anayat Ali\",\"Anayat Hussain\",\"Fazal Rabi\",\"Hashmat Hussain\",\"Ibrar Hussain\",\"Jamil Hussain\",\"Jamil Hussain\",\"Mansab Ali\",\"Mehmood Ali Jaan\",\"Muhammad Hussain Turi\",\"Muhammad Nasib\",\"Muhammad Shehzad\",\"Mumtaz Hussain\",\"Mushtaq Ali\",\"Shabir Hussain\",\"Sher Hussain\",\"Syed Iqbal Mian\",\"Syed Irshad Hussain\",\"Syed Munir Syed\",\"Waqar Ahmed\",\"Zahid Hussain Torrie\"],[\"Jawad Hussain\",\"Abdul Habib\",\"abdul shahid\",\"Akhtar Gul\",\"Aurenzeb Khan\",\"essam uddin\",\"gul muhammad\",\"Habib Noor\",\"Iqbal Hussain\",\"Johar Abbas\",\"Khadim Hussain\",\"Malik Gul Kareem Khan\",\"Malik Khalid Naeem\",\"Malik Syed Noor Akbar\",\"Muhammad Ayaz\",\"Noor Shaheed Khan\",\"Qadim khan\",\"Qasim gul\",\"Rafi Ullah\",\"Raj Muhammad\",\"Rizwan Ullah\",\"Shaheed khan\",\"shoaib hassan\",\"Sohrab Khan\",\"Speen Gul\",\"Syed Anees Ul Hassan\",\"Syed Basharat Hussain\",\"syed ghazi ghazan jamal\",\"syed model hussain\",\"syed muhammad razi shah\",\"zabit gul\"],[\"Mohsin Javed\",\"Akbar Ali Khan\",\"Ashraf Ullah\",\"Aurenzeb\",\"Aurenzeb Khan\",\"Daud Khan\",\"Gula Dar Khan\",\"Haneef Ullah\",\"Humayun Khan S O Guladar Khan\",\"Humayun Khan S O Mir Jalil Khan\",\"Jahenzeb Khan\",\"Javed Iqbal\",\"Javed Khan\",\"Kismat Khan Wazir\",\"Malik Farid Ullah Khan Wazir\",\"Malik Ghulam Khan\",\"Maulana Said Nek Zaman Haqqani\",\"Misbah Uddin\",\"Muhammad Din\",\"Muhammad Iqbal Khan\",\"Muhammad Kamran Khan\",\"Muhammad Nazir Khan\",\"Muhammad Niaz Khan\",\"Muhammad Rasool\",\"Muhammad Umar Akbar Khan\",\"Nek Amal Khan\",\"Nek Muhammad Khan\",\"Noor Behram\",\"Pir Muhammad Aqal Shah\",\"Rehman Gul Akhunzada\",\"Safi Ullah\",\"Sher Bahadur Khan\",\"Sher Ullah Khan\",\"Sher Wali Khan\",\"Zia Ur Rehman\"],[\"Muhammad Jamal Ud Din\",\"Ahmad Hussain\",\"Noor Hassan\",\"Abdul Raheem Khan Barki\",\"Sadam Hussain\",\"Dilawar Khan\",\"Qayyum Sher\",\"Abdul Hameed\",\"Muhammad Iqbal\",\"Waheed Khan\",\"Abdul Qadoos Khan\",\"Jahangir Khan\",\"Abdullah\",\"Nawab Naik Badshah Mahsud\",\"Abdul Majeed\",\"Zahoor Khan\",\"Jamal Shah\",\"Atta Mir Khan\",\"Sami Ullah Jan\",\"Dost Muhammad Khan\",\"Afsar Khan\",\"Dilber Khan\",\"Syed Muhammad Zahoor Shah\",\"Sherpao\",\"Zahir Shah\"],[\"SAHIBZADA SIBGHATULLAH\",\"HANIF ULLAH KHAN\",\"IMRAN KHAN\",\"INAYATUL HAQ\",\"MUHAMMAD NISAR KHAN\",\"NAJMUDDIN KHAN\",\"RIAZULLAH\",\"SAHIBZADA TARIQULLAH\",\"SUBHAN ALI\",\"UMAR ZAIB KHAN\"],[\"Muhammad Ali\",\"Abdul Khaliq Khan\",\"Abdul Rashid\",\"Abdullah\",\"Ajab Gul\",\"Allah Dad Khan\",\"Aman Ullah\",\"Anwar Khan\",\"Anwar Khan so Umar Khan\",\"Ghalib Khan\",\"Hafiz Ul Amin\",\"Javed Iqbal\",\"Jumma Khan\",\"Mahmood Alam\",\"Muhammad Asghar Khan\",\"Muhammad Ayaz Khan\",\"Muhammad Gulab\",\"Muhammad Ilyas\",\"Muhammad Noor\",\"Muhammad Rehman\",\"Naik Muhammad so Adam Khan\",\"Naik Muhammad so Haji Syl Khan\",\"Naseer Ullah Khan\",\"Noor Hassan\",\"Sana Ullah Khan\",\"Syed Tariq Gillani\",\"Taj Muhammad\",\"Zar Wali Khan\"],[\"Abdul Shakoor\",\"Qaiser Jamal\",\"Shahi Khan\",\"Ikram Ullah\",\"Kifyat Ullah\",\"Abid Rehman\",\"Muhammad sohail khan bettani\",\"Rozi Shah\",\"Jumma Khan\",\"Wazir Badshah\",\"Abdullah\",\"Ishfaq Khan Bettani\",\"Hazrat Nawaz\",\"Miraj Gul\",\"Ghulam Badshah\",\"Allawdin\",\"Bazgul\",\"Younis Khan\",\"Aimal Khan\"],[\"Raja Khurram Shahzad Nawaz\",\"Asia Bibi\",\"Asrar Ahmed Abbasi\",\"Bilal Faisal Amin\",\"Hafiz Muhammad Aslam\",\"Muhammad Afzal Khokhar\",\"Rizwan Ahmed\",\"Syed Amjad Ali Shah\",\"Tariq Fazal Chaudhry\"],[\"Imran Ahmed Khan Niazi\",\"Javed Akhter\",\"Amjad Masih\",\"Zaib ur Rehman\",\"Mukhdoom Muhammad Niaz Inqlabi\",\"Mansoor Akash Randhawa\",\"Raja Qadeer Ahmed\",\"Asif\",\"Muhammad Afnan Umer Baloch\",\"Nadeem Sarwar\",\"Muhammad Zafar\",\"Muhammad Amjad\",\"Ghulam Rasool\",\"khawaja Khalil ur Rehman\",\"Syed Zafar Ali Shah\",\"Nasir Munir Ahmed\",\"Chaudhary Saeed Ahmad\",\"Shahid Khaqan Abbasi\",\"Nadeem ul Zafar Khan\",\"Malik Muhammad Yousaf\",\"Abdul Hafeez\",\"Syed Sibt ul Haider Bukhari\",\"Muhammad Asif Nawaz\",\"Shahzad Asif Javed\",\"Syed Amjad Ali Shah\",\"Nasir Mehmood\",\"Shamakh Hassan Khan\",\"Ammar Rasheed\",\"Mian Muhammad Aslam\",\"Haroon Arshad Shekh\",\"Asif Fazal Chaudhary\",\"Ayesha Gulalai Wazir\",\"Abdul Wahab\"],[\"Asad Umer\",\"Amir Naeem\",\"Anjum Aqeel Khan\",\"Anwar Khan\",\"Anwar Ul Haq\",\"Azeem Khan\",\"Badee ur Rehman\",\"Chan Mehboob Noon Awan\",\"Fatima Malik\",\"Hafeez ur Rehman\",\"Hamid Shamim\",\"Ismat Raza\",\"Maimoonah\",\"Mewa Khan\",\"Mian Aftab Ahmed\",\"Mian Muhammad Aslam\",\"Muhammad Ashraf Shehzad Khan\",\"Nosheen Gul Kharal\",\"Raja Imran Ashraf\",\"Saima Shiraz\",\"Sajid Mehmood\",\"Shamakh Hassan Khan\",\"Shamas ur Rehman\",\"Taneem ul Haq Hassani\",\"Tayyab Nawaz Malik\",\"Usama\",\"Zubair Farooq Khan\"],[\"TAHIR SADIQ\",\"ZULFIQAR HAYAT KHAN\",\"MOHAMMAD HAFEEZ ULLAH JAN\",\"MALIK MIR AFZAL\",\"TAIMOOR ASLAM\",\"SHEIKH AFTAB AHMED\",\"ASIF IQBAL\",\"SAEED AHMED\"],[\"Tahir Sadiq\",\"GHULAM ASGHAR\",\"MALIK SOHAIL KHAN\",\"MEHRAM KHAN\",\"SALEEM HAIDER\",\"SHEHRYAR KHAN\",\"SYED FAISAL MEHMOOD SHAH\"],[\"SADAQAT ALI KHAN\",\"JAVED AKHTER ABBASI\",\"MEHREEN ANWAR RAJA\",\"MUHAMMAD MUNEEB SATTI\",\"RAJA TARIQ MEHMOOD JANJUA\",\"SAMINA SHAHID\",\"SARDAR MOHSIN AKHTER ABBASI\",\"Shahid Khaqan Abbasi\"],[\"Raja Pervaiz Ashraf\",\"Choudhary Muhammad Azeem\",\"Mehmood Hussain Shaiq\",\"Muhammad Akash Bhatti\",\"Muhammad Ramzan Awan\",\"Mukhtar Ali\",\"Raja Muhammad Javed Ikhlas\",\"Riaz Mehmood Mughal\",\"Tariq Mehmood\",\"Zafar Mehmood Chaudhary\"],[\"Ghulam Sarwar Khan\",\"Ajmal Sabir Raja\",\"CH NISAR ALI KHAN\",\"Chaudhry Muhammad Kamran Ali Khan\",\"Malik Muhammad Taj\",\"Molana Abdul Ghafar Ghufari Toheedi\",\"Muhammad Ameen Khan\",\"Raja Qamar Ul Islam\",\"Safdar Ali Khan\",\"Tariq Bashir Raja\"],[\"Mehboob Shah\",\"Ahmad Hassan\",\"Amjad Ali\",\"Asad Ullah\",\"Habib Ullah\",\"Ihsan Ullah\",\"Javed Akhtar\",\"Muhammad Zahid Khan\"],[\"Aamir Mehmood Kiani\",\"Aizaz Asif\",\"Ejaz Husain\",\"Faheem Raza\",\"Farid Hussain Kaif\",\"hina manzoor\",\"Ibrar Ahmed\",\"Mian Zafar Yaseen\",\"Muhammad Gulzar\",\"Muhammad Nabi\",\"Muhammad Shabir Awan\",\"nasir Mehmood\",\"Raja Jahandad\",\"Raja Khawar Bashir\",\"Razaq Mehmood Bhatti\",\"shabir Hussain\",\"Shaukat Rasheed Butt\",\"syed Shahid Parvez\",\"Ziad Khaliq Kiani\"],[\"SHEIKH RASHID AHMED\",\"SUMAIRA GUL\",\"MAKHDOOM M NIAZ INQLABI\",\"ASGHAR ALI MUBARAK\",\"CH QADEER AHMED\",\"TARIQ MUNIR\",\"DANYAL CHAUDHRY\",\"GHULAM MUSTAFA\",\"MUHAMMAD ASIF KHAN\",\"YASIR MEHMOOD\",\"SHAHZADA IMRAN\",\"MUHAMMAD FAROOQ\"],[\"Ghulam Sarwar Khan\",\"CH NISAR ALI KHAN\",\"Muhammad Ejaz Ahmed\",\"Muhammad Sarwar\",\"Muhammad Waqas Khan\",\"Mumtaz Khan\",\"Syed Ishrat Ali Zaida\",\"Tahir Mehmood\"],[\"ZULFIQAR ALI KHAN\",\"AAJ MUHAMMAD\",\"ABDUL NISAR\",\"IMRAN QAISER ABBAS\",\"JABBAR AHMED\",\"MUHAMMAD TUFAIL\",\"NAEEM ASGHAR MALIK\",\"SYED IMRAN HUSSAIN BUKHARI\",\"SYED TASSADUQ MANZOOR\",\"TAHIR IQBAL\"],[\"Parvez Elahi\",\"Hashim Khan\",\"Muhammad Aamir\",\"Muhammad Faez Malik\",\"Muhammad Hameed Ullah\",\"Muhammad Jahangir Malik\",\"Muhammad Yaqoob\",\"Mulazim Hussain\",\"Sardar Mansoor Hayat Tamman\"],[\"CHAUDHARY FARRUKH ALTAF\",\"CHAUDHARY MUHAMMAD SAQLAIN\",\"CHAUDHARY NADEEM KHADIM\",\"CHAUDHARY TASNEEM NASIR\",\"FAISAL FAREED\",\"KHALID TANVEER\",\"MEHBOOB ALI MUJAHID\",\"SHAMIM AKHTAR\",\"SYED ALI ABBAS\"],[\"Fawad Ahmed\",\"Syed Nauman Shah\",\"Shahid Kamal Mirza\",\"Nawabzada Syed Shams Haider\",\"Syed Fakhar Haider\",\"Ch Muhammad Saqlain\",\"Abrar Hussain\",\"FAISAL FAREED\",\"Raja Matloob Mehdi\",\"Muhammad Zia ul Haq\",\"Saqib Hamid\",\"Muhamamd Fayaz Ashraf\",\"Mushtaq ahmed\",\"Diwan Hashmat Hayat\",\"Adeel Ahmed\"],[\"Hussain Elahi\",\"Azhar Iqbal Choudary\",\"Muhammad Asghar\",\"Muhammad Mahmood Qadri\",\"Munawar Iqbal Bhumla\",\"Mubashar Majeed Butt\",\"Rizwan Hussain\",\"Nawabzada Ghazanfar Ali Gul\",\"Khurram Shahzad\",\"Mubashar Ul Hassan\",\"Zubair Ahmad\"],[\"Parvez Elahi\",\"Ahmed Farhan Khan\",\"Ch Mubasher Hussain\",\"Ch Zahoor Elahi\",\"Iftikhar Ahmed Warraich\",\"Muhamamd Latif Malik\",\"Muhammad Azam\",\"Raja Salamat Ali\",\"Shaikh Mansoor Khurshid\",\"Syed Shoukat Kamal\",\"Thekadar Haji Khalid Mehmood\",\"Wazir un Nisa\",\"Zahid Khan\"],[\"Muhammad Bashir Khan\",\"Abdul Ghafar Khan\",\"Mubarak Jan\",\"Muhammad Khalid\",\"Nazir Khan\",\"Siraj Ul Haq\",\"Sobia Shahid\",\"Syed Shahid Ahmad Jan\"],[\"Syed Faiz ul Hassan\",\"Adnan Asim\",\"Jaffar Iqbal\",\"Mian Intazar Hussain\",\"Mian Muhammad Akram\",\"Muhammad Usman Aslam\",\"Qamar Zaman kaira\",\"Syed Mubashar Hussain Shah\",\"Tahir Zaman\"],[\"Chaudhry Abid Raza\",\"Ali Asghar\",\"Asif Raza\",\"Ch Muhammad Zahid Farooq\",\"Fahad Ilyas Choudhry\",\"Muhammad Hanif Malik\",\"Muhammad Ilyas Choudhary\",\"Nadeem Ashiq\",\"Naeem Ahmed\",\"Naeem Raza\",\"Shabbir Ahmad\",\"Shahbaz Khan\",\"Syed Mubashar Hussain Shah\",\"Syed Zia Ulla\"],[\"CHAUDHRY ARMGHAN SUBHANI\",\"FIRDOUS ASHIQ\",\"KHURRAM IJAZ\",\"MIAN ABID JAVED\",\"MIAN NAEEM JAVED\",\"NASAR ULLAH\",\"PERVEEN AKHTAR\",\"SYED ABBAS ALI SHAH\",\"SYED ISHTIAQ UL HASSAN GILANI\",\"TARIQ SUBHANI\"],[\"Khawaja Muhammad Asif\",\"Muhammad Imran Dar\",\"Muhammad Asif\",\"Jahangir Rashid\",\"Chaudhry Mohammad Sarwar\",\"Arif Mahmood\",\"Imran Ashraf\",\"Muhammad Usman Dar\",\"Rana Muhammad Naeem Javid\",\"Zarrar Mahmood Malik\"],[\"Ali Zahid\",\"Chaudhary Muhammad Akbar\",\"GHULAM ABBAS\",\"Liaqat Ali\",\"MANSOOR SARWAR KHAN\",\"Mohsin Ikram\",\"MUHAMMAD ASIF BAJWA\",\"MUHAMMAD IQBAL\",\"MUNAWAR AHMED GILL\",\"NARGIS FAIZ MALIK\",\"SHUJAAT ALI\"],[\"Syed Iftikhar Ul Hassan\",\"Arslan Zafar\",\"Kashan Haider\",\"Usman Abid\",\"Abdul Rauf\",\"Ali Asjad Malhi\",\"Abdul waheed Meo\",\"Muhammad Atiq Rafiq\",\"Zaheer Ul Hassan Rizvi\",\"Rauf Ahmed Bajwa\",\"Chaudhry Mumtaz Ali\"],[\"Rana Shamim Ahmed Khan\",\"CH Khaleeq Ur Rehman\",\"Ch Muhammad Amin\",\"Mudashar Saleem Baryar\",\"Muhammad Aslam\",\"Muhammad Awais\",\"Qasim Ali\",\"Yasir Mushtaq Bajwa\"],[\"Mehnaz Akber Aziz\",\"Muhammad Ashfaq Taj\",\"Hafiz Muhammad Akmal Sadiq\",\"Ghulam Ali Shakar Toor\",\"Shamim Akhtar\",\"Muhammad Azeem Choudry\",\"Mian Muhammad Rasheed\",\"Muhammad Nawaz\",\"Syed Sirshar Abbas\",\"Muhammad Tariq Anees\",\"Amir Siddique Malik\"],[\"Ahsan Iqbal Chaudhary\",\"Abrar Ul Haq\",\"Anwar Ul Haq Butt\",\"Badar Ahsan Chaudhary\",\"Faiza Rafique\",\"Hafiz Muhammad Akmal Sadiq\",\"Jalaluddin\",\"Javaid Safdar Kahlon\",\"Khizer Ilyas Virk\",\"Mureed Hussain\",\"Rashid Mahmood Khan\",\"Shujait Ahmed Khan\"],[\"NISAR AHMED CHEEMA\",\"MUHAMMAD ARSHAD\",\"JOHAR SARWAR CHEEMA\",\"ASJAD HUSSAIN\",\"Babar Maqbool Qazi\",\"MALIK ABDUL REHMAN SADIQ\",\"CH ADIL BUKSH CHATTHA\",\"MUHAMMAD AKRAM\",\"MIRAJ DIN\",\"CH IJAZ AHMED CHEEMA\",\"MUHAMMAD UMER USMAN\",\"MUHAMMAD AMIN\",\"MUHAMMAD FAYYAZ\",\"MUHAMMAD AHMED CHATTHA\"],[\"Junaid Akbar\",\"Alamgir\",\"Amir Nawab Khan\",\"Bilawal Bhutto Zardari\",\"Fazal Muhammad\",\"Gul Naseeb Khan\",\"Hussain Khan\",\"Inam Ullah Khan\",\"Mian Gul Kurram\",\"Muhammad Khan\",\"Shams Ul Haq\",\"Taj Badshah\",\"Zafar Yab Khan\"],[\"CH MEHMOOD BASHIR VIRK\",\"AMIR YAQOOB WARAICH\",\"IMTIAZ SAFDAR WARRAICH\",\"MUAMMAD NASIR CHEEMA\",\"MUHAMMAD AHMED\",\"MUHAMMAD ARSHAD\",\"MUHAMMAD ASLAM\",\"MUHAMMAD UBAID ULLAH\",\"QAZI WASIF NADEEM\",\"RANA NAEEM UR REHMAN KHAN\",\"RAO IKRAM ALI KHAN\",\"Shazia Bano Mazhar Javaid\",\"SULTAN AHMAD WARRAICH\",\"TARIQ MEHMOOD\",\"UZAIR AHMED\",\"ZABEEH ULLAH BALAGGAN\",\"ZAIN ALI BHATTI\"],[\"Khurram Dastgir Khan\",\"Atif Farid Sabir Khan\",\"Ch Muhammad Siddique\",\"Hameed Ud Din Awan\",\"Kashif Sabir Khan\",\"Muhammad Anas Amjad\",\"Muhammad Ishaq\",\"Muhammad Naseem Sadiq\",\"Muhammad Rafiq\",\"Nasir Afzal\",\"Naveed Anwar Bhinder\",\"Shahid Hameed\",\"Usman Saeed\"],[\"Usman Ibrahim S O Muhammad Ibrahim\",\"Ch Muhammad Younas Ali\",\"Nafisa Tahira\",\"Muhammad Ashraf Asif\",\"Ahsan Yousaf\",\"Shoukat Ali\",\"Ishaq Akbar\",\"Muhammad Furqan Aziz Butt\",\"Muhammad Imran\",\"Ali Ashraf\",\"Abdul Karim\",\"Usman Ibrahim S O Maqsood Ahmad\",\"Shahid Usman\",\"Shahbaz Khan\",\"Usman Saif\",\"MUHAMMAD FAROOQ\",\"Aman Ullah Butt\",\"Usman Ashraf\",\"Faisal Adnan Sandhu\"],[\"ZULIFIQAR AHMAD\",\"MUHAMMAD NASIR MEHMOOD\",\"Rana Umar Nazir Khan\",\"Shahbaz Ahmad\",\"CH ZAKA ULLAH BARYAR\",\"RANA NAZIR AHMAD KHAN\",\"Ch Ali Wakeel Khan\",\"SAEED YOUSAF BHINDER\",\"MIAN ASIF ALI\",\"QAMAR HUSSAIN\"],[\"Azhar Qayyum Nahra\",\"Abid Sohail Virk\",\"Amir Ali Hussain Khan\",\"AYTZAZ IJAZ\",\"Ch Bilal Ejaz\",\"Muhammad Asghar\",\"Muhammad Ishaq Khan\",\"Muhammad Islam\",\"Muhammad Muhibb Uddeen\",\"Qasim Ali\",\"Rab Nawaz Cheema\",\"Zulfiqar Ali\"],[\"Haji Imtiaz Ahmed Choudhary\",\"Naeem Bashir\",\"Ejaz Ahmad\",\"Muhammad Akbar\",\"Yasir Saddiq\",\"Muhammad Haq Nawaz\",\"Akhtar Nawaz Faisal\",\"Mohammad Riaz Farooq Sahi\",\"Najas Bibi\",\"Chaudhry Akhter Abbas\",\"Mushahid Raza\",\"Sher Muhammad Gondal\",\"Asif Bashir\"],[\"Nasir Iqbal Bosal\",\"Chaudhry Akhtar Abbas Bosal\",\"Chaudhry Manzoor Hussain Dudhra\",\"Fakhar Umar Hayat\",\"Muhammad Anwar\",\"Muhammad Irfan\",\"Nazar Muhammad Gondal\",\"Zulifqar Ali Gondal\"],[\"Ch Shoukat Ali Bhatti\",\"Afrasiab Mohal\",\"Allah Rakhi\",\"Babar Maqbool Qazi\",\"CHAUDHARY MUHAMMAD ASAD ULLAH\",\"Fehmida Kousar\",\"Liaqat Abbas\",\"Malik Muhammad Aslam\",\"Mir Muhammad Hashim Khan\",\"Mubashar Abbas\",\"Muhammad Naeem\",\"Muhammad Rafique son of Ali Muhammad\",\"Qamar Abbas\",\"Sadia Liaqat Abbas\",\"Saira Tarar\"],[\"MUKHTAR AHMAD MALIK\",\"ASIF ALI CHOUDHRY\",\"IZHAR UL HASSAN\",\"MUHAMMAD HANIF\",\"Nadeem Afzal Gondal\",\"RAO TAHIR MUSHARAF KHAN\"],[\"Mohsin Nawaz Ranjha\",\"Muhammad Aslam\",\"Rakhshinda Nawaz\",\"Ali Nawaz Mela\",\"Ch Altaf Hussain Ranjha\",\"Usama Ahmad Mela\"],[\"SHER AKBAR KHAN\",\"ABDUR RAUF\",\"FANOOS GUJJAR\",\"ISTIQBAL KHAN\",\"KAMRAN KHAN\",\"MIAN MOEEN UD DIN\",\"SIR MIR KHAN\"],[\"Ch Muhammad Hamid Hameed\",\"Muhammad Arshad Shahid\",\"Erum Hamid\",\"Rai Muhammad Munir Khral\",\"Jamal Din\",\"Hamza Mateen Qureshi\",\"Nadia Aziz\",\"Tahir Farooq\",\"Tasneem Ahmed Qureshi\",\"Sajjad Hussain\",\"Muhammad Mumtaz Akhtar\",\"Aasiah Maqbool\",\"Ahmed Khan\",\"Zubair Tariq\",\"Muhammad Aslam\"],[\"Zulfiqar Ali Bhatti\",\"Adil Rehman\",\"Ch Mubashar Ahmad\",\"CHOUDHARY AMIR SULTAN CHEEMA\",\"Hafiz Farhan Ahmad\",\"Hafiz talha saeed\",\"Khawar Javaid\",\"MUHAMMAD ALI\",\"Muhammad Sarwar Bhatti\",\"Muhammad Shahzad\",\"NADEEM AWAN\",\"Najaf Ali Bhatti\",\"Tariq Mehmood\"],[\"SYED JAVED HUSNAIN\",\"SAHIBZADA NAEEM UD DIN SIALVI\",\"ZAFAR AHMAD\",\"GUL MUHAMMAD SHAH\",\"SYED MUHAMMAD RAZA ALI SHAH\",\"SHEHNAZ BIBI\",\"Syed Ahmad Mehdi Ali Shah\",\"SARDAR MUHAMMAD SHAFQAT HAYAT KHAN\",\"MUHAMMAD AZHAR ABBAS\",\"ANSAR ABBAS BALOCH\",\"MUHAMMAD JAMSHED\"],[\"Umar Aslam Khan\",\"Abdullah Ahmed\",\"Bahadar Khan\",\"Haji Fateh Deen\",\"Malik Mazhar Iqbal Awan\",\"Muhammad Ali Sawal\",\"Naseem Abbas\",\"Sumaira Malik\"],[\"MALIK MUHAMMAD EHSAN ULLAH TIWANA\",\"Anwar Khan\",\"MALIK SHAKIR BASHIR AWAN\",\"Gul Asghar Khan Bhagoor\",\"SHAHID IQBAL\",\"SAFDAR ALI\",\"UZAIR MUHAMMAD KHAN\",\"GHAUS MUHAMMAD KHAN NIAZI\"],[\"Imran Ahmed Khan Niazi\",\"ABDUL WAHAB\",\"AMIR ULLAH\",\"ASAD HASSAN KHAN\",\"MANZOOR AHMED KHAN\",\"MUHAMMAD KHALID\",\"Muhammad Khalid Khan\",\"MUHAMMAD SARDAR BAHADUR KHAN\",\"MUHAMMAD TAUQEER UL HASNAIN SHAH\",\"NAWAB MALIK AMIR MUHAMMAD KHAN\",\"OBAID ULLAH KHAN\"],[\"AMJID ALI KHAN\",\"MUHAMMAD TAYYAB\",\"SAJJAD AHMAD MALIK\",\"MUHAMMAD KHALID\",\"MUHAMMAD HUMAIR HAYAT KHAN NIAZI\",\"AZIZ UR REHMAN\"],[\"MUHAMMAD SANA ULLAH KHAN MASTI KHEL\",\"ABDUL MAJEED KHAN\",\"AZFAR ALI\",\"AZIZ AHMAD KHAN\",\"FAROOQ AHMAD KHAN\",\"FURRUKH HASSAN KHAN\",\"MALIK AMJAD ALI\",\"MUHAMMAD ARSHAD AWAN\",\"Mulazim Hussain\",\"NAEEM AKHTAR\",\"SANA ULLAH KHAN\",\"UMAIR HASSAN KHAN\"],[\"Muhammad Afzal Khan\",\"Saeed Akbar Khan\",\"Naeem Ullah Khan Shahani\",\"Habib Ullah Khan Shahani\",\"Ejaz Ali Khan Shahani\",\"Akhtar Hussain\",\"Hafiz Muhammad Zulfiqar\",\"Abdul Rehman\",\"Rashid Akbar Khan\"],[\"GHULAM MUHAMMAD\",\"ALLAH YAR\",\"MAKHDOOM ZADA SYED ASAD HAYAT\",\"ZULFIQAR ALI SHAH\",\"ALI RAZA\",\"MUHAMMAD AHSAN LALI\",\"JAHANZAIB ZAHID\",\"REHAN QAISER\",\"GHULAM ABBAS\",\"AHMAD YAR IRFAN\"]],\"xaxis\":\"x\",\"y\":[\"NA-1\",\"NA-10\",\"NA-100\",\"NA-101\",\"NA-102\",\"NA-104\",\"NA-105\",\"NA-106\",\"NA-107\",\"NA-108\",\"NA-109\",\"NA-11\",\"NA-110\",\"NA-111\",\"NA-112\",\"NA-113\",\"NA-114\",\"NA-115\",\"NA-116\",\"NA-117\",\"NA-118\",\"NA-119\",\"NA-12\",\"NA-120\",\"NA-121\",\"NA-122\",\"NA-123\",\"NA-124\",\"NA-125\",\"NA-126\",\"NA-127\",\"NA-128\",\"NA-129\",\"NA-13\",\"NA-130\",\"NA-131\",\"NA-132\",\"NA-133\",\"NA-134\",\"NA-135\",\"NA-136\",\"NA-137\",\"NA-138\",\"NA-139\",\"NA-14\",\"NA-140\",\"NA-141\",\"NA-142\",\"NA-143\",\"NA-144\",\"NA-145\",\"NA-146\",\"NA-147\",\"NA-148\",\"NA-149\",\"NA-15\",\"NA-150\",\"NA-151\",\"NA-152\",\"NA-153\",\"NA-154\",\"NA-155\",\"NA-156\",\"NA-157\",\"NA-158\",\"NA-159\",\"NA-16\",\"NA-160\",\"NA-161\",\"NA-162\",\"NA-163\",\"NA-164\",\"NA-165\",\"NA-166\",\"NA-167\",\"NA-168\",\"NA-169\",\"NA-17\",\"NA-170\",\"NA-171\",\"NA-172\",\"NA-173\",\"NA-174\",\"NA-175\",\"NA-176\",\"NA-177\",\"NA-178\",\"NA-179\",\"NA-18\",\"NA-180\",\"NA-181\",\"NA-182\",\"NA-183\",\"NA-184\",\"NA-185\",\"NA-186\",\"NA-187\",\"NA-188\",\"NA-189\",\"NA-19\",\"NA-190\",\"NA-191\",\"NA-192\",\"NA-193\",\"NA-194\",\"NA-195\",\"NA-196\",\"NA-197\",\"NA-198\",\"NA-199\",\"NA-2\",\"NA-20\",\"NA-200\",\"NA-201\",\"NA-202\",\"NA-203\",\"NA-204\",\"NA-205\",\"NA-206\",\"NA-207\",\"NA-208\",\"NA-209\",\"NA-21\",\"NA-210\",\"NA-211\",\"NA-212\",\"NA-213\",\"NA-214\",\"NA-215\",\"NA-216\",\"NA-217\",\"NA-218\",\"NA-219\",\"NA-22\",\"NA-220\",\"NA-221\",\"NA-222\",\"NA-223\",\"NA-224\",\"NA-225\",\"NA-226\",\"NA-227\",\"NA-228\",\"NA-229\",\"NA-23\",\"NA-230\",\"NA-231\",\"NA-232\",\"NA-233\",\"NA-234\",\"NA-235\",\"NA-236\",\"NA-237\",\"NA-238\",\"NA-239\",\"NA-24\",\"NA-240\",\"NA-241\",\"NA-242\",\"NA-243\",\"NA-244\",\"NA-245\",\"NA-246\",\"NA-247\",\"NA-248\",\"NA-249\",\"NA-25\",\"NA-250\",\"NA-251\",\"NA-252\",\"NA-253\",\"NA-254\",\"NA-255\",\"NA-256\",\"NA-257\",\"NA-258\",\"NA-259\",\"NA-26\",\"NA-260\",\"NA-261\",\"NA-262\",\"NA-263\",\"NA-264\",\"NA-265\",\"NA-266\",\"NA-267\",\"NA-268\",\"NA-269\",\"NA-27\",\"NA-270\",\"NA-271\",\"NA-272\",\"NA-28\",\"NA-29\",\"NA-3\",\"NA-30\",\"NA-31\",\"NA-32\",\"NA-33\",\"NA-34\",\"NA-35\",\"NA-36\",\"NA-37\",\"NA-38\",\"NA-39\",\"NA-4\",\"NA-40\",\"NA-41\",\"NA-42\",\"NA-43\",\"NA-44\",\"NA-45\",\"NA-46\",\"NA-47\",\"NA-48\",\"NA-49\",\"NA-5\",\"NA-50\",\"NA-51\",\"NA-52\",\"NA-53\",\"NA-54\",\"NA-55\",\"NA-56\",\"NA-57\",\"NA-58\",\"NA-59\",\"NA-6\",\"NA-61\",\"NA-62\",\"NA-63\",\"NA-64\",\"NA-65\",\"NA-66\",\"NA-67\",\"NA-68\",\"NA-69\",\"NA-7\",\"NA-70\",\"NA-71\",\"NA-72\",\"NA-73\",\"NA-74\",\"NA-75\",\"NA-76\",\"NA-77\",\"NA-78\",\"NA-79\",\"NA-8\",\"NA-80\",\"NA-81\",\"NA-82\",\"NA-83\",\"NA-84\",\"NA-85\",\"NA-86\",\"NA-87\",\"NA-88\",\"NA-89\",\"NA-9\",\"NA-90\",\"NA-91\",\"NA-92\",\"NA-93\",\"NA-94\",\"NA-95\",\"NA-96\",\"NA-97\",\"NA-98\",\"NA-99\"],\"yaxis\":\"y\",\"type\":\"bar\"}],                        {\"template\":{\"data\":{\"histogram2dcontour\":[{\"type\":\"histogram2dcontour\",\"colorbar\":{\"outlinewidth\":0,\"ticks\":\"\"},\"colorscale\":[[0.0,\"#0d0887\"],[0.1111111111111111,\"#46039f\"],[0.2222222222222222,\"#7201a8\"],[0.3333333333333333,\"#9c179e\"],[0.4444444444444444,\"#bd3786\"],[0.5555555555555556,\"#d8576b\"],[0.6666666666666666,\"#ed7953\"],[0.7777777777777778,\"#fb9f3a\"],[0.8888888888888888,\"#fdca26\"],[1.0,\"#f0f921\"]]}],\"choropleth\":[{\"type\":\"choropleth\",\"colorbar\":{\"outlinewidth\":0,\"ticks\":\"\"}}],\"histogram2d\":[{\"type\":\"histogram2d\",\"colorbar\":{\"outlinewidth\":0,\"ticks\":\"\"},\"colorscale\":[[0.0,\"#0d0887\"],[0.1111111111111111,\"#46039f\"],[0.2222222222222222,\"#7201a8\"],[0.3333333333333333,\"#9c179e\"],[0.4444444444444444,\"#bd3786\"],[0.5555555555555556,\"#d8576b\"],[0.6666666666666666,\"#ed7953\"],[0.7777777777777778,\"#fb9f3a\"],[0.8888888888888888,\"#fdca26\"],[1.0,\"#f0f921\"]]}],\"heatmap\":[{\"type\":\"heatmap\",\"colorbar\":{\"outlinewidth\":0,\"ticks\":\"\"},\"colorscale\":[[0.0,\"#0d0887\"],[0.1111111111111111,\"#46039f\"],[0.2222222222222222,\"#7201a8\"],[0.3333333333333333,\"#9c179e\"],[0.4444444444444444,\"#bd3786\"],[0.5555555555555556,\"#d8576b\"],[0.6666666666666666,\"#ed7953\"],[0.7777777777777778,\"#fb9f3a\"],[0.8888888888888888,\"#fdca26\"],[1.0,\"#f0f921\"]]}],\"heatmapgl\":[{\"type\":\"heatmapgl\",\"colorbar\":{\"outlinewidth\":0,\"ticks\":\"\"},\"colorscale\":[[0.0,\"#0d0887\"],[0.1111111111111111,\"#46039f\"],[0.2222222222222222,\"#7201a8\"],[0.3333333333333333,\"#9c179e\"],[0.4444444444444444,\"#bd3786\"],[0.5555555555555556,\"#d8576b\"],[0.6666666666666666,\"#ed7953\"],[0.7777777777777778,\"#fb9f3a\"],[0.8888888888888888,\"#fdca26\"],[1.0,\"#f0f921\"]]}],\"contourcarpet\":[{\"type\":\"contourcarpet\",\"colorbar\":{\"outlinewidth\":0,\"ticks\":\"\"}}],\"contour\":[{\"type\":\"contour\",\"colorbar\":{\"outlinewidth\":0,\"ticks\":\"\"},\"colorscale\":[[0.0,\"#0d0887\"],[0.1111111111111111,\"#46039f\"],[0.2222222222222222,\"#7201a8\"],[0.3333333333333333,\"#9c179e\"],[0.4444444444444444,\"#bd3786\"],[0.5555555555555556,\"#d8576b\"],[0.6666666666666666,\"#ed7953\"],[0.7777777777777778,\"#fb9f3a\"],[0.8888888888888888,\"#fdca26\"],[1.0,\"#f0f921\"]]}],\"surface\":[{\"type\":\"surface\",\"colorbar\":{\"outlinewidth\":0,\"ticks\":\"\"},\"colorscale\":[[0.0,\"#0d0887\"],[0.1111111111111111,\"#46039f\"],[0.2222222222222222,\"#7201a8\"],[0.3333333333333333,\"#9c179e\"],[0.4444444444444444,\"#bd3786\"],[0.5555555555555556,\"#d8576b\"],[0.6666666666666666,\"#ed7953\"],[0.7777777777777778,\"#fb9f3a\"],[0.8888888888888888,\"#fdca26\"],[1.0,\"#f0f921\"]]}],\"mesh3d\":[{\"type\":\"mesh3d\",\"colorbar\":{\"outlinewidth\":0,\"ticks\":\"\"}}],\"scatter\":[{\"fillpattern\":{\"fillmode\":\"overlay\",\"size\":10,\"solidity\":0.2},\"type\":\"scatter\"}],\"parcoords\":[{\"type\":\"parcoords\",\"line\":{\"colorbar\":{\"outlinewidth\":0,\"ticks\":\"\"}}}],\"scatterpolargl\":[{\"type\":\"scatterpolargl\",\"marker\":{\"colorbar\":{\"outlinewidth\":0,\"ticks\":\"\"}}}],\"bar\":[{\"error_x\":{\"color\":\"#2a3f5f\"},\"error_y\":{\"color\":\"#2a3f5f\"},\"marker\":{\"line\":{\"color\":\"#E5ECF6\",\"width\":0.5},\"pattern\":{\"fillmode\":\"overlay\",\"size\":10,\"solidity\":0.2}},\"type\":\"bar\"}],\"scattergeo\":[{\"type\":\"scattergeo\",\"marker\":{\"colorbar\":{\"outlinewidth\":0,\"ticks\":\"\"}}}],\"scatterpolar\":[{\"type\":\"scatterpolar\",\"marker\":{\"colorbar\":{\"outlinewidth\":0,\"ticks\":\"\"}}}],\"histogram\":[{\"marker\":{\"pattern\":{\"fillmode\":\"overlay\",\"size\":10,\"solidity\":0.2}},\"type\":\"histogram\"}],\"scattergl\":[{\"type\":\"scattergl\",\"marker\":{\"colorbar\":{\"outlinewidth\":0,\"ticks\":\"\"}}}],\"scatter3d\":[{\"type\":\"scatter3d\",\"line\":{\"colorbar\":{\"outlinewidth\":0,\"ticks\":\"\"}},\"marker\":{\"colorbar\":{\"outlinewidth\":0,\"ticks\":\"\"}}}],\"scattermapbox\":[{\"type\":\"scattermapbox\",\"marker\":{\"colorbar\":{\"outlinewidth\":0,\"ticks\":\"\"}}}],\"scatterternary\":[{\"type\":\"scatterternary\",\"marker\":{\"colorbar\":{\"outlinewidth\":0,\"ticks\":\"\"}}}],\"scattercarpet\":[{\"type\":\"scattercarpet\",\"marker\":{\"colorbar\":{\"outlinewidth\":0,\"ticks\":\"\"}}}],\"carpet\":[{\"aaxis\":{\"endlinecolor\":\"#2a3f5f\",\"gridcolor\":\"white\",\"linecolor\":\"white\",\"minorgridcolor\":\"white\",\"startlinecolor\":\"#2a3f5f\"},\"baxis\":{\"endlinecolor\":\"#2a3f5f\",\"gridcolor\":\"white\",\"linecolor\":\"white\",\"minorgridcolor\":\"white\",\"startlinecolor\":\"#2a3f5f\"},\"type\":\"carpet\"}],\"table\":[{\"cells\":{\"fill\":{\"color\":\"#EBF0F8\"},\"line\":{\"color\":\"white\"}},\"header\":{\"fill\":{\"color\":\"#C8D4E3\"},\"line\":{\"color\":\"white\"}},\"type\":\"table\"}],\"barpolar\":[{\"marker\":{\"line\":{\"color\":\"#E5ECF6\",\"width\":0.5},\"pattern\":{\"fillmode\":\"overlay\",\"size\":10,\"solidity\":0.2}},\"type\":\"barpolar\"}],\"pie\":[{\"automargin\":true,\"type\":\"pie\"}]},\"layout\":{\"autotypenumbers\":\"strict\",\"colorway\":[\"#636efa\",\"#EF553B\",\"#00cc96\",\"#ab63fa\",\"#FFA15A\",\"#19d3f3\",\"#FF6692\",\"#B6E880\",\"#FF97FF\",\"#FECB52\"],\"font\":{\"color\":\"#2a3f5f\"},\"hovermode\":\"closest\",\"hoverlabel\":{\"align\":\"left\"},\"paper_bgcolor\":\"white\",\"plot_bgcolor\":\"#E5ECF6\",\"polar\":{\"bgcolor\":\"#E5ECF6\",\"angularaxis\":{\"gridcolor\":\"white\",\"linecolor\":\"white\",\"ticks\":\"\"},\"radialaxis\":{\"gridcolor\":\"white\",\"linecolor\":\"white\",\"ticks\":\"\"}},\"ternary\":{\"bgcolor\":\"#E5ECF6\",\"aaxis\":{\"gridcolor\":\"white\",\"linecolor\":\"white\",\"ticks\":\"\"},\"baxis\":{\"gridcolor\":\"white\",\"linecolor\":\"white\",\"ticks\":\"\"},\"caxis\":{\"gridcolor\":\"white\",\"linecolor\":\"white\",\"ticks\":\"\"}},\"coloraxis\":{\"colorbar\":{\"outlinewidth\":0,\"ticks\":\"\"}},\"colorscale\":{\"sequential\":[[0.0,\"#0d0887\"],[0.1111111111111111,\"#46039f\"],[0.2222222222222222,\"#7201a8\"],[0.3333333333333333,\"#9c179e\"],[0.4444444444444444,\"#bd3786\"],[0.5555555555555556,\"#d8576b\"],[0.6666666666666666,\"#ed7953\"],[0.7777777777777778,\"#fb9f3a\"],[0.8888888888888888,\"#fdca26\"],[1.0,\"#f0f921\"]],\"sequentialminus\":[[0.0,\"#0d0887\"],[0.1111111111111111,\"#46039f\"],[0.2222222222222222,\"#7201a8\"],[0.3333333333333333,\"#9c179e\"],[0.4444444444444444,\"#bd3786\"],[0.5555555555555556,\"#d8576b\"],[0.6666666666666666,\"#ed7953\"],[0.7777777777777778,\"#fb9f3a\"],[0.8888888888888888,\"#fdca26\"],[1.0,\"#f0f921\"]],\"diverging\":[[0,\"#8e0152\"],[0.1,\"#c51b7d\"],[0.2,\"#de77ae\"],[0.3,\"#f1b6da\"],[0.4,\"#fde0ef\"],[0.5,\"#f7f7f7\"],[0.6,\"#e6f5d0\"],[0.7,\"#b8e186\"],[0.8,\"#7fbc41\"],[0.9,\"#4d9221\"],[1,\"#276419\"]]},\"xaxis\":{\"gridcolor\":\"white\",\"linecolor\":\"white\",\"ticks\":\"\",\"title\":{\"standoff\":15},\"zerolinecolor\":\"white\",\"automargin\":true,\"zerolinewidth\":2},\"yaxis\":{\"gridcolor\":\"white\",\"linecolor\":\"white\",\"ticks\":\"\",\"title\":{\"standoff\":15},\"zerolinecolor\":\"white\",\"automargin\":true,\"zerolinewidth\":2},\"scene\":{\"xaxis\":{\"backgroundcolor\":\"#E5ECF6\",\"gridcolor\":\"white\",\"linecolor\":\"white\",\"showbackground\":true,\"ticks\":\"\",\"zerolinecolor\":\"white\",\"gridwidth\":2},\"yaxis\":{\"backgroundcolor\":\"#E5ECF6\",\"gridcolor\":\"white\",\"linecolor\":\"white\",\"showbackground\":true,\"ticks\":\"\",\"zerolinecolor\":\"white\",\"gridwidth\":2},\"zaxis\":{\"backgroundcolor\":\"#E5ECF6\",\"gridcolor\":\"white\",\"linecolor\":\"white\",\"showbackground\":true,\"ticks\":\"\",\"zerolinecolor\":\"white\",\"gridwidth\":2}},\"shapedefaults\":{\"line\":{\"color\":\"#2a3f5f\"}},\"annotationdefaults\":{\"arrowcolor\":\"#2a3f5f\",\"arrowhead\":0,\"arrowwidth\":1},\"geo\":{\"bgcolor\":\"white\",\"landcolor\":\"#E5ECF6\",\"subunitcolor\":\"white\",\"showland\":true,\"showlakes\":true,\"lakecolor\":\"white\"},\"title\":{\"x\":0.05},\"mapbox\":{\"style\":\"light\"}}},\"xaxis\":{\"anchor\":\"y\",\"domain\":[0.0,1.0],\"title\":{\"text\":\"Number of Candidates\"}},\"yaxis\":{\"anchor\":\"x\",\"domain\":[0.0,1.0],\"title\":{\"text\":\"Constituency\"}},\"legend\":{\"tracegroupgap\":0},\"title\":{\"text\":\"Number of Candidates per Constituency\"},\"barmode\":\"relative\"},                        {\"responsive\": true}                    ).then(function(){\n",
              "                            \n",
              "var gd = document.getElementById('22b129f3-06e1-4ed5-8c56-39d14aee7025');\n",
              "var x = new MutationObserver(function (mutations, observer) {{\n",
              "        var display = window.getComputedStyle(gd).display;\n",
              "        if (!display || display === 'none') {{\n",
              "            console.log([gd, 'removed!']);\n",
              "            Plotly.purge(gd);\n",
              "            observer.disconnect();\n",
              "        }}\n",
              "}});\n",
              "\n",
              "// Listen for the removal of the full notebook cells\n",
              "var notebookContainer = gd.closest('#notebook-container');\n",
              "if (notebookContainer) {{\n",
              "    x.observe(notebookContainer, {childList: true});\n",
              "}}\n",
              "\n",
              "// Listen for the clearing of the current output cell\n",
              "var outputEl = gd.closest('.output');\n",
              "if (outputEl) {{\n",
              "    x.observe(outputEl, {childList: true});\n",
              "}}\n",
              "\n",
              "                        })                };                            </script>        </div>\n",
              "</body>\n",
              "</html>"
            ]
          },
          "metadata": {}
        }
      ]
    }
  ]
}