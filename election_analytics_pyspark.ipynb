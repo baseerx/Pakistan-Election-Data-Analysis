{
  "nbformat": 4,
  "nbformat_minor": 0,
  "metadata": {
    "colab": {
      "provenance": [],
      "authorship_tag": "ABX9TyPVnoD6XMucZM/rW6h6UB33",
      "include_colab_link": true
    },
    "kernelspec": {
      "name": "python3",
      "display_name": "Python 3"
    },
    "language_info": {
      "name": "python"
    }
  },
  "cells": [
    {
      "cell_type": "markdown",
      "metadata": {
        "id": "view-in-github",
        "colab_type": "text"
      },
      "source": [
        "<a href=\"https://colab.research.google.com/github/baseerx/Pakistan-Election-Data-Analysis/blob/main/election_analytics_pyspark.ipynb\" target=\"_parent\"><img src=\"https://colab.research.google.com/assets/colab-badge.svg\" alt=\"Open In Colab\"/></a>"
      ]
    },
    {
      "cell_type": "code",
      "execution_count": null,
      "metadata": {
        "id": "PT3Jm1BhbIY2"
      },
      "outputs": [],
      "source": [
        "import pandas as pd\n",
        "import numpy as np\n",
        "import matplotlib.pyplot as plt\n",
        "import seaborn as sns\n",
        "#import pyspark\n",
        "from pyspark.sql import SparkSession\n",
        "from google.colab import drive\n"
      ]
    },
    {
      "cell_type": "code",
      "source": [
        "drive.mount('/content/drive')\n",
        "\n",
        "# Create Spark session\n",
        "spark = SparkSession.builder \\\n",
        "    .appName(\"ElectionData\") \\\n",
        "    .getOrCreate()"
      ],
      "metadata": {
        "colab": {
          "base_uri": "https://localhost:8080/"
        },
        "id": "EUB_OaTfgZW3",
        "outputId": "5ff0003a-8420-4edb-8a2e-ecc2d40302fb"
      },
      "execution_count": null,
      "outputs": [
        {
          "output_type": "stream",
          "name": "stdout",
          "text": [
            "Drive already mounted at /content/drive; to attempt to forcibly remount, call drive.mount(\"/content/drive\", force_remount=True).\n"
          ]
        }
      ]
    },
    {
      "cell_type": "code",
      "source": [
        "# Define the file paths\n",
        "file_path_2002 = 'National Assembly Result 2002.csv'\n",
        "file_path_2008 = 'National Assembly Result 2008.csv'\n",
        "file_path_2013 = 'National Assembly Result 2013.csv'\n",
        "file_path_2018 = 'National Assembly Results 2018.csv'\n",
        "\n",
        "\n"
      ],
      "metadata": {
        "id": "HVn3jm_VgfEO"
      },
      "execution_count": null,
      "outputs": []
    },
    {
      "cell_type": "code",
      "source": [
        "# Read the CSV files\n",
        "df02 = spark.read.csv(file_path_2002, header=True, inferSchema=True)\n",
        "df08 = spark.read.csv(file_path_2008, header=True, inferSchema=True)\n",
        "df13 = spark.read.csv(file_path_2013, header=True, inferSchema=True)\n",
        "df18 = spark.read.csv(file_path_2018, header=True, inferSchema=True)\n",
        "\n"
      ],
      "metadata": {
        "id": "dwqbD5vUiv08"
      },
      "execution_count": null,
      "outputs": []
    },
    {
      "cell_type": "code",
      "source": [
        "df02.show()"
      ],
      "metadata": {
        "id": "cPZbJF4kjNXW",
        "colab": {
          "base_uri": "https://localhost:8080/"
        },
        "outputId": "7c2e6ff0-da2a-4b2b-895b-46d51cc8e44b"
      },
      "execution_count": null,
      "outputs": [
        {
          "output_type": "stream",
          "name": "stdout",
          "text": [
            "+--------+------------+------------------+--------------------+--------------------+-----+-----------------+--------------------+-----------+-----------------------+-------+\n",
            "|District|        Seat|Constituency_title|      Candidate_Name|               Party|Votes|Total_Valid_Votes|Total_Rejected_Votes|Total_Votes|Total_Registered_Voters|Turnout|\n",
            "+--------+------------+------------------+--------------------+--------------------+-----+-----------------+--------------------+-----------+-----------------------+-------+\n",
            "|PESHAWAR|  PESHAWAR-I|              NA-1|   Mr Sajid Abdullah|Pakistan Tehreek-...| 2029|            65642|                1552|      67194|                 233907|  28.73|\n",
            "|PESHAWAR|  PESHAWAR-I|              NA-1|     Mr Shabir Ahmad|Muttahidda Majlis...|37179|            65642|                1552|      67194|                 233907|  28.73|\n",
            "|PESHAWAR|  PESHAWAR-I|              NA-1|Mr Usman Bashir B...|Awami National Party|23002|            65642|                1552|      67194|                 233907|  28.73|\n",
            "|PESHAWAR|  PESHAWAR-I|              NA-1|Mr Muhammad Khurs...|         Independent| 1537|            65642|                1552|      67194|                 233907|  28.73|\n",
            "|PESHAWAR|  PESHAWAR-I|              NA-1|Mr Muhammad Muazz...|Pakistan Muslim L...| 1417|            65642|                1552|      67194|                 233907|  28.73|\n",
            "|PESHAWAR| PESHAWAR-II|              NA-2|Dr Arbab Alamgir ...|Pakistan Peoples ...|15771|            56000|                1367|      57367|                 216587|  26.49|\n",
            "|PESHAWAR| PESHAWAR-II|              NA-2|Mr Abdul Manan Ak...|Pakistan Peoples ...|  926|            56000|                1367|      57367|                 216587|  26.49|\n",
            "|PESHAWAR| PESHAWAR-II|              NA-2|Maulana Rehmat Ullah|Muttahidda Majlis...|37728|            56000|                1367|      57367|                 216587|  26.49|\n",
            "|PESHAWAR|PESHAWAR-III|              NA-3|Mr Arbab Muhammad...|   National Alliance| 8838|            67357|                1955|      69312|                 226299|  30.63|\n",
            "|PESHAWAR|PESHAWAR-III|              NA-3|Mr Iqbal Zafar Jh...|Pakistan Muslim L...| 5956|            67357|                1955|      69312|                 226299|  30.63|\n",
            "|PESHAWAR|PESHAWAR-III|              NA-3|Mr Saleem Akbar Khan|Pakistan Awami Te...|  748|            67357|                1955|      69312|                 226299|  30.63|\n",
            "|PESHAWAR|PESHAWAR-III|              NA-3|Qari Fayazur Rehm...|Muttahidda Majlis...|33567|            67357|                1955|      69312|                 226299|  30.63|\n",
            "|PESHAWAR|PESHAWAR-III|              NA-3|Mr Kiramatullah Khan|Pakistan Peoples ...|14662|            67357|                1955|      69312|                 226299|  30.63|\n",
            "|PESHAWAR|PESHAWAR-III|              NA-3|Mr Hidayatullah Khan|Pakistan Peoples ...| 3403|            67357|                1955|      69312|                 226299|  30.63|\n",
            "|PESHAWAR| PESHAWAR-IV|              NA-4|Mr Arbab Muhammad...|Awami National Party|16660|            63597|                2226|      65823|                 222276|  29.61|\n",
            "|PESHAWAR| PESHAWAR-IV|              NA-4|Mr Arbab Shabeer ...|Pakistan Muslim L...| 6266|            63597|                2226|      65823|                 222276|  29.61|\n",
            "|PESHAWAR| PESHAWAR-IV|              NA-4|    Haji Abdur Raziq|Pakistan Muslim L...| 4887|            63597|                2226|      65823|                 222276|  29.61|\n",
            "|PESHAWAR| PESHAWAR-IV|              NA-4|Haji Javed Iqbal ...|Pakistan Tehreek-...| 4500|            63597|                2226|      65823|                 222276|  29.61|\n",
            "|PESHAWAR| PESHAWAR-IV|              NA-4|Mr Muhammad Intik...|Pakistan Muslim L...| 2556|            63597|                2226|      65823|                 222276|  29.61|\n",
            "|NOWSHERA|  NOWSHERA-I|              NA-5|Mian Rashid Ali Shah|Awami National Party|11944|            75012|                2153|      77165|                 206271|  37.41|\n",
            "+--------+------------+------------------+--------------------+--------------------+-----+-----------------+--------------------+-----------+-----------------------+-------+\n",
            "only showing top 20 rows\n",
            "\n"
          ]
        }
      ]
    },
    {
      "cell_type": "code",
      "source": [],
      "metadata": {
        "id": "Jqnznps3kSdl"
      },
      "execution_count": null,
      "outputs": []
    }
  ]
}