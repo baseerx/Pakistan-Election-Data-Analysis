{
  "nbformat": 4,
  "nbformat_minor": 0,
  "metadata": {
    "colab": {
      "provenance": [],
      "gpuType": "V28",
      "mount_file_id": "1qDLfThrk0FonZgznfn53R1b1DHnEdYtc",
      "authorship_tag": "ABX9TyP3pV3F+U0hH86GCR6aor8j",
      "include_colab_link": true
    },
    "kernelspec": {
      "name": "python3",
      "display_name": "Python 3"
    },
    "language_info": {
      "name": "python"
    },
    "accelerator": "TPU"
  },
  "cells": [
    {
      "cell_type": "markdown",
      "metadata": {
        "id": "view-in-github",
        "colab_type": "text"
      },
      "source": [
        "<a href=\"https://colab.research.google.com/github/baseerx/Pakistan-Election-Data-Analysis/blob/main/election_analytics_pyspark.ipynb\" target=\"_parent\"><img src=\"https://colab.research.google.com/assets/colab-badge.svg\" alt=\"Open In Colab\"/></a>"
      ]
    },
    {
      "cell_type": "code",
      "execution_count": 5,
      "metadata": {
        "id": "PT3Jm1BhbIY2"
      },
      "outputs": [],
      "source": [
        "import pandas as pd\n",
        "import numpy as np\n",
        "import matplotlib.pyplot as plt\n",
        "import seaborn as sns\n",
        "import pyspark\n",
        "from pyspark.sql import SparkSession\n",
        "from google.colab import drive\n"
      ]
    },
    {
      "cell_type": "code",
      "source": [
        "drive.mount('/content/gdrive')\n",
        "\n",
        "# Create Spark session\n",
        "spark = SparkSession.builder \\\n",
        "    .appName(\"ElectionData\") \\\n",
        "    .getOrCreate()"
      ],
      "metadata": {
        "colab": {
          "base_uri": "https://localhost:8080/"
        },
        "id": "EUB_OaTfgZW3",
        "outputId": "5f9a8c63-2399-48b0-ea10-291be7059186"
      },
      "execution_count": 18,
      "outputs": [
        {
          "output_type": "stream",
          "name": "stdout",
          "text": [
            "Drive already mounted at /content/gdrive; to attempt to forcibly remount, call drive.mount(\"/content/gdrive\", force_remount=True).\n"
          ]
        }
      ]
    },
    {
      "cell_type": "code",
      "source": [
        "# Define the file paths\n",
        "file_path_2002 = '/content/gdrive/MyDrive/Colab Notebooks/Data/National Assembly Result 2002.csv'\n",
        "file_path_2008 = '/content/gdrive/MyDrive/Colab Notebooks/Data/National Assembly Result 2008.csv'\n",
        "file_path_2013 = '/content/gdrive/MyDrive/Colab Notebooks/Data/National Assembly Result 2013.csv'\n",
        "file_path_2018 = '/content/gdrive/MyDrive/Colab Notebooks/Data/National Assembly Results 2018.csv'\n",
        "\n",
        "\n"
      ],
      "metadata": {
        "id": "HVn3jm_VgfEO"
      },
      "execution_count": 19,
      "outputs": []
    },
    {
      "cell_type": "code",
      "source": [
        "# Read the CSV files\n",
        "df02 = spark.read.csv(file_path_2002, header=True, inferSchema=True)\n",
        "df08 = spark.read.csv(file_path_2008, header=True, inferSchema=True)\n",
        "df13 = spark.read.csv(file_path_2013, header=True, inferSchema=True)\n",
        "df18 = spark.read.csv(file_path_2018, header=True, inferSchema=True)\n",
        "\n"
      ],
      "metadata": {
        "id": "dwqbD5vUiv08"
      },
      "execution_count": 20,
      "outputs": []
    },
    {
      "cell_type": "code",
      "source": [
        "df02.describe()"
      ],
      "metadata": {
        "id": "cPZbJF4kjNXW",
        "colab": {
          "base_uri": "https://localhost:8080/"
        },
        "outputId": "108ddd9d-dea0-4f0c-9077-a40a2d532b9f"
      },
      "execution_count": 21,
      "outputs": [
        {
          "output_type": "execute_result",
          "data": {
            "text/plain": [
              "DataFrame[summary: string, District: string, Seat: string, Constituency_title: string, Candidate_Name: string, Party: string, Votes: string, Total_Valid_Votes: string, Total_Rejected_Votes: string, Total_Votes: string, Total_Registered_Voters: string, Turnout: string]"
            ]
          },
          "metadata": {},
          "execution_count": 21
        }
      ]
    },
    {
      "cell_type": "code",
      "source": [],
      "metadata": {
        "id": "Jqnznps3kSdl"
      },
      "execution_count": null,
      "outputs": []
    }
  ]
}